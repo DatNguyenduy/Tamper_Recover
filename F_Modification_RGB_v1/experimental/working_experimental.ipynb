{
 "cells": [
  {
   "cell_type": "code",
   "execution_count": 21,
   "metadata": {},
   "outputs": [],
   "source": [
    "import sys\n",
    "import os\n",
    "sys.path.append(\"../code/\")\n",
    "import cv2\n",
    "from skimage.metrics import structural_similarity as ssim\n",
    "import numpy as np\n",
    "from matplotlib import pyplot as plt\n",
    "from tabulate import tabulate\n",
    "import os\n",
    "import pandas as pd\n",
    "import json\n",
    "import dataframe_image as dfi\n",
    "from forwardFv1 import wm_au_emb\n",
    "from detectFv1 import *\n",
    "from recoveryFv1 import *\n",
    "from sklearn.metrics import precision_score,recall_score"
   ]
  },
  {
   "cell_type": "code",
   "execution_count": null,
   "metadata": {},
   "outputs": [],
   "source": []
  },
  {
   "cell_type": "code",
   "execution_count": 22,
   "metadata": {},
   "outputs": [],
   "source": [
    "root_dir = \"D:\\\\Dat_Hoctap\\\\2023\\\\Tamper_Recover\\\\A_Data\\\\Data8Images\"\n",
    "list_paths = []\n",
    "for subdir, dirs, files in os.walk(root_dir):\n",
    "    for file in files:\n",
    "        list_paths.append(os.path.join(subdir, file))"
   ]
  },
  {
   "cell_type": "code",
   "execution_count": 23,
   "metadata": {},
   "outputs": [
    {
     "name": "stdout",
     "output_type": "stream",
     "text": [
      "['D:\\\\Dat_Hoctap\\\\2023\\\\Tamper_Recover\\\\A_Data\\\\Data8Images\\\\airplane.png', 'D:\\\\Dat_Hoctap\\\\2023\\\\Tamper_Recover\\\\A_Data\\\\Data8Images\\\\baboon.png', 'D:\\\\Dat_Hoctap\\\\2023\\\\Tamper_Recover\\\\A_Data\\\\Data8Images\\\\house.tiff', 'D:\\\\Dat_Hoctap\\\\2023\\\\Tamper_Recover\\\\A_Data\\\\Data8Images\\\\lena.png', 'D:\\\\Dat_Hoctap\\\\2023\\\\Tamper_Recover\\\\A_Data\\\\Data8Images\\\\peppers.png', 'D:\\\\Dat_Hoctap\\\\2023\\\\Tamper_Recover\\\\A_Data\\\\Data8Images\\\\sailboat.tiff', 'D:\\\\Dat_Hoctap\\\\2023\\\\Tamper_Recover\\\\A_Data\\\\Data8Images\\\\splash.tiff', 'D:\\\\Dat_Hoctap\\\\2023\\\\Tamper_Recover\\\\A_Data\\\\Data8Images\\\\tiffany.bmp']\n"
     ]
    }
   ],
   "source": [
    "print(list_paths)"
   ]
  },
  {
   "cell_type": "code",
   "execution_count": 24,
   "metadata": {},
   "outputs": [],
   "source": [
    "list_img = []\n",
    "for i in range(len(list_paths)):\n",
    "    img = cv2.imread(list_paths[i])\n",
    "    list_img.append(img)"
   ]
  },
  {
   "cell_type": "code",
   "execution_count": 25,
   "metadata": {},
   "outputs": [],
   "source": [
    "key = (13,137,811)\n",
    "list_w_img=[]\n",
    "for i in range(len(list_paths)):\n",
    "    img = cv2.imread(list_paths[i])\n",
    "    w_img = wm_au_emb(img,key=key)\n",
    "    list_w_img.append(w_img)"
   ]
  },
  {
   "cell_type": "code",
   "execution_count": 26,
   "metadata": {},
   "outputs": [],
   "source": [
    "w_PSNR=[]\n",
    "w_SSIM=[]\n",
    "for i in range(len(list_img)):\n",
    "    w_PSNR.append(cv2.PSNR(list_img[i],list_w_img[i]))\n",
    "    w_SSIM.append(ssim(cv2.cvtColor(list_img[i],cv2.COLOR_BGR2GRAY),cv2.cvtColor(list_w_img[i],cv2.COLOR_BGR2GRAY)))"
   ]
  },
  {
   "cell_type": "code",
   "execution_count": 27,
   "metadata": {},
   "outputs": [
    {
     "name": "stdout",
     "output_type": "stream",
     "text": [
      "46.25427068599326\n",
      "[0.9926808084152747, 0.9980711604196131, 0.9946383141094459, 0.9937209599890108, 0.9939592251156862, 0.9954525047825709, 0.9917258726174685, 0.9927672299074065]\n"
     ]
    }
   ],
   "source": [
    "print(np.mean(w_PSNR))\n",
    "print(w_SSIM)"
   ]
  },
  {
   "cell_type": "code",
   "execution_count": 28,
   "metadata": {},
   "outputs": [],
   "source": [
    "# df_all_PSNR.to_csv(\"results/PSNR_Watermarked_Images.csv\")\n",
    "# df_all_ssim.to_csv(\"results/SSIM_Watermarked_Images.csv\")"
   ]
  },
  {
   "cell_type": "code",
   "execution_count": 29,
   "metadata": {},
   "outputs": [],
   "source": [
    "N = 512\n",
    "np.random.seed(1)\n",
    "t_all_image = np.random.randint(\n",
    "    low=0, \n",
    "    high=256,\n",
    "    size=(N, N, 3),\n",
    "    dtype=np.uint8\n",
    ")"
   ]
  },
  {
   "cell_type": "code",
   "execution_count": 30,
   "metadata": {},
   "outputs": [
    {
     "name": "stdout",
     "output_type": "stream",
     "text": [
      "[81, 114, 140, 162, 181, 198, 214, 229]\n"
     ]
    }
   ],
   "source": [
    "list_tr = [10,20,30,40,50,60,70,80]\n",
    "list_d = []\n",
    "for i in range(len(list_tr)):\n",
    "    list_d.append(int(np.sqrt(512*512*list_tr[i]/100)/2+ 0.5))\n",
    "print(list_d)"
   ]
  },
  {
   "cell_type": "code",
   "execution_count": 31,
   "metadata": {},
   "outputs": [],
   "source": [
    "list_PSNR_Recovered_all = []\n",
    "list_SSIM_Recovered_all = []\n",
    "list_PSNR_Recovered_all_w_original = []\n",
    "list_SSIM_Recovered_all_w_original = []\n",
    "for itr in range(len(list_d)):\n",
    "    list_PSNR = []\n",
    "    list_SSIM = []\n",
    "    list_PSNR_original = []\n",
    "    list_SSIM_original = []\n",
    "    for index_img in range(len(list_w_img)):\n",
    "        t_img = list_w_img[index_img].copy()\n",
    "        d = list_d[itr]\n",
    "        t_img[256-d:256+d,256-d:256+d,:] =  t_all_image[256-d:256+d,256-d:256+d,:]\n",
    "        lv1_matrix = level_one_detection(t_img)\n",
    "        lv2_matrix = lv1_matrix.copy()\n",
    "        lv3_matrix = lv1_matrix.copy()\n",
    "        for channel in range(3):\n",
    "            lv2_matrix[:,:,channel] = level_two_detection(lv1_matrix[:,:,channel])\n",
    "            lv3_matrix[:,:,channel] = level_three_detection(lv2_matrix[:,:,channel])\n",
    "        r1_img,lv4_BGR= stage1_recovery(t_img=t_img,key=(13,137,811))\n",
    "        r2_img,lv5_BGR = stage2_recovery(r1_img=r1_img,lv4_matrix=lv4_BGR)\n",
    "        mask1 = np.zeros((512,512),dtype = np.uint8)\n",
    "        for i in range(512):\n",
    "            for j in range(512):\n",
    "                if not lv5_BGR[int(i/1),int(j/1),0]:\n",
    "                    mask1[i,j] = 255\n",
    "        mask2 = np.zeros((512,512),dtype = np.uint8)\n",
    "        for i in range(512):\n",
    "            for j in range(512):\n",
    "                if not lv5_BGR[int(i/1),int(j/1),1]:\n",
    "                    mask2[i,j] = 255\n",
    "        mask3 = np.zeros((512,512),dtype = np.uint8)\n",
    "        for i in range(512):\n",
    "            for j in range(512):\n",
    "                if not lv5_BGR[int(i/1),int(j/1),2]:\n",
    "                    mask3[i,j] = 255\n",
    "        r3_img = r2_img.copy()\n",
    "        r3_img[:,:,0] = cv2.inpaint(r2_img[:,:,0],mask1,0,cv2.INPAINT_TELEA)\n",
    "        r3_img[:,:,1] = cv2.inpaint(r2_img[:,:,1],mask2,0,cv2.INPAINT_TELEA)\n",
    "        r3_img[:,:,2] = cv2.inpaint(r2_img[:,:,2],mask3,0,cv2.INPAINT_TELEA)\n",
    "        list_PSNR.append(cv2.PSNR(r3_img,list_w_img[index_img]))\n",
    "        list_SSIM.append(ssim(cv2.cvtColor(r3_img,cv2.COLOR_BGR2GRAY),cv2.cvtColor(list_w_img[index_img],cv2.COLOR_BGR2GRAY)))\n",
    "        list_PSNR_original.append(cv2.PSNR(r3_img,list_img[index_img]))\n",
    "        list_SSIM_original.append(ssim(cv2.cvtColor(r3_img,cv2.COLOR_BGR2GRAY),cv2.cvtColor(list_img[index_img],cv2.COLOR_BGR2GRAY)))\n",
    "    list_PSNR_Recovered_all.append(list_PSNR)\n",
    "    list_SSIM_Recovered_all.append(list_SSIM)\n",
    "    list_PSNR_Recovered_all_w_original.append(list_PSNR_original)\n",
    "    list_SSIM_Recovered_all_w_original.append(list_SSIM_original)"
   ]
  },
  {
   "cell_type": "code",
   "execution_count": null,
   "metadata": {},
   "outputs": [],
   "source": [
    "list_image_name =  ['Airplane', 'Baboon', 'House', 'Lena','Peppers','Sailboat','Splash','Tiffany','Average']"
   ]
  },
  {
   "cell_type": "code",
   "execution_count": null,
   "metadata": {},
   "outputs": [
    {
     "data": {
      "text/plain": [
       "[]"
      ]
     },
     "execution_count": 16,
     "metadata": {},
     "output_type": "execute_result"
    }
   ],
   "source": [
    "list_PSNR_Recovered_all[0]"
   ]
  },
  {
   "cell_type": "code",
   "execution_count": null,
   "metadata": {},
   "outputs": [
    {
     "data": {
      "text/plain": [
       "nan"
      ]
     },
     "execution_count": 17,
     "metadata": {},
     "output_type": "execute_result"
    }
   ],
   "source": [
    "np.mean(list_PSNR_Recovered_all_w_original[0])"
   ]
  },
  {
   "cell_type": "code",
   "execution_count": null,
   "metadata": {},
   "outputs": [
    {
     "name": "stdout",
     "output_type": "stream",
     "text": [
      "nan\n"
     ]
    }
   ],
   "source": [
    "print(np.mean(list_PSNR_Recovered_all[2]))"
   ]
  },
  {
   "cell_type": "code",
   "execution_count": null,
   "metadata": {},
   "outputs": [],
   "source": [
    "dict_PSNR = {}\n",
    "dict_SSIM = {}"
   ]
  },
  {
   "cell_type": "code",
   "execution_count": null,
   "metadata": {},
   "outputs": [
    {
     "ename": "IndexError",
     "evalue": "list index out of range",
     "output_type": "error",
     "traceback": [
      "\u001b[1;31m---------------------------------------------------------------------------\u001b[0m",
      "\u001b[1;31mIndexError\u001b[0m                                Traceback (most recent call last)",
      "\u001b[1;32md:\\Dat_Hoctap\\2023\\Tamper_Recover\\F_Modification_RGB_v1\\experimental\\working_experimental.ipynb Cell 17\u001b[0m in \u001b[0;36m2\n\u001b[0;32m      <a href='vscode-notebook-cell:/d%3A/Dat_Hoctap/2023/Tamper_Recover/F_Modification_RGB_v1/experimental/working_experimental.ipynb#X22sZmlsZQ%3D%3D?line=0'>1</a>\u001b[0m \u001b[39mfor\u001b[39;00m i \u001b[39min\u001b[39;00m \u001b[39mrange\u001b[39m(\u001b[39m8\u001b[39m):\n\u001b[1;32m----> <a href='vscode-notebook-cell:/d%3A/Dat_Hoctap/2023/Tamper_Recover/F_Modification_RGB_v1/experimental/working_experimental.ipynb#X22sZmlsZQ%3D%3D?line=1'>2</a>\u001b[0m     dict_PSNR[list_image_name[i]] \u001b[39m=\u001b[39m [list_PSNR_Recovered_all[j][i] \u001b[39mfor\u001b[39;00m j \u001b[39min\u001b[39;00m \u001b[39mrange\u001b[39m(\u001b[39m8\u001b[39m)]\n\u001b[0;32m      <a href='vscode-notebook-cell:/d%3A/Dat_Hoctap/2023/Tamper_Recover/F_Modification_RGB_v1/experimental/working_experimental.ipynb#X22sZmlsZQ%3D%3D?line=2'>3</a>\u001b[0m dict_PSNR[list_image_name[\u001b[39m8\u001b[39m]] \u001b[39m=\u001b[39m [np\u001b[39m.\u001b[39mmean(list_PSNR_Recovered_all[j]) \u001b[39mfor\u001b[39;00m j \u001b[39min\u001b[39;00m \u001b[39mrange\u001b[39m(\u001b[39m8\u001b[39m)]\n",
      "\u001b[1;32md:\\Dat_Hoctap\\2023\\Tamper_Recover\\F_Modification_RGB_v1\\experimental\\working_experimental.ipynb Cell 17\u001b[0m in \u001b[0;36m2\n\u001b[0;32m      <a href='vscode-notebook-cell:/d%3A/Dat_Hoctap/2023/Tamper_Recover/F_Modification_RGB_v1/experimental/working_experimental.ipynb#X22sZmlsZQ%3D%3D?line=0'>1</a>\u001b[0m \u001b[39mfor\u001b[39;00m i \u001b[39min\u001b[39;00m \u001b[39mrange\u001b[39m(\u001b[39m8\u001b[39m):\n\u001b[1;32m----> <a href='vscode-notebook-cell:/d%3A/Dat_Hoctap/2023/Tamper_Recover/F_Modification_RGB_v1/experimental/working_experimental.ipynb#X22sZmlsZQ%3D%3D?line=1'>2</a>\u001b[0m     dict_PSNR[list_image_name[i]] \u001b[39m=\u001b[39m [list_PSNR_Recovered_all[j][i] \u001b[39mfor\u001b[39;00m j \u001b[39min\u001b[39;00m \u001b[39mrange\u001b[39m(\u001b[39m8\u001b[39m)]\n\u001b[0;32m      <a href='vscode-notebook-cell:/d%3A/Dat_Hoctap/2023/Tamper_Recover/F_Modification_RGB_v1/experimental/working_experimental.ipynb#X22sZmlsZQ%3D%3D?line=2'>3</a>\u001b[0m dict_PSNR[list_image_name[\u001b[39m8\u001b[39m]] \u001b[39m=\u001b[39m [np\u001b[39m.\u001b[39mmean(list_PSNR_Recovered_all[j]) \u001b[39mfor\u001b[39;00m j \u001b[39min\u001b[39;00m \u001b[39mrange\u001b[39m(\u001b[39m8\u001b[39m)]\n",
      "\u001b[1;31mIndexError\u001b[0m: list index out of range"
     ]
    }
   ],
   "source": [
    "for i in range(8):\n",
    "    dict_PSNR[list_image_name[i]] = [list_PSNR_Recovered_all[j][i] for j in range(8)]\n",
    "dict_PSNR[list_image_name[8]] = [np.mean(list_PSNR_Recovered_all[j]) for j in range(8)]"
   ]
  },
  {
   "cell_type": "code",
   "execution_count": null,
   "metadata": {},
   "outputs": [],
   "source": [
    "for i in range(8):\n",
    "    dict_SSIM[list_image_name[i]] = [list_SSIM_Recovered_all[j][i] for j in range(8)]\n",
    "dict_SSIM[list_image_name[8]] = [np.mean(list_SSIM_Recovered_all[j]) for j in range(8)]"
   ]
  },
  {
   "cell_type": "code",
   "execution_count": null,
   "metadata": {},
   "outputs": [
    {
     "name": "stdout",
     "output_type": "stream",
     "text": [
      "[39.68521155992695, 37.29263947510198, 33.617306062972276, 29.608528969644226, 26.899189923999934, 25.190987732237566, 23.718890459348714, 22.26769070627691]\n"
     ]
    }
   ],
   "source": [
    "print(dict_PSNR['Average'])"
   ]
  },
  {
   "cell_type": "code",
   "execution_count": null,
   "metadata": {},
   "outputs": [],
   "source": [
    "df_PSNR_all = pd.DataFrame.from_dict(dict_PSNR)"
   ]
  },
  {
   "cell_type": "code",
   "execution_count": null,
   "metadata": {},
   "outputs": [],
   "source": [
    "df_SSIM_all = pd.DataFrame.from_dict(dict_SSIM)"
   ]
  },
  {
   "cell_type": "code",
   "execution_count": null,
   "metadata": {},
   "outputs": [],
   "source": [
    "df_SSIM_all.to_csv(\"SSIM_all_recovered1.csv\")"
   ]
  },
  {
   "cell_type": "code",
   "execution_count": null,
   "metadata": {},
   "outputs": [],
   "source": [
    "df_PSNR_all.to_csv(\"PSNR_all_recovered1.csv\")"
   ]
  },
  {
   "cell_type": "code",
   "execution_count": null,
   "metadata": {},
   "outputs": [],
   "source": [
    "def highlight_max(s):\n",
    "    # Get 5 largest values of the column\n",
    "    is_large1 = s.nlargest(1).values\n",
    "    is_large2 = s.nlargest(2).values\n",
    "    # Apply style is the current value is among the 5 biggest values\n",
    "    return ['color: DarkRed;font-weight:900' if v in is_large1 else 'font-weight:900' if v in is_large2 else '' for v in s]"
   ]
  },
  {
   "cell_type": "code",
   "execution_count": null,
   "metadata": {},
   "outputs": [],
   "source": [
    "# hl_df_ssim = df_all_ssim.style.apply(highlight_max,subset=df_all_ssim.columns[1:],axis = 1).apply(lambda x: ['background: lightgreen' if x.name == 8 else '' for i in x], \n",
    "#                axis=1)"
   ]
  },
  {
   "cell_type": "code",
   "execution_count": null,
   "metadata": {},
   "outputs": [
    {
     "name": "stderr",
     "output_type": "stream",
     "text": [
      "C:\\Users\\61092\\AppData\\Local\\Temp\\ipykernel_6064\\3007742081.py:3: FutureWarning: this method is deprecated in favour of `Styler.hide(axis=\"index\")`\n",
      "  hl_df_PSNR_all.hide_index()\n"
     ]
    },
    {
     "data": {
      "text/html": [
       "<style type=\"text/css\">\n",
       "#T_9721a_row0_col6, #T_9721a_row1_col6, #T_9721a_row2_col6, #T_9721a_row3_col7, #T_9721a_row4_col7, #T_9721a_row5_col7, #T_9721a_row6_col7, #T_9721a_row7_col7 {\n",
       "  color: DarkRed;\n",
       "  font-weight: 900;\n",
       "}\n",
       "#T_9721a_row0_col7, #T_9721a_row1_col7, #T_9721a_row2_col7, #T_9721a_row3_col6, #T_9721a_row4_col6, #T_9721a_row5_col6, #T_9721a_row6_col6, #T_9721a_row7_col6 {\n",
       "  font-weight: 900;\n",
       "}\n",
       "</style>\n",
       "<table id=\"T_9721a\">\n",
       "  <thead>\n",
       "    <tr>\n",
       "      <th id=\"T_9721a_level0_col0\" class=\"col_heading level0 col0\" >Airplane</th>\n",
       "      <th id=\"T_9721a_level0_col1\" class=\"col_heading level0 col1\" >Baboon</th>\n",
       "      <th id=\"T_9721a_level0_col2\" class=\"col_heading level0 col2\" >House</th>\n",
       "      <th id=\"T_9721a_level0_col3\" class=\"col_heading level0 col3\" >Lena</th>\n",
       "      <th id=\"T_9721a_level0_col4\" class=\"col_heading level0 col4\" >Peppers</th>\n",
       "      <th id=\"T_9721a_level0_col5\" class=\"col_heading level0 col5\" >Sailboat</th>\n",
       "      <th id=\"T_9721a_level0_col6\" class=\"col_heading level0 col6\" >Splash</th>\n",
       "      <th id=\"T_9721a_level0_col7\" class=\"col_heading level0 col7\" >Tiffany</th>\n",
       "      <th id=\"T_9721a_level0_col8\" class=\"col_heading level0 col8\" >Average</th>\n",
       "    </tr>\n",
       "  </thead>\n",
       "  <tbody>\n",
       "    <tr>\n",
       "      <td id=\"T_9721a_row0_col0\" class=\"data row0 col0\" >38.60</td>\n",
       "      <td id=\"T_9721a_row0_col1\" class=\"data row0 col1\" >38.48</td>\n",
       "      <td id=\"T_9721a_row0_col2\" class=\"data row0 col2\" >37.74</td>\n",
       "      <td id=\"T_9721a_row0_col3\" class=\"data row0 col3\" >39.68</td>\n",
       "      <td id=\"T_9721a_row0_col4\" class=\"data row0 col4\" >39.18</td>\n",
       "      <td id=\"T_9721a_row0_col5\" class=\"data row0 col5\" >37.82</td>\n",
       "      <td id=\"T_9721a_row0_col6\" class=\"data row0 col6\" >44.61</td>\n",
       "      <td id=\"T_9721a_row0_col7\" class=\"data row0 col7\" >41.37</td>\n",
       "      <td id=\"T_9721a_row0_col8\" class=\"data row0 col8\" >39.69</td>\n",
       "    </tr>\n",
       "    <tr>\n",
       "      <td id=\"T_9721a_row1_col0\" class=\"data row1 col0\" >36.69</td>\n",
       "      <td id=\"T_9721a_row1_col1\" class=\"data row1 col1\" >35.03</td>\n",
       "      <td id=\"T_9721a_row1_col2\" class=\"data row1 col2\" >35.52</td>\n",
       "      <td id=\"T_9721a_row1_col3\" class=\"data row1 col3\" >36.87</td>\n",
       "      <td id=\"T_9721a_row1_col4\" class=\"data row1 col4\" >37.35</td>\n",
       "      <td id=\"T_9721a_row1_col5\" class=\"data row1 col5\" >35.25</td>\n",
       "      <td id=\"T_9721a_row1_col6\" class=\"data row1 col6\" >42.33</td>\n",
       "      <td id=\"T_9721a_row1_col7\" class=\"data row1 col7\" >39.29</td>\n",
       "      <td id=\"T_9721a_row1_col8\" class=\"data row1 col8\" >37.29</td>\n",
       "    </tr>\n",
       "    <tr>\n",
       "      <td id=\"T_9721a_row2_col0\" class=\"data row2 col0\" >33.53</td>\n",
       "      <td id=\"T_9721a_row2_col1\" class=\"data row2 col1\" >29.56</td>\n",
       "      <td id=\"T_9721a_row2_col2\" class=\"data row2 col2\" >32.38</td>\n",
       "      <td id=\"T_9721a_row2_col3\" class=\"data row2 col3\" >33.20</td>\n",
       "      <td id=\"T_9721a_row2_col4\" class=\"data row2 col4\" >34.85</td>\n",
       "      <td id=\"T_9721a_row2_col5\" class=\"data row2 col5\" >31.44</td>\n",
       "      <td id=\"T_9721a_row2_col6\" class=\"data row2 col6\" >37.09</td>\n",
       "      <td id=\"T_9721a_row2_col7\" class=\"data row2 col7\" >36.90</td>\n",
       "      <td id=\"T_9721a_row2_col8\" class=\"data row2 col8\" >33.62</td>\n",
       "    </tr>\n",
       "    <tr>\n",
       "      <td id=\"T_9721a_row3_col0\" class=\"data row3 col0\" >29.41</td>\n",
       "      <td id=\"T_9721a_row3_col1\" class=\"data row3 col1\" >25.37</td>\n",
       "      <td id=\"T_9721a_row3_col2\" class=\"data row3 col2\" >27.84</td>\n",
       "      <td id=\"T_9721a_row3_col3\" class=\"data row3 col3\" >29.73</td>\n",
       "      <td id=\"T_9721a_row3_col4\" class=\"data row3 col4\" >30.84</td>\n",
       "      <td id=\"T_9721a_row3_col5\" class=\"data row3 col5\" >27.23</td>\n",
       "      <td id=\"T_9721a_row3_col6\" class=\"data row3 col6\" >32.39</td>\n",
       "      <td id=\"T_9721a_row3_col7\" class=\"data row3 col7\" >34.07</td>\n",
       "      <td id=\"T_9721a_row3_col8\" class=\"data row3 col8\" >29.61</td>\n",
       "    </tr>\n",
       "    <tr>\n",
       "      <td id=\"T_9721a_row4_col0\" class=\"data row4 col0\" >26.60</td>\n",
       "      <td id=\"T_9721a_row4_col1\" class=\"data row4 col1\" >22.76</td>\n",
       "      <td id=\"T_9721a_row4_col2\" class=\"data row4 col2\" >25.07</td>\n",
       "      <td id=\"T_9721a_row4_col3\" class=\"data row4 col3\" >27.92</td>\n",
       "      <td id=\"T_9721a_row4_col4\" class=\"data row4 col4\" >28.22</td>\n",
       "      <td id=\"T_9721a_row4_col5\" class=\"data row4 col5\" >24.29</td>\n",
       "      <td id=\"T_9721a_row4_col6\" class=\"data row4 col6\" >29.22</td>\n",
       "      <td id=\"T_9721a_row4_col7\" class=\"data row4 col7\" >31.11</td>\n",
       "      <td id=\"T_9721a_row4_col8\" class=\"data row4 col8\" >26.90</td>\n",
       "    </tr>\n",
       "    <tr>\n",
       "      <td id=\"T_9721a_row5_col0\" class=\"data row5 col0\" >24.95</td>\n",
       "      <td id=\"T_9721a_row5_col1\" class=\"data row5 col1\" >21.13</td>\n",
       "      <td id=\"T_9721a_row5_col2\" class=\"data row5 col2\" >23.71</td>\n",
       "      <td id=\"T_9721a_row5_col3\" class=\"data row5 col3\" >26.09</td>\n",
       "      <td id=\"T_9721a_row5_col4\" class=\"data row5 col4\" >26.16</td>\n",
       "      <td id=\"T_9721a_row5_col5\" class=\"data row5 col5\" >22.87</td>\n",
       "      <td id=\"T_9721a_row5_col6\" class=\"data row5 col6\" >27.62</td>\n",
       "      <td id=\"T_9721a_row5_col7\" class=\"data row5 col7\" >29.00</td>\n",
       "      <td id=\"T_9721a_row5_col8\" class=\"data row5 col8\" >25.19</td>\n",
       "    </tr>\n",
       "    <tr>\n",
       "      <td id=\"T_9721a_row6_col0\" class=\"data row6 col0\" >23.52</td>\n",
       "      <td id=\"T_9721a_row6_col1\" class=\"data row6 col1\" >19.79</td>\n",
       "      <td id=\"T_9721a_row6_col2\" class=\"data row6 col2\" >22.18</td>\n",
       "      <td id=\"T_9721a_row6_col3\" class=\"data row6 col3\" >24.81</td>\n",
       "      <td id=\"T_9721a_row6_col4\" class=\"data row6 col4\" >24.10</td>\n",
       "      <td id=\"T_9721a_row6_col5\" class=\"data row6 col5\" >21.51</td>\n",
       "      <td id=\"T_9721a_row6_col6\" class=\"data row6 col6\" >26.38</td>\n",
       "      <td id=\"T_9721a_row6_col7\" class=\"data row6 col7\" >27.47</td>\n",
       "      <td id=\"T_9721a_row6_col8\" class=\"data row6 col8\" >23.72</td>\n",
       "    </tr>\n",
       "    <tr>\n",
       "      <td id=\"T_9721a_row7_col0\" class=\"data row7 col0\" >22.18</td>\n",
       "      <td id=\"T_9721a_row7_col1\" class=\"data row7 col1\" >18.50</td>\n",
       "      <td id=\"T_9721a_row7_col2\" class=\"data row7 col2\" >20.85</td>\n",
       "      <td id=\"T_9721a_row7_col3\" class=\"data row7 col3\" >23.27</td>\n",
       "      <td id=\"T_9721a_row7_col4\" class=\"data row7 col4\" >22.30</td>\n",
       "      <td id=\"T_9721a_row7_col5\" class=\"data row7 col5\" >19.95</td>\n",
       "      <td id=\"T_9721a_row7_col6\" class=\"data row7 col6\" >24.98</td>\n",
       "      <td id=\"T_9721a_row7_col7\" class=\"data row7 col7\" >26.11</td>\n",
       "      <td id=\"T_9721a_row7_col8\" class=\"data row7 col8\" >22.27</td>\n",
       "    </tr>\n",
       "  </tbody>\n",
       "</table>\n"
      ],
      "text/plain": [
       "<pandas.io.formats.style.Styler at 0x18b55c69890>"
      ]
     },
     "execution_count": 23,
     "metadata": {},
     "output_type": "execute_result"
    }
   ],
   "source": [
    "hl_df_PSNR_all = df_PSNR_all.style.apply(highlight_max,subset=df_PSNR_all.columns[:],axis=1)\n",
    "hl_df_PSNR_all.format(precision=2)\n",
    "hl_df_PSNR_all.hide_index()"
   ]
  },
  {
   "cell_type": "code",
   "execution_count": null,
   "metadata": {},
   "outputs": [
    {
     "name": "stderr",
     "output_type": "stream",
     "text": [
      "C:\\Users\\61092\\AppData\\Local\\Temp\\ipykernel_6064\\3815801646.py:3: FutureWarning: this method is deprecated in favour of `Styler.hide(axis=\"index\")`\n",
      "  hl_df_SSIM_all.hide_index()\n"
     ]
    },
    {
     "data": {
      "text/html": [
       "<style type=\"text/css\">\n",
       "#T_f0232_row0_col0, #T_f0232_row1_col0, #T_f0232_row2_col0, #T_f0232_row3_col0, #T_f0232_row4_col0, #T_f0232_row5_col0, #T_f0232_row6_col0, #T_f0232_row7_col0 {\n",
       "  font-weight: 900;\n",
       "}\n",
       "#T_f0232_row0_col6, #T_f0232_row1_col6, #T_f0232_row2_col6, #T_f0232_row3_col6, #T_f0232_row4_col6, #T_f0232_row5_col6, #T_f0232_row6_col6, #T_f0232_row7_col6 {\n",
       "  color: DarkRed;\n",
       "  font-weight: 900;\n",
       "}\n",
       "</style>\n",
       "<table id=\"T_f0232\">\n",
       "  <thead>\n",
       "    <tr>\n",
       "      <th id=\"T_f0232_level0_col0\" class=\"col_heading level0 col0\" >Airplane</th>\n",
       "      <th id=\"T_f0232_level0_col1\" class=\"col_heading level0 col1\" >Baboon</th>\n",
       "      <th id=\"T_f0232_level0_col2\" class=\"col_heading level0 col2\" >House</th>\n",
       "      <th id=\"T_f0232_level0_col3\" class=\"col_heading level0 col3\" >Lena</th>\n",
       "      <th id=\"T_f0232_level0_col4\" class=\"col_heading level0 col4\" >Peppers</th>\n",
       "      <th id=\"T_f0232_level0_col5\" class=\"col_heading level0 col5\" >Sailboat</th>\n",
       "      <th id=\"T_f0232_level0_col6\" class=\"col_heading level0 col6\" >Splash</th>\n",
       "      <th id=\"T_f0232_level0_col7\" class=\"col_heading level0 col7\" >Tiffany</th>\n",
       "      <th id=\"T_f0232_level0_col8\" class=\"col_heading level0 col8\" >Average</th>\n",
       "    </tr>\n",
       "  </thead>\n",
       "  <tbody>\n",
       "    <tr>\n",
       "      <td id=\"T_f0232_row0_col0\" class=\"data row0 col0\" >0.9910</td>\n",
       "      <td id=\"T_f0232_row0_col1\" class=\"data row0 col1\" >0.9835</td>\n",
       "      <td id=\"T_f0232_row0_col2\" class=\"data row0 col2\" >0.9888</td>\n",
       "      <td id=\"T_f0232_row0_col3\" class=\"data row0 col3\" >0.9903</td>\n",
       "      <td id=\"T_f0232_row0_col4\" class=\"data row0 col4\" >0.9862</td>\n",
       "      <td id=\"T_f0232_row0_col5\" class=\"data row0 col5\" >0.9859</td>\n",
       "      <td id=\"T_f0232_row0_col6\" class=\"data row0 col6\" >0.9928</td>\n",
       "      <td id=\"T_f0232_row0_col7\" class=\"data row0 col7\" >0.9887</td>\n",
       "      <td id=\"T_f0232_row0_col8\" class=\"data row0 col8\" >0.9884</td>\n",
       "    </tr>\n",
       "    <tr>\n",
       "      <td id=\"T_f0232_row1_col0\" class=\"data row1 col0\" >0.9843</td>\n",
       "      <td id=\"T_f0232_row1_col1\" class=\"data row1 col1\" >0.9669</td>\n",
       "      <td id=\"T_f0232_row1_col2\" class=\"data row1 col2\" >0.9772</td>\n",
       "      <td id=\"T_f0232_row1_col3\" class=\"data row1 col3\" >0.9793</td>\n",
       "      <td id=\"T_f0232_row1_col4\" class=\"data row1 col4\" >0.9733</td>\n",
       "      <td id=\"T_f0232_row1_col5\" class=\"data row1 col5\" >0.9748</td>\n",
       "      <td id=\"T_f0232_row1_col6\" class=\"data row1 col6\" >0.9857</td>\n",
       "      <td id=\"T_f0232_row1_col7\" class=\"data row1 col7\" >0.9790</td>\n",
       "      <td id=\"T_f0232_row1_col8\" class=\"data row1 col8\" >0.9775</td>\n",
       "    </tr>\n",
       "    <tr>\n",
       "      <td id=\"T_f0232_row2_col0\" class=\"data row2 col0\" >0.9720</td>\n",
       "      <td id=\"T_f0232_row2_col1\" class=\"data row2 col1\" >0.9334</td>\n",
       "      <td id=\"T_f0232_row2_col2\" class=\"data row2 col2\" >0.9600</td>\n",
       "      <td id=\"T_f0232_row2_col3\" class=\"data row2 col3\" >0.9612</td>\n",
       "      <td id=\"T_f0232_row2_col4\" class=\"data row2 col4\" >0.9552</td>\n",
       "      <td id=\"T_f0232_row2_col5\" class=\"data row2 col5\" >0.9552</td>\n",
       "      <td id=\"T_f0232_row2_col6\" class=\"data row2 col6\" >0.9746</td>\n",
       "      <td id=\"T_f0232_row2_col7\" class=\"data row2 col7\" >0.9653</td>\n",
       "      <td id=\"T_f0232_row2_col8\" class=\"data row2 col8\" >0.9596</td>\n",
       "    </tr>\n",
       "    <tr>\n",
       "      <td id=\"T_f0232_row3_col0\" class=\"data row3 col0\" >0.9476</td>\n",
       "      <td id=\"T_f0232_row3_col1\" class=\"data row3 col1\" >0.8702</td>\n",
       "      <td id=\"T_f0232_row3_col2\" class=\"data row3 col2\" >0.9251</td>\n",
       "      <td id=\"T_f0232_row3_col3\" class=\"data row3 col3\" >0.9312</td>\n",
       "      <td id=\"T_f0232_row3_col4\" class=\"data row3 col4\" >0.9264</td>\n",
       "      <td id=\"T_f0232_row3_col5\" class=\"data row3 col5\" >0.9203</td>\n",
       "      <td id=\"T_f0232_row3_col6\" class=\"data row3 col6\" >0.9557</td>\n",
       "      <td id=\"T_f0232_row3_col7\" class=\"data row3 col7\" >0.9423</td>\n",
       "      <td id=\"T_f0232_row3_col8\" class=\"data row3 col8\" >0.9273</td>\n",
       "    </tr>\n",
       "    <tr>\n",
       "      <td id=\"T_f0232_row4_col0\" class=\"data row4 col0\" >0.9123</td>\n",
       "      <td id=\"T_f0232_row4_col1\" class=\"data row4 col1\" >0.7904</td>\n",
       "      <td id=\"T_f0232_row4_col2\" class=\"data row4 col2\" >0.8795</td>\n",
       "      <td id=\"T_f0232_row4_col3\" class=\"data row4 col3\" >0.8914</td>\n",
       "      <td id=\"T_f0232_row4_col4\" class=\"data row4 col4\" >0.8883</td>\n",
       "      <td id=\"T_f0232_row4_col5\" class=\"data row4 col5\" >0.8698</td>\n",
       "      <td id=\"T_f0232_row4_col6\" class=\"data row4 col6\" >0.9288</td>\n",
       "      <td id=\"T_f0232_row4_col7\" class=\"data row4 col7\" >0.9047</td>\n",
       "      <td id=\"T_f0232_row4_col8\" class=\"data row4 col8\" >0.8831</td>\n",
       "    </tr>\n",
       "    <tr>\n",
       "      <td id=\"T_f0232_row5_col0\" class=\"data row5 col0\" >0.8798</td>\n",
       "      <td id=\"T_f0232_row5_col1\" class=\"data row5 col1\" >0.7088</td>\n",
       "      <td id=\"T_f0232_row5_col2\" class=\"data row5 col2\" >0.8376</td>\n",
       "      <td id=\"T_f0232_row5_col3\" class=\"data row5 col3\" >0.8497</td>\n",
       "      <td id=\"T_f0232_row5_col4\" class=\"data row5 col4\" >0.8504</td>\n",
       "      <td id=\"T_f0232_row5_col5\" class=\"data row5 col5\" >0.8199</td>\n",
       "      <td id=\"T_f0232_row5_col6\" class=\"data row5 col6\" >0.9010</td>\n",
       "      <td id=\"T_f0232_row5_col7\" class=\"data row5 col7\" >0.8643</td>\n",
       "      <td id=\"T_f0232_row5_col8\" class=\"data row5 col8\" >0.8389</td>\n",
       "    </tr>\n",
       "    <tr>\n",
       "      <td id=\"T_f0232_row6_col0\" class=\"data row6 col0\" >0.8338</td>\n",
       "      <td id=\"T_f0232_row6_col1\" class=\"data row6 col1\" >0.6089</td>\n",
       "      <td id=\"T_f0232_row6_col2\" class=\"data row6 col2\" >0.7766</td>\n",
       "      <td id=\"T_f0232_row6_col3\" class=\"data row6 col3\" >0.8059</td>\n",
       "      <td id=\"T_f0232_row6_col4\" class=\"data row6 col4\" >0.7953</td>\n",
       "      <td id=\"T_f0232_row6_col5\" class=\"data row6 col5\" >0.7566</td>\n",
       "      <td id=\"T_f0232_row6_col6\" class=\"data row6 col6\" >0.8647</td>\n",
       "      <td id=\"T_f0232_row6_col7\" class=\"data row6 col7\" >0.8151</td>\n",
       "      <td id=\"T_f0232_row6_col8\" class=\"data row6 col8\" >0.7821</td>\n",
       "    </tr>\n",
       "    <tr>\n",
       "      <td id=\"T_f0232_row7_col0\" class=\"data row7 col0\" >0.7743</td>\n",
       "      <td id=\"T_f0232_row7_col1\" class=\"data row7 col1\" >0.4843</td>\n",
       "      <td id=\"T_f0232_row7_col2\" class=\"data row7 col2\" >0.7012</td>\n",
       "      <td id=\"T_f0232_row7_col3\" class=\"data row7 col3\" >0.7376</td>\n",
       "      <td id=\"T_f0232_row7_col4\" class=\"data row7 col4\" >0.7290</td>\n",
       "      <td id=\"T_f0232_row7_col5\" class=\"data row7 col5\" >0.6671</td>\n",
       "      <td id=\"T_f0232_row7_col6\" class=\"data row7 col6\" >0.8143</td>\n",
       "      <td id=\"T_f0232_row7_col7\" class=\"data row7 col7\" >0.7558</td>\n",
       "      <td id=\"T_f0232_row7_col8\" class=\"data row7 col8\" >0.7079</td>\n",
       "    </tr>\n",
       "  </tbody>\n",
       "</table>\n"
      ],
      "text/plain": [
       "<pandas.io.formats.style.Styler at 0x18b55b2f910>"
      ]
     },
     "execution_count": 25,
     "metadata": {},
     "output_type": "execute_result"
    }
   ],
   "source": [
    "hl_df_SSIM_all = df_SSIM_all.style.apply(highlight_max,subset=df_SSIM_all.columns[:],axis=1)\n",
    "hl_df_SSIM_all.format(precision=4)\n",
    "hl_df_SSIM_all.hide_index()"
   ]
  },
  {
   "cell_type": "code",
   "execution_count": null,
   "metadata": {},
   "outputs": [],
   "source": [
    "# hl_df_ssim.format(precision=4)\n",
    "# hl_df_ssim.hide_index()"
   ]
  },
  {
   "cell_type": "code",
   "execution_count": null,
   "metadata": {},
   "outputs": [],
   "source": [
    "dfi.export(\n",
    "    hl_df_PSNR_all,\n",
    "    \"results1/SSIM_recovered_Images.png\",\n",
    "    fontsize=12,\n",
    ")"
   ]
  },
  {
   "cell_type": "code",
   "execution_count": null,
   "metadata": {},
   "outputs": [
    {
     "name": "stderr",
     "output_type": "stream",
     "text": [
      "c:\\ProgramData\\Anaconda3\\envs\\ENV_Common\\Lib\\site-packages\\dataframe_image\\_pandas_accessor.py:69: FutureWarning: this method is deprecated in favour of `Styler.to_html()`\n",
      "  html = '<div>' + obj.render() + '</div>'\n"
     ]
    },
    {
     "ename": "SyntaxError",
     "evalue": "not a PNG file (<string>)",
     "output_type": "error",
     "traceback": [
      "Traceback \u001b[1;36m(most recent call last)\u001b[0m:\n",
      "\u001b[0m  File \u001b[0;32mc:\\ProgramData\\Anaconda3\\envs\\ENV_Common\\Lib\\site-packages\\IPython\\core\\interactiveshell.py:3460\u001b[0m in \u001b[0;35mrun_code\u001b[0m\n    exec(code_obj, self.user_global_ns, self.user_ns)\u001b[0m\n",
      "\u001b[0m  Cell \u001b[0;32mIn[29], line 1\u001b[0m\n    dfi.export(\u001b[0m\n",
      "\u001b[0m  File \u001b[0;32mc:\\ProgramData\\Anaconda3\\envs\\ENV_Common\\Lib\\site-packages\\dataframe_image\\_pandas_accessor.py:24\u001b[0m in \u001b[0;35mexport\u001b[0m\n    dpi=None,\u001b[0m\n",
      "\u001b[0m  File \u001b[0;32mc:\\ProgramData\\Anaconda3\\envs\\ENV_Common\\Lib\\site-packages\\dataframe_image\\_pandas_accessor.py:73\u001b[0m in \u001b[0;35m_export\u001b[0m\n    converter = TableMaker(\u001b[0m\n",
      "\u001b[0m  File \u001b[0;32mc:\\ProgramData\\Anaconda3\\envs\\ENV_Common\\Lib\\site-packages\\dataframe_image\\_screenshot.py:167\u001b[0m in \u001b[0;35mrun\u001b[0m\n    right = -diff_vert[::-1].argmax()\u001b[0m\n",
      "\u001b[0m  File \u001b[0;32mc:\\ProgramData\\Anaconda3\\envs\\ENV_Common\\Lib\\site-packages\\dataframe_image\\_screenshot.py:119\u001b[0m in \u001b[0;35mtake_screenshot\u001b[0m\n    \"--crash-dumps-dir=/tmp\",\u001b[0m\n",
      "\u001b[0m  File \u001b[0;32mc:\\ProgramData\\Anaconda3\\envs\\ENV_Common\\Lib\\site-packages\\matplotlib\\image.py:1563\u001b[0m in \u001b[0;35mimread\u001b[0m\n    with img_open(fname) as image:\u001b[0m\n",
      "\u001b[0m  File \u001b[0;32mc:\\ProgramData\\Anaconda3\\envs\\ENV_Common\\Lib\\site-packages\\PIL\\ImageFile.py:117\u001b[0m in \u001b[0;35m__init__\u001b[0m\n    self._open()\u001b[0m\n",
      "\u001b[1;36m  File \u001b[1;32mc:\\ProgramData\\Anaconda3\\envs\\ENV_Common\\Lib\\site-packages\\PIL\\PngImagePlugin.py:732\u001b[1;36m in \u001b[1;35m_open\u001b[1;36m\n\u001b[1;33m    raise SyntaxError(msg)\u001b[1;36m\n",
      "\u001b[1;36m  File \u001b[1;32m<string>\u001b[1;36m\u001b[0m\n\u001b[1;31mSyntaxError\u001b[0m\u001b[1;31m:\u001b[0m not a PNG file\n"
     ]
    }
   ],
   "source": [
    "dfi.export(\n",
    "    hl_df_SSIM_all,\n",
    "    \"results1/SSIM_recovered_Images.png\",\n",
    "    fontsize=12,\n",
    ")"
   ]
  }
 ],
 "metadata": {
  "kernelspec": {
   "display_name": "pythonENV",
   "language": "python",
   "name": "python3"
  },
  "language_info": {
   "codemirror_mode": {
    "name": "ipython",
    "version": 3
   },
   "file_extension": ".py",
   "mimetype": "text/x-python",
   "name": "python",
   "nbconvert_exporter": "python",
   "pygments_lexer": "ipython3",
   "version": "3.10.9"
  },
  "orig_nbformat": 4
 },
 "nbformat": 4,
 "nbformat_minor": 2
}
