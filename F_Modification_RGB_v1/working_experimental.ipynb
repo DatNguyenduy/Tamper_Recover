{
 "cells": [
  {
   "cell_type": "code",
   "execution_count": 1,
   "metadata": {},
   "outputs": [],
   "source": [
    "import cv2\n",
    "from experimentalFv1 import ex_psnr_w_imgs,ex_ssim_w_imgs\n",
    "import numpy as np\n",
    "from matplotlib import pyplot as plt\n",
    "from tabulate import tabulate\n",
    "import os\n",
    "import pandas as pd\n",
    "import json\n",
    "import dataframe_image as dfi"
   ]
  },
  {
   "cell_type": "code",
   "execution_count": 2,
   "metadata": {},
   "outputs": [],
   "source": [
    "with open(\"D:\\\\Dat_Hoctap\\\\2023\\\\Tamper_Recover\\\\A_Data\\\\Results_2022\\\\result_w_ssim.json\") as cf:\n",
    "    df_all_ssim = pd.DataFrame(json.load(cf))"
   ]
  },
  {
   "cell_type": "code",
   "execution_count": 3,
   "metadata": {},
   "outputs": [],
   "source": [
    "root_dir = \"D:\\\\Dat_Hoctap\\\\2023\\\\Tamper_Recover\\\\A_Data\\\\Data8Images\"\n",
    "list_paths = []\n",
    "for subdir, dirs, files in os.walk(root_dir):\n",
    "    for file in files:\n",
    "        list_paths.append(os.path.join(subdir, file))"
   ]
  },
  {
   "cell_type": "code",
   "execution_count": 4,
   "metadata": {},
   "outputs": [
    {
     "name": "stdout",
     "output_type": "stream",
     "text": [
      "['D:\\\\Dat_Hoctap\\\\2023\\\\Tamper_Recover\\\\A_Data\\\\Data8Images\\\\airplane.png', 'D:\\\\Dat_Hoctap\\\\2023\\\\Tamper_Recover\\\\A_Data\\\\Data8Images\\\\baboon.png', 'D:\\\\Dat_Hoctap\\\\2023\\\\Tamper_Recover\\\\A_Data\\\\Data8Images\\\\house.tiff', 'D:\\\\Dat_Hoctap\\\\2023\\\\Tamper_Recover\\\\A_Data\\\\Data8Images\\\\lena.png', 'D:\\\\Dat_Hoctap\\\\2023\\\\Tamper_Recover\\\\A_Data\\\\Data8Images\\\\peppers.png', 'D:\\\\Dat_Hoctap\\\\2023\\\\Tamper_Recover\\\\A_Data\\\\Data8Images\\\\sailboat.tiff', 'D:\\\\Dat_Hoctap\\\\2023\\\\Tamper_Recover\\\\A_Data\\\\Data8Images\\\\splash.tiff', 'D:\\\\Dat_Hoctap\\\\2023\\\\Tamper_Recover\\\\A_Data\\\\Data8Images\\\\tiffany.bmp']\n"
     ]
    }
   ],
   "source": [
    "print(list_paths)"
   ]
  },
  {
   "cell_type": "code",
   "execution_count": 5,
   "metadata": {},
   "outputs": [
    {
     "name": "stdout",
     "output_type": "stream",
     "text": [
      "1.0\n"
     ]
    }
   ],
   "source": [
    "from skimage.metrics import structural_similarity as ssim\n",
    "img = cv2.imread(list_paths[1])\n",
    "img1 = img.copy()\n",
    "print(ssim(img, img1,channel_axis=2))"
   ]
  },
  {
   "cell_type": "code",
   "execution_count": 6,
   "metadata": {},
   "outputs": [],
   "source": [
    "key = (13,811,137)"
   ]
  },
  {
   "cell_type": "code",
   "execution_count": 7,
   "metadata": {},
   "outputs": [],
   "source": [
    "proposed_ssim = ex_ssim_w_imgs(list_paths=list_paths,key=key)"
   ]
  },
  {
   "cell_type": "code",
   "execution_count": 8,
   "metadata": {},
   "outputs": [
    {
     "name": "stdout",
     "output_type": "stream",
     "text": [
      "[0.9870555074939996, 0.9967415749261251, 0.9909039671809596, 0.9896666963999742, 0.9867199560708281, 0.9924247996046646, 0.9794832391740727, 0.9871220015559974]\n"
     ]
    }
   ],
   "source": [
    "print(proposed_ssim)"
   ]
  },
  {
   "cell_type": "code",
   "execution_count": 9,
   "metadata": {},
   "outputs": [],
   "source": [
    "p_ssim_round = [round(e,4) for e in proposed_ssim]\n",
    "p_ssim_round.append(round(np.mean(proposed_ssim),4))"
   ]
  },
  {
   "cell_type": "code",
   "execution_count": 10,
   "metadata": {},
   "outputs": [
    {
     "name": "stdout",
     "output_type": "stream",
     "text": [
      "[0.9871, 0.9967, 0.9909, 0.9897, 0.9867, 0.9924, 0.9795, 0.9871, 0.9888]\n"
     ]
    }
   ],
   "source": [
    "print(p_ssim_round)"
   ]
  },
  {
   "cell_type": "code",
   "execution_count": 11,
   "metadata": {},
   "outputs": [],
   "source": [
    "df_all_ssim[\"Proposed Method\"] = p_ssim_round"
   ]
  },
  {
   "cell_type": "code",
   "execution_count": 12,
   "metadata": {},
   "outputs": [
    {
     "name": "stdout",
     "output_type": "stream",
     "text": [
      "Index(['Image', 'Tong(2013)', 'Dadklah(2014)', 'Singh(2016)', 'Fan(2018)',\n",
      "       'Tai(2018)', 'Molina(2019)', 'Afrig(2022)', 'Muzamil(2022)',\n",
      "       'Proposed Method'],\n",
      "      dtype='object')\n"
     ]
    }
   ],
   "source": [
    "print(df_all_ssim.keys())"
   ]
  },
  {
   "cell_type": "code",
   "execution_count": 13,
   "metadata": {},
   "outputs": [
    {
     "name": "stdout",
     "output_type": "stream",
     "text": [
      "      Image  Tong(2013)  Dadklah(2014)  Singh(2016)  Fan(2018)  Tai(2018)  \\\n",
      "0  Airplane      0.9194         0.9782       0.9194     0.9781     0.9781   \n",
      "1    Baboon      0.9763         0.9941       0.9763     0.9941     0.9941   \n",
      "2     House      0.9319         0.9815       0.9319     0.9815     0.9815   \n",
      "3      Lena      0.9307         0.9820       0.9307     0.9820     0.9820   \n",
      "4   Peppers      0.9234         0.9791       0.9234     0.9791     0.9791   \n",
      "5  Sailboat      0.9494         0.9868       0.9493     0.9867     0.9868   \n",
      "6    Splash      0.8942         0.9695       0.8942     0.9695     0.9696   \n",
      "7   Tiffany      0.9246         0.9806       0.9246     0.9804     0.9805   \n",
      "8   Average      0.9312         0.9815       0.9312     0.9814     0.9815   \n",
      "\n",
      "   Molina(2019)  Afrig(2022)  Muzamil(2022)  Proposed Method  \n",
      "0        0.9812       0.9889         0.9830           0.9871  \n",
      "1        0.9947       0.9990         0.9984           0.9967  \n",
      "2        0.9834       0.9967         0.9950           0.9909  \n",
      "3        0.9840       0.9993         0.9989           0.9897  \n",
      "4        0.9816       0.9991         0.9988           0.9867  \n",
      "5        0.9884       0.9980         0.9968           0.9924  \n",
      "6        0.9737       0.9983         0.9975           0.9795  \n",
      "7        0.9846       0.9985         0.9978           0.9871  \n",
      "8        0.9840       0.9972         0.9957           0.9888  \n"
     ]
    }
   ],
   "source": [
    "print(df_all_ssim)"
   ]
  },
  {
   "cell_type": "code",
   "execution_count": 57,
   "metadata": {},
   "outputs": [],
   "source": [
    "def highlight_max(s):\n",
    "    # Get 5 largest values of the column\n",
    "    is_large1 = s.nlargest(1).values\n",
    "    is_large2 = s.nlargest(2).values\n",
    "    # Apply style is the current value is among the 5 biggest values\n",
    "    return ['color: DarkRed;font-weight:900' if v in is_large1 else 'font-weight:900' if v in is_large2 else '' for v in s]"
   ]
  },
  {
   "cell_type": "code",
   "execution_count": 58,
   "metadata": {},
   "outputs": [],
   "source": [
    "hl_df_ssim = df_all_ssim.style.apply(highlight_max,subset=df_all_ssim.columns[1:],axis = 1).apply(lambda x: ['background: lightgreen' if x.name == 8 else '' for i in x], \n",
    "               axis=1)"
   ]
  },
  {
   "cell_type": "code",
   "execution_count": 59,
   "metadata": {},
   "outputs": [
    {
     "name": "stderr",
     "output_type": "stream",
     "text": [
      "C:\\Users\\DuyDat\\AppData\\Local\\Temp\\ipykernel_19116\\2749639962.py:2: FutureWarning: this method is deprecated in favour of `Styler.hide(axis='index')`\n",
      "  hl_df_ssim.hide_index()\n"
     ]
    },
    {
     "data": {
      "text/html": [
       "<style type=\"text/css\">\n",
       "#T_5450e_row0_col7, #T_5450e_row1_col8, #T_5450e_row2_col8, #T_5450e_row3_col8, #T_5450e_row4_col8, #T_5450e_row5_col8, #T_5450e_row6_col8, #T_5450e_row7_col8 {\n",
       "  font-weight: 900;\n",
       "}\n",
       "#T_5450e_row0_col9, #T_5450e_row1_col7, #T_5450e_row2_col7, #T_5450e_row3_col7, #T_5450e_row4_col7, #T_5450e_row5_col7, #T_5450e_row6_col7, #T_5450e_row7_col7 {\n",
       "  color: DarkRed;\n",
       "  font-weight: 900;\n",
       "}\n",
       "#T_5450e_row8_col0, #T_5450e_row8_col1, #T_5450e_row8_col2, #T_5450e_row8_col3, #T_5450e_row8_col4, #T_5450e_row8_col5, #T_5450e_row8_col6, #T_5450e_row8_col9 {\n",
       "  background: lightgreen;\n",
       "}\n",
       "#T_5450e_row8_col7 {\n",
       "  color: DarkRed;\n",
       "  font-weight: 900;\n",
       "  background: lightgreen;\n",
       "}\n",
       "#T_5450e_row8_col8 {\n",
       "  font-weight: 900;\n",
       "  background: lightgreen;\n",
       "}\n",
       "</style>\n",
       "<table id=\"T_5450e\">\n",
       "  <thead>\n",
       "    <tr>\n",
       "      <th id=\"T_5450e_level0_col0\" class=\"col_heading level0 col0\" >Image</th>\n",
       "      <th id=\"T_5450e_level0_col1\" class=\"col_heading level0 col1\" >Tong(2013)</th>\n",
       "      <th id=\"T_5450e_level0_col2\" class=\"col_heading level0 col2\" >Dadklah(2014)</th>\n",
       "      <th id=\"T_5450e_level0_col3\" class=\"col_heading level0 col3\" >Singh(2016)</th>\n",
       "      <th id=\"T_5450e_level0_col4\" class=\"col_heading level0 col4\" >Fan(2018)</th>\n",
       "      <th id=\"T_5450e_level0_col5\" class=\"col_heading level0 col5\" >Tai(2018)</th>\n",
       "      <th id=\"T_5450e_level0_col6\" class=\"col_heading level0 col6\" >Molina(2019)</th>\n",
       "      <th id=\"T_5450e_level0_col7\" class=\"col_heading level0 col7\" >Afrig(2022)</th>\n",
       "      <th id=\"T_5450e_level0_col8\" class=\"col_heading level0 col8\" >Muzamil(2022)</th>\n",
       "      <th id=\"T_5450e_level0_col9\" class=\"col_heading level0 col9\" >Proposed Method</th>\n",
       "    </tr>\n",
       "  </thead>\n",
       "  <tbody>\n",
       "    <tr>\n",
       "      <td id=\"T_5450e_row0_col0\" class=\"data row0 col0\" >Airplane</td>\n",
       "      <td id=\"T_5450e_row0_col1\" class=\"data row0 col1\" >0.9194</td>\n",
       "      <td id=\"T_5450e_row0_col2\" class=\"data row0 col2\" >0.9782</td>\n",
       "      <td id=\"T_5450e_row0_col3\" class=\"data row0 col3\" >0.9194</td>\n",
       "      <td id=\"T_5450e_row0_col4\" class=\"data row0 col4\" >0.9781</td>\n",
       "      <td id=\"T_5450e_row0_col5\" class=\"data row0 col5\" >0.9781</td>\n",
       "      <td id=\"T_5450e_row0_col6\" class=\"data row0 col6\" >0.9812</td>\n",
       "      <td id=\"T_5450e_row0_col7\" class=\"data row0 col7\" >0.9889</td>\n",
       "      <td id=\"T_5450e_row0_col8\" class=\"data row0 col8\" >0.9830</td>\n",
       "      <td id=\"T_5450e_row0_col9\" class=\"data row0 col9\" >0.9927</td>\n",
       "    </tr>\n",
       "    <tr>\n",
       "      <td id=\"T_5450e_row1_col0\" class=\"data row1 col0\" >Baboon</td>\n",
       "      <td id=\"T_5450e_row1_col1\" class=\"data row1 col1\" >0.9763</td>\n",
       "      <td id=\"T_5450e_row1_col2\" class=\"data row1 col2\" >0.9941</td>\n",
       "      <td id=\"T_5450e_row1_col3\" class=\"data row1 col3\" >0.9763</td>\n",
       "      <td id=\"T_5450e_row1_col4\" class=\"data row1 col4\" >0.9941</td>\n",
       "      <td id=\"T_5450e_row1_col5\" class=\"data row1 col5\" >0.9941</td>\n",
       "      <td id=\"T_5450e_row1_col6\" class=\"data row1 col6\" >0.9947</td>\n",
       "      <td id=\"T_5450e_row1_col7\" class=\"data row1 col7\" >0.9990</td>\n",
       "      <td id=\"T_5450e_row1_col8\" class=\"data row1 col8\" >0.9984</td>\n",
       "      <td id=\"T_5450e_row1_col9\" class=\"data row1 col9\" >0.9981</td>\n",
       "    </tr>\n",
       "    <tr>\n",
       "      <td id=\"T_5450e_row2_col0\" class=\"data row2 col0\" >House</td>\n",
       "      <td id=\"T_5450e_row2_col1\" class=\"data row2 col1\" >0.9319</td>\n",
       "      <td id=\"T_5450e_row2_col2\" class=\"data row2 col2\" >0.9815</td>\n",
       "      <td id=\"T_5450e_row2_col3\" class=\"data row2 col3\" >0.9319</td>\n",
       "      <td id=\"T_5450e_row2_col4\" class=\"data row2 col4\" >0.9815</td>\n",
       "      <td id=\"T_5450e_row2_col5\" class=\"data row2 col5\" >0.9815</td>\n",
       "      <td id=\"T_5450e_row2_col6\" class=\"data row2 col6\" >0.9834</td>\n",
       "      <td id=\"T_5450e_row2_col7\" class=\"data row2 col7\" >0.9967</td>\n",
       "      <td id=\"T_5450e_row2_col8\" class=\"data row2 col8\" >0.9950</td>\n",
       "      <td id=\"T_5450e_row2_col9\" class=\"data row2 col9\" >0.9946</td>\n",
       "    </tr>\n",
       "    <tr>\n",
       "      <td id=\"T_5450e_row3_col0\" class=\"data row3 col0\" >Lena</td>\n",
       "      <td id=\"T_5450e_row3_col1\" class=\"data row3 col1\" >0.9307</td>\n",
       "      <td id=\"T_5450e_row3_col2\" class=\"data row3 col2\" >0.9820</td>\n",
       "      <td id=\"T_5450e_row3_col3\" class=\"data row3 col3\" >0.9307</td>\n",
       "      <td id=\"T_5450e_row3_col4\" class=\"data row3 col4\" >0.9820</td>\n",
       "      <td id=\"T_5450e_row3_col5\" class=\"data row3 col5\" >0.9820</td>\n",
       "      <td id=\"T_5450e_row3_col6\" class=\"data row3 col6\" >0.9840</td>\n",
       "      <td id=\"T_5450e_row3_col7\" class=\"data row3 col7\" >0.9993</td>\n",
       "      <td id=\"T_5450e_row3_col8\" class=\"data row3 col8\" >0.9989</td>\n",
       "      <td id=\"T_5450e_row3_col9\" class=\"data row3 col9\" >0.9937</td>\n",
       "    </tr>\n",
       "    <tr>\n",
       "      <td id=\"T_5450e_row4_col0\" class=\"data row4 col0\" >Peppers</td>\n",
       "      <td id=\"T_5450e_row4_col1\" class=\"data row4 col1\" >0.9234</td>\n",
       "      <td id=\"T_5450e_row4_col2\" class=\"data row4 col2\" >0.9791</td>\n",
       "      <td id=\"T_5450e_row4_col3\" class=\"data row4 col3\" >0.9234</td>\n",
       "      <td id=\"T_5450e_row4_col4\" class=\"data row4 col4\" >0.9791</td>\n",
       "      <td id=\"T_5450e_row4_col5\" class=\"data row4 col5\" >0.9791</td>\n",
       "      <td id=\"T_5450e_row4_col6\" class=\"data row4 col6\" >0.9816</td>\n",
       "      <td id=\"T_5450e_row4_col7\" class=\"data row4 col7\" >0.9991</td>\n",
       "      <td id=\"T_5450e_row4_col8\" class=\"data row4 col8\" >0.9988</td>\n",
       "      <td id=\"T_5450e_row4_col9\" class=\"data row4 col9\" >0.9939</td>\n",
       "    </tr>\n",
       "    <tr>\n",
       "      <td id=\"T_5450e_row5_col0\" class=\"data row5 col0\" >Sailboat</td>\n",
       "      <td id=\"T_5450e_row5_col1\" class=\"data row5 col1\" >0.9494</td>\n",
       "      <td id=\"T_5450e_row5_col2\" class=\"data row5 col2\" >0.9868</td>\n",
       "      <td id=\"T_5450e_row5_col3\" class=\"data row5 col3\" >0.9493</td>\n",
       "      <td id=\"T_5450e_row5_col4\" class=\"data row5 col4\" >0.9867</td>\n",
       "      <td id=\"T_5450e_row5_col5\" class=\"data row5 col5\" >0.9868</td>\n",
       "      <td id=\"T_5450e_row5_col6\" class=\"data row5 col6\" >0.9884</td>\n",
       "      <td id=\"T_5450e_row5_col7\" class=\"data row5 col7\" >0.9980</td>\n",
       "      <td id=\"T_5450e_row5_col8\" class=\"data row5 col8\" >0.9968</td>\n",
       "      <td id=\"T_5450e_row5_col9\" class=\"data row5 col9\" >0.9955</td>\n",
       "    </tr>\n",
       "    <tr>\n",
       "      <td id=\"T_5450e_row6_col0\" class=\"data row6 col0\" >Splash</td>\n",
       "      <td id=\"T_5450e_row6_col1\" class=\"data row6 col1\" >0.8942</td>\n",
       "      <td id=\"T_5450e_row6_col2\" class=\"data row6 col2\" >0.9695</td>\n",
       "      <td id=\"T_5450e_row6_col3\" class=\"data row6 col3\" >0.8942</td>\n",
       "      <td id=\"T_5450e_row6_col4\" class=\"data row6 col4\" >0.9695</td>\n",
       "      <td id=\"T_5450e_row6_col5\" class=\"data row6 col5\" >0.9696</td>\n",
       "      <td id=\"T_5450e_row6_col6\" class=\"data row6 col6\" >0.9737</td>\n",
       "      <td id=\"T_5450e_row6_col7\" class=\"data row6 col7\" >0.9983</td>\n",
       "      <td id=\"T_5450e_row6_col8\" class=\"data row6 col8\" >0.9975</td>\n",
       "      <td id=\"T_5450e_row6_col9\" class=\"data row6 col9\" >0.9918</td>\n",
       "    </tr>\n",
       "    <tr>\n",
       "      <td id=\"T_5450e_row7_col0\" class=\"data row7 col0\" >Tiffany</td>\n",
       "      <td id=\"T_5450e_row7_col1\" class=\"data row7 col1\" >0.9246</td>\n",
       "      <td id=\"T_5450e_row7_col2\" class=\"data row7 col2\" >0.9806</td>\n",
       "      <td id=\"T_5450e_row7_col3\" class=\"data row7 col3\" >0.9246</td>\n",
       "      <td id=\"T_5450e_row7_col4\" class=\"data row7 col4\" >0.9804</td>\n",
       "      <td id=\"T_5450e_row7_col5\" class=\"data row7 col5\" >0.9805</td>\n",
       "      <td id=\"T_5450e_row7_col6\" class=\"data row7 col6\" >0.9846</td>\n",
       "      <td id=\"T_5450e_row7_col7\" class=\"data row7 col7\" >0.9985</td>\n",
       "      <td id=\"T_5450e_row7_col8\" class=\"data row7 col8\" >0.9978</td>\n",
       "      <td id=\"T_5450e_row7_col9\" class=\"data row7 col9\" >0.9927</td>\n",
       "    </tr>\n",
       "    <tr>\n",
       "      <td id=\"T_5450e_row8_col0\" class=\"data row8 col0\" >Average</td>\n",
       "      <td id=\"T_5450e_row8_col1\" class=\"data row8 col1\" >0.9312</td>\n",
       "      <td id=\"T_5450e_row8_col2\" class=\"data row8 col2\" >0.9815</td>\n",
       "      <td id=\"T_5450e_row8_col3\" class=\"data row8 col3\" >0.9312</td>\n",
       "      <td id=\"T_5450e_row8_col4\" class=\"data row8 col4\" >0.9814</td>\n",
       "      <td id=\"T_5450e_row8_col5\" class=\"data row8 col5\" >0.9815</td>\n",
       "      <td id=\"T_5450e_row8_col6\" class=\"data row8 col6\" >0.9840</td>\n",
       "      <td id=\"T_5450e_row8_col7\" class=\"data row8 col7\" >0.9972</td>\n",
       "      <td id=\"T_5450e_row8_col8\" class=\"data row8 col8\" >0.9957</td>\n",
       "      <td id=\"T_5450e_row8_col9\" class=\"data row8 col9\" >0.9941</td>\n",
       "    </tr>\n",
       "  </tbody>\n",
       "</table>\n"
      ],
      "text/plain": [
       "<pandas.io.formats.style.Styler at 0x18daa38dba0>"
      ]
     },
     "execution_count": 59,
     "metadata": {},
     "output_type": "execute_result"
    }
   ],
   "source": [
    "hl_df_ssim.format(precision=4)\n",
    "hl_df_ssim.hide_index()"
   ]
  },
  {
   "cell_type": "code",
   "execution_count": 56,
   "metadata": {},
   "outputs": [],
   "source": [
    "dfi.export(\n",
    "    hl_df_ssim,\n",
    "    \"hl_table_ssim.png\",\n",
    "    fontsize=12,\n",
    ")"
   ]
  },
  {
   "cell_type": "code",
   "execution_count": 76,
   "metadata": {},
   "outputs": [
    {
     "name": "stdout",
     "output_type": "stream",
     "text": [
      "      Image  Tong(2013)  Dadklah(2014)  Singh(2016)  Fan(2018)  Tai(2018)  \\\n",
      "0  Airplane       37.88          44.12        37.88      44.11      44.12   \n",
      "1    Baboon       37.90          44.14        37.90      44.12      44.14   \n",
      "2     House       37.88          44.19        37.88      44.18      44.18   \n",
      "3      Lena       37.90          44.13        37.90      44.13      44.12   \n",
      "4   Peppers       37.79          44.06        37.79      44.06      44.06   \n",
      "5  Sailboat       37.90          44.12        37.90      44.10      44.11   \n",
      "6    Splash       37.84          44.08        37.84      44.08      44.09   \n",
      "7   Tiffany       37.44          43.85        37.44      43.84      43.85   \n",
      "8   Average       37.82          44.09        37.82      44.08      44.08   \n",
      "\n",
      "   Molina(2019)  Afrig(2022)  Muzamil(2022)  Proposed Method  \n",
      "0         44.69        45.68          44.70           46.370  \n",
      "1         44.64        45.70          44.92           46.365  \n",
      "2         44.66        45.69          44.70           46.355  \n",
      "3         44.60        45.71          44.98           46.366  \n",
      "4         44.54        45.54          44.76           46.163  \n",
      "5         44.61        45.68          44.87           46.357  \n",
      "6         44.47        45.57          44.84           46.211  \n",
      "7         44.87        44.95          44.89           45.874  \n",
      "8         44.64        45.57          44.83           46.258  \n"
     ]
    }
   ],
   "source": [
    "print(df_all_ssim)"
   ]
  },
  {
   "cell_type": "code",
   "execution_count": 13,
   "metadata": {},
   "outputs": [
    {
     "name": "stdout",
     "output_type": "stream",
     "text": [
      "Image       Tong(2013)    Dadklah(2014)    Singh(2016)    Fan(2018)    Tai(2018)    Molina(2019)    Afrig(2022)    Muzamil(2022)    Proposed Method\n",
      "--------  ------------  ---------------  -------------  -----------  -----------  --------------  -------------  ---------------  -----------------\n",
      "Airplane        0.9194           0.9782         0.9194       0.9781       0.9781          0.9812         0.9889           0.983              0.9927\n",
      "Baboon          0.9763           0.9941         0.9763       0.9941       0.9941          0.9947         0.999            0.9984             0.9981\n",
      "House           0.9319           0.9815         0.9319       0.9815       0.9815          0.9834         0.9967           0.995              0.9946\n",
      "Lena            0.9307           0.982          0.9307       0.982        0.982           0.984          0.9993           0.9989             0.9937\n",
      "Peppers         0.9234           0.9791         0.9234       0.9791       0.9791          0.9816         0.9991           0.9988             0.9939\n",
      "Sailboat        0.9494           0.9868         0.9493       0.9867       0.9868          0.9884         0.998            0.9968             0.9955\n",
      "Splash          0.8942           0.9695         0.8942       0.9695       0.9696          0.9737         0.9983           0.9975             0.9918\n",
      "Tiffany         0.9246           0.9806         0.9246       0.9804       0.9805          0.9846         0.9985           0.9978             0.9927\n",
      "Average         0.9312           0.9815         0.9312       0.9814       0.9815          0.984          0.9972           0.9957             0.9941\n"
     ]
    }
   ],
   "source": [
    "print(tabulate(df_all_ssim, showindex=False, headers=df_all_ssim.keys()))"
   ]
  },
  {
   "cell_type": "code",
   "execution_count": 120,
   "metadata": {},
   "outputs": [],
   "source": [
    "df_all.to_csv(\"results/PSNR_Watermarked_Images.csv\")"
   ]
  }
 ],
 "metadata": {
  "kernelspec": {
   "display_name": "pythonENV",
   "language": "python",
   "name": "python3"
  },
  "language_info": {
   "codemirror_mode": {
    "name": "ipython",
    "version": 3
   },
   "file_extension": ".py",
   "mimetype": "text/x-python",
   "name": "python",
   "nbconvert_exporter": "python",
   "pygments_lexer": "ipython3",
   "version": "3.10.9"
  },
  "orig_nbformat": 4
 },
 "nbformat": 4,
 "nbformat_minor": 2
}
