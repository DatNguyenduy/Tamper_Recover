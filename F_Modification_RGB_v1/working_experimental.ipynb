{
 "cells": [
  {
   "cell_type": "code",
   "execution_count": 129,
   "metadata": {},
   "outputs": [],
   "source": [
    "import cv2\n",
    "from skimage.metrics import structural_similarity as ssim\n",
    "import numpy as np\n",
    "from matplotlib import pyplot as plt\n",
    "from tabulate import tabulate\n",
    "import os\n",
    "import pandas as pd\n",
    "import json\n",
    "import dataframe_image as dfi\n",
    "from forwardFv1 import wm_au_emb\n",
    "from detectFv1 import *\n",
    "from recoveryFv1 import *\n",
    "from sklearn.metrics import precision_score,recall_score"
   ]
  },
  {
   "cell_type": "code",
   "execution_count": 3,
   "metadata": {},
   "outputs": [],
   "source": [
    "root_dir = \"D:\\\\Dat_Hoctap\\\\2023\\\\Tamper_Recover\\\\A_Data\\\\Data8Images\"\n",
    "list_paths = []\n",
    "for subdir, dirs, files in os.walk(root_dir):\n",
    "    for file in files:\n",
    "        list_paths.append(os.path.join(subdir, file))"
   ]
  },
  {
   "cell_type": "code",
   "execution_count": 4,
   "metadata": {},
   "outputs": [
    {
     "name": "stdout",
     "output_type": "stream",
     "text": [
      "['D:\\\\Dat_Hoctap\\\\2023\\\\Tamper_Recover\\\\A_Data\\\\Data8Images\\\\airplane.png', 'D:\\\\Dat_Hoctap\\\\2023\\\\Tamper_Recover\\\\A_Data\\\\Data8Images\\\\baboon.png', 'D:\\\\Dat_Hoctap\\\\2023\\\\Tamper_Recover\\\\A_Data\\\\Data8Images\\\\house.tiff', 'D:\\\\Dat_Hoctap\\\\2023\\\\Tamper_Recover\\\\A_Data\\\\Data8Images\\\\lena.png', 'D:\\\\Dat_Hoctap\\\\2023\\\\Tamper_Recover\\\\A_Data\\\\Data8Images\\\\peppers.png', 'D:\\\\Dat_Hoctap\\\\2023\\\\Tamper_Recover\\\\A_Data\\\\Data8Images\\\\sailboat.tiff', 'D:\\\\Dat_Hoctap\\\\2023\\\\Tamper_Recover\\\\A_Data\\\\Data8Images\\\\splash.tiff', 'D:\\\\Dat_Hoctap\\\\2023\\\\Tamper_Recover\\\\A_Data\\\\Data8Images\\\\tiffany.bmp']\n"
     ]
    }
   ],
   "source": [
    "print(list_paths)"
   ]
  },
  {
   "cell_type": "code",
   "execution_count": 16,
   "metadata": {},
   "outputs": [],
   "source": [
    "list_img = []\n",
    "for i in range(len(list_paths)):\n",
    "    img = cv2.imread(list_paths[i])\n",
    "    list_img.append(img)"
   ]
  },
  {
   "cell_type": "code",
   "execution_count": 15,
   "metadata": {},
   "outputs": [],
   "source": [
    "key = (19,3,137)\n",
    "list_w_img_19_3_137=[]\n",
    "for i in range(len(list_paths)):\n",
    "    img = cv2.imread(list_paths[i])\n",
    "    w_img = wm_au_emb(img,key=key)\n",
    "    list_w_img_19_3_137.append(w_img)"
   ]
  },
  {
   "cell_type": "code",
   "execution_count": 19,
   "metadata": {},
   "outputs": [],
   "source": [
    "for i in range(len(list_img)):\n",
    "    psnr_13 = cv2.PSNR(list_img[i],list_w_img_13_17_19[i])\n",
    "    proposed_PSNR_13_17_19.append(psnr_13)\n",
    "    psnr_3 = cv2.PSNR(list_img[i],list_w_img_3_7_11[i])\n",
    "    proposed_PSNR_3_7_11.append(psnr_3)\n",
    "    psnr_19 = cv2.PSNR(list_img[i],list_w_img_19_3_137[i])\n",
    "    proposed_PSNR_19_3_137.append(psnr_19)\n",
    "\n",
    "    ssim_13 = ssim(cv2.cvtColor(list_img[i],cv2.COLOR_BGR2GRAY),cv2.cvtColor(list_w_img_13_17_19[i],cv2.COLOR_BGR2GRAY))\n",
    "    proposed_ssim_13_17_19.append(ssim_13)\n",
    "    ssim_3 = ssim(cv2.cvtColor(list_img[i],cv2.COLOR_BGR2GRAY),cv2.cvtColor(list_w_img_3_7_11[i],cv2.COLOR_BGR2GRAY))  \n",
    "    proposed_ssim_3_7_11.append(ssim_3)\n",
    "    ssim_19 = ssim(cv2.cvtColor(list_img[i],cv2.COLOR_BGR2GRAY),cv2.cvtColor(list_w_img_19_3_137[i],cv2.COLOR_BGR2GRAY))\n",
    "    proposed_ssim_19_3_137.append(ssim_19)\n"
   ]
  },
  {
   "cell_type": "code",
   "execution_count": 34,
   "metadata": {},
   "outputs": [],
   "source": [
    "p_PSNR_round = [round(e,3) for e in proposed_PSNR_19_3_137]\n",
    "p_PSNR_round.append(round(np.mean(proposed_PSNR_19_3_137),3))"
   ]
  },
  {
   "cell_type": "code",
   "execution_count": 32,
   "metadata": {},
   "outputs": [],
   "source": [
    "def highlight_max(s):\n",
    "    # Get 5 largest values of the column\n",
    "    is_large1 = s.nlargest(1).values\n",
    "    is_large2 = s.nlargest(2).values\n",
    "    # Apply style is the current value is among the 5 biggest values\n",
    "    return ['color: DarkRed;font-weight:900' if v in is_large1 else 'font-weight:900' if v in is_large2 else '' for v in s]"
   ]
  },
  {
   "cell_type": "code",
   "execution_count": 38,
   "metadata": {},
   "outputs": [],
   "source": [
    "hl_df_ssim = df_all_ssim.style.apply(highlight_max,subset=df_all_ssim.columns[1:],axis = 1).apply(lambda x: ['background: lightgreen' if x.name == 8 else '' for i in x], \n",
    "               axis=1)\n",
    "hl_df_PSNR = df_all_PSNR.style.apply(highlight_max,subset=df_all_PSNR.columns[1:],axis = 1).apply(lambda x: ['background: lightgreen' if x.name == 8 else '' for i in x], \n",
    "               axis=1)"
   ]
  },
  {
   "cell_type": "code",
   "execution_count": null,
   "metadata": {},
   "outputs": [],
   "source": [
    "hl_df_ssim.format(precision=4)\n",
    "hl_df_ssim.hide_index()\n",
    "hl_df_PSNR.format(precision=4)\n",
    "hl_df_PSNR.hide_index()"
   ]
  },
  {
   "cell_type": "code",
   "execution_count": 43,
   "metadata": {},
   "outputs": [],
   "source": [
    "dfi.export(\n",
    "    hl_df_ssim,\n",
    "    \"results/Comparison_SSIM_Watermarked_Images.png\",\n",
    "    fontsize=12,\n",
    ")"
   ]
  },
  {
   "cell_type": "code",
   "execution_count": 42,
   "metadata": {},
   "outputs": [],
   "source": [
    "df_all_PSNR.to_csv(\"results/PSNR_Watermarked_Images.csv\")\n",
    "df_all_ssim.to_csv(\"results/SSIM_Watermarked_Images.csv\")"
   ]
  },
  {
   "cell_type": "code",
   "execution_count": 50,
   "metadata": {},
   "outputs": [],
   "source": [
    "N = 512\n",
    "np.random.seed(1)\n",
    "t_all_image = np.random.randint(\n",
    "    low=0, \n",
    "    high=256,\n",
    "    size=(N, N, 3),\n",
    "    dtype=np.uint8\n",
    ")"
   ]
  },
  {
   "cell_type": "code",
   "execution_count": null,
   "metadata": {},
   "outputs": [],
   "source": []
  },
  {
   "cell_type": "code",
   "execution_count": 128,
   "metadata": {},
   "outputs": [
    {
     "name": "stdout",
     "output_type": "stream",
     "text": [
      "[81, 114, 140, 162, 181, 198, 214, 229]\n"
     ]
    }
   ],
   "source": [
    "list_tr = [10,20,30,40,50,60,70,80]\n",
    "list_d = []\n",
    "for i in range(len(list_tr)):\n",
    "    list_d.append(int(np.sqrt(512*512*list_tr[i]/100)/2+ 0.5))\n",
    "print(list_d)"
   ]
  },
  {
   "cell_type": "code",
   "execution_count": 130,
   "metadata": {},
   "outputs": [],
   "source": [
    "list_PSNR_Recovered_all = []\n",
    "list_SSIM_Recovered_all = []\n",
    "for itr in range(len(list_d)):\n",
    "    list_PSNR = []\n",
    "    list_SSIM = []\n",
    "    for index_img in range(len(list_w_img_19_3_137)):\n",
    "        t_img = list_w_img_19_3_137[index_img].copy()\n",
    "        d = list_d[itr]\n",
    "        t_img[256-d:256+d,256-d:256+d,:] =  t_all_image[256-d:256+d,256-d:256+d,:]\n",
    "        lv1_matrix = level_one_detection(t_img)\n",
    "        lv2_matrix = lv1_matrix.copy()\n",
    "        lv3_matrix = lv1_matrix.copy()\n",
    "        for channel in range(3):\n",
    "            lv2_matrix[:,:,channel] = level_two_detection(lv1_matrix[:,:,channel])\n",
    "            lv3_matrix[:,:,channel] = level_three_detection(lv2_matrix[:,:,channel])\n",
    "        r1_img,lv4_BGR= stage1_recovery(t_img=t_img,key=(19,3,137))\n",
    "        r2_img,lv5_BGR = stage2_recovery(r1_img=r1_img,lv4_matrix=lv4_BGR)\n",
    "        mask1 = np.zeros((512,512),dtype = np.uint8)\n",
    "        for i in range(512):\n",
    "            for j in range(512):\n",
    "                if not lv5_BGR[int(i/1),int(j/1),0]:\n",
    "                    mask1[i,j] = 255\n",
    "        mask2 = np.zeros((512,512),dtype = np.uint8)\n",
    "        for i in range(512):\n",
    "            for j in range(512):\n",
    "                if not lv5_BGR[int(i/1),int(j/1),1]:\n",
    "                    mask2[i,j] = 255\n",
    "        mask3 = np.zeros((512,512),dtype = np.uint8)\n",
    "        for i in range(512):\n",
    "            for j in range(512):\n",
    "                if not lv5_BGR[int(i/1),int(j/1),2]:\n",
    "                    mask3[i,j] = 255\n",
    "        r3_img = t_img.copy()\n",
    "        r3_img[:,:,0] = cv2.inpaint(r2_img[:,:,0],mask1,3,cv2.INPAINT_TELEA)\n",
    "        r3_img[:,:,1] = cv2.inpaint(r2_img[:,:,1],mask2,3,cv2.INPAINT_TELEA)\n",
    "        r3_img[:,:,2] = cv2.inpaint(r2_img[:,:,2],mask3,3,cv2.INPAINT_TELEA)\n",
    "        list_PSNR.append(cv2.PSNR(r3_img,list_w_img_19_3_137[index_img]))\n",
    "        list_SSIM.append(ssim(cv2.cvtColor(r3_img,cv2.COLOR_BGR2GRAY),cv2.cvtColor(list_w_img_19_3_137[index_img],cv2.COLOR_BGR2GRAY)))\n",
    "    list_PSNR_Recovered_all.append(list_PSNR)\n",
    "    list_SSIM_Recovered_all.append(list_SSIM)"
   ]
  },
  {
   "cell_type": "code",
   "execution_count": 83,
   "metadata": {},
   "outputs": [],
   "source": [
    "list_image_name =  ['Airplane', 'Baboon', 'House', 'Lena','Peppers','Sailboat','Splash','Tiffany','Average']"
   ]
  },
  {
   "cell_type": "code",
   "execution_count": null,
   "metadata": {},
   "outputs": [],
   "source": [
    "for i in range(8):\n",
    "    print(list_image_name[i]+\",\"+f\"{list_recall_all[i][0]:.5f}\"+\",\"+f\"{list_recall_all[i][1]:.5f}\"+\",\"+f\"{list_recall_all[i][2]:.5f}\"+\",\"+f\"{list_recall_all[i][3]:.5f}\")"
   ]
  },
  {
   "cell_type": "code",
   "execution_count": 146,
   "metadata": {},
   "outputs": [
    {
     "name": "stdout",
     "output_type": "stream",
     "text": [
      "39.61632285404647\n"
     ]
    }
   ],
   "source": [
    "print(np.mean(list_PSNR_Recovered_all[0]))"
   ]
  }
 ],
 "metadata": {
  "kernelspec": {
   "display_name": "pythonENV",
   "language": "python",
   "name": "python3"
  },
  "language_info": {
   "codemirror_mode": {
    "name": "ipython",
    "version": 3
   },
   "file_extension": ".py",
   "mimetype": "text/x-python",
   "name": "python",
   "nbconvert_exporter": "python",
   "pygments_lexer": "ipython3",
   "version": "3.10.9"
  },
  "orig_nbformat": 4
 },
 "nbformat": 4,
 "nbformat_minor": 2
}
