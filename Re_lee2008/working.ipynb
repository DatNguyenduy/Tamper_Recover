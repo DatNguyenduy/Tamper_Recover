{
 "cells": [
  {
   "cell_type": "code",
   "execution_count": 37,
   "metadata": {},
   "outputs": [],
   "source": [
    "import cv2\n",
    "import numpy as np\n",
    "from utils import *\n",
    "from forward import *\n"
   ]
  },
  {
   "cell_type": "code",
   "execution_count": 38,
   "metadata": {},
   "outputs": [
    {
     "name": "stdout",
     "output_type": "stream",
     "text": [
      "(array([138], dtype=int64), array([164], dtype=int64))\n",
      "[1 1 1 0 1 1 1 1 1 1 0 0]\n",
      "[0 1 1 1 1 1 0 0 0 1 0 1]\n"
     ]
    }
   ],
   "source": [
    "image = cv2.imread(\"D:\\\\Dat_Hoctap\\\\2023\\\\Tamper_Recover\\\\Data\\\\Lenna.png\",0)\n",
    "w_image = image_gen_emb_w(image,137)"
   ]
  },
  {
   "cell_type": "code",
   "execution_count": 39,
   "metadata": {},
   "outputs": [],
   "source": [
    "ir = 10\n",
    "half = 128\n",
    "ic = 164\n",
    "A = image[ir*2:ir*2 + 2,ic*2 :ic*2 + 2].copy()\n",
    "B = image[(ir+half)*2:(ir+half)*2 + 2,ic*2:ic*2 + 2].copy()\n",
    "C = image[0:2,0:2].copy()"
   ]
  },
  {
   "cell_type": "code",
   "execution_count": 40,
   "metadata": {},
   "outputs": [
    {
     "name": "stdout",
     "output_type": "stream",
     "text": [
      "[[169 169]\n",
      " [169 169]]\n"
     ]
    }
   ],
   "source": [
    "print(C)"
   ]
  },
  {
   "cell_type": "code",
   "execution_count": 41,
   "metadata": {},
   "outputs": [
    {
     "name": "stdout",
     "output_type": "stream",
     "text": [
      "[0 1 1 1 1 1 0 0 0 1 0 1]\n",
      "[[171 167]\n",
      " [168 173]]\n",
      "[1 0 1 0 1 0 1 1]\n",
      "[1 0 1 0 0 1 1 1]\n",
      "[1 0 1 0 1 0 0 0]\n",
      "[1 0 1 0 1 1 0 1]\n"
     ]
    }
   ],
   "source": [
    "print(watermark_gen(A,B))\n",
    "newC = one_block_emb(C,watermark_gen(A,B))\n",
    "print(newC)\n",
    "for e in newC:\n",
    "    for ee in e:\n",
    "        print(np.unpackbits(ee))"
   ]
  },
  {
   "cell_type": "code",
   "execution_count": 42,
   "metadata": {},
   "outputs": [
    {
     "name": "stdout",
     "output_type": "stream",
     "text": [
      "[1 0 1 0 1 1 1 1]\n",
      "6\n"
     ]
    }
   ],
   "source": [
    "bits = np.unpackbits(C[0,1])\n",
    "nbits = bits.copy()\n",
    "nbits[5] = 1\n",
    "nbits[6] = 1\n",
    "print(nbits)\n",
    "print(int(np.packbits(nbits))- int(C[0,1]))"
   ]
  },
  {
   "cell_type": "code",
   "execution_count": 43,
   "metadata": {},
   "outputs": [
    {
     "name": "stdout",
     "output_type": "stream",
     "text": [
      "65536\n",
      "35399\n"
     ]
    }
   ],
   "source": [
    "N = int(512/2)*int(512/2)\n",
    "print(N)\n",
    "for i in range(N):\n",
    "    if (137*(i) % N + 1) % N == 0:\n",
    "        print(i)"
   ]
  },
  {
   "cell_type": "code",
   "execution_count": 44,
   "metadata": {},
   "outputs": [
    {
     "name": "stdout",
     "output_type": "stream",
     "text": [
      "(array([0], dtype=int64), array([0], dtype=int64))\n"
     ]
    }
   ],
   "source": [
    "A = np.array([[1,2],[3,4]])\n",
    "print(np.where(A==1))"
   ]
  },
  {
   "cell_type": "code",
   "execution_count": 45,
   "metadata": {},
   "outputs": [],
   "source": [
    "def watermark_extract(A):\n",
    "    joint_12bits = np.zeros(12,dtype=np.uint8)\n",
    "    i = 0\n",
    "    for e in A.flatten():\n",
    "        joint_12bits[i:i+3] = np.unpackbits(e)[-3:]\n",
    "        i += 3\n",
    "    return joint_12bits"
   ]
  },
  {
   "cell_type": "code",
   "execution_count": 46,
   "metadata": {},
   "outputs": [
    {
     "name": "stdout",
     "output_type": "stream",
     "text": [
      "[[1 1 1 1]\n",
      " [1 1 2 1]\n",
      " [1 3 4 1]\n",
      " [1 1 1 1]]\n"
     ]
    }
   ],
   "source": [
    "print(np.pad(A,1,'constant',constant_values=True))"
   ]
  },
  {
   "cell_type": "code",
   "execution_count": 55,
   "metadata": {},
   "outputs": [],
   "source": [
    "def level_two_check(lv1_table):\n",
    "    lv1_table_pad = np.pad(lv1_table,1,'constant',constant_values=True)\n",
    "    lv2_table = lv1_table.copy()\n",
    "    list_index_valid = np.where(lv1_table==True)\n",
    "    tribles = [[[0,-1],[-1,-1],[-1,0]],[[-1,0],[-1,1],[0,1]],[[0,1],[1,1],[1,0]],[[1,0],[1,-1],[0,-1]]]\n",
    "    for i in range(len(list_index_valid[0])):\n",
    "        ir = list_index_valid[0][i]\n",
    "        ic = list_index_valid[1][i]\n",
    "        ipr = ir + 1\n",
    "        ipc = ic + 1\n",
    "        for trible in tribles: \n",
    "            valid = False\n",
    "            for dr,dc in trible:\n",
    "                valid = valid or lv1_table_pad[ipr+dr,ipc+dc]\n",
    "            if not valid:\n",
    "                lv2_table[ir,ic] = False\n",
    "                break\n",
    "    return lv2_table"
   ]
  },
  {
   "cell_type": "code",
   "execution_count": 69,
   "metadata": {},
   "outputs": [],
   "source": [
    "def level_three_check(lv2_table):\n",
    "    lv2_table_pad = np.pad(lv2_table,1,'constant',constant_values=True)\n",
    "    lv3_table = lv2_table.copy()\n",
    "    list_index_valid = np.where(lv2_table==True)\n",
    "    neighbors = [[0,-1],[-1,-1],[-1,0],[-1,1],[0,1],[1,1],[1,0],[1,-1]]\n",
    "    for i in range(len(list_index_valid[0])):\n",
    "        ir = list_index_valid[0][i]\n",
    "        ic = list_index_valid[1][i]\n",
    "        ipr = ir + 1\n",
    "        ipc = ic + 1\n",
    "        count = 0\n",
    "        for dr,dc in neighbors:\n",
    "            if not lv2_table_pad[ipr+dr,ipc+dc]:\n",
    "                count += 1\n",
    "                if count>=5:\n",
    "                    lv3_table[ir,ic] = False\n",
    "                    break\n",
    "    return lv3_table    "
   ]
  },
  {
   "cell_type": "code",
   "execution_count": 68,
   "metadata": {},
   "outputs": [
    {
     "name": "stdout",
     "output_type": "stream",
     "text": [
      "3\n",
      "0\n",
      "1\n",
      "2\n",
      "5\n",
      "8\n",
      "7\n",
      "6\n",
      "[[0 1 2]\n",
      " [3 4 5]\n",
      " [6 7 8]]\n"
     ]
    }
   ],
   "source": [
    "a = np.arange(9).reshape((3,3))\n",
    "neighbors = [[0,-1],[-1,-1],[-1,0],[-1,1],[0,1],[1,1],[1,0],[1,-1]]\n",
    "i = 1\n",
    "j = 1\n",
    "for dr,dc in neighbors:\n",
    "    print(a[i+dr,j+dc])\n",
    "print(a)"
   ]
  },
  {
   "cell_type": "code",
   "execution_count": 48,
   "metadata": {},
   "outputs": [
    {
     "name": "stdout",
     "output_type": "stream",
     "text": [
      "[[0, -1], [-1, -1], [-1, 0]]\n",
      "[[-1, 0], [-1, 1], [0, 1]]\n",
      "[[0, 1], [1, 1], [1, 0]]\n",
      "change to invalid\n"
     ]
    }
   ],
   "source": [
    "table = np.ones((3,3),dtype=np.bool_)\n",
    "table[1,2] = False\n",
    "table[2,1] = False\n",
    "table[2,2] = False\n",
    "# table[0,1] = False\n",
    "ipr = 1\n",
    "ipc = 1\n",
    "tribles = [[[0,-1],[-1,-1],[-1,0]],[[-1,0],[-1,1],[0,1]],[[0,1],[1,1],[1,0]],[[1,0],[1,-1],[0,-1]]]\n",
    "for trible in tribles:\n",
    "    print(trible)\n",
    "    valid = False\n",
    "    for dr,dc in trible:\n",
    "        valid = valid or table[ipr+dr,ipc+dc]\n",
    "    if not valid:\n",
    "        print(\"change to invalid\")\n",
    "        break\n",
    "    "
   ]
  },
  {
   "cell_type": "code",
   "execution_count": 49,
   "metadata": {},
   "outputs": [
    {
     "name": "stdout",
     "output_type": "stream",
     "text": [
      "[[ True  True  True]\n",
      " [ True  True False]\n",
      " [ True False False]]\n"
     ]
    }
   ],
   "source": [
    "print(table)"
   ]
  },
  {
   "cell_type": "code",
   "execution_count": null,
   "metadata": {},
   "outputs": [],
   "source": []
  },
  {
   "cell_type": "code",
   "execution_count": 50,
   "metadata": {},
   "outputs": [],
   "source": [
    "def detection(w_image,key):\n",
    "    nr,nc = w_image.shape[:2]\n",
    "    nr_table = int(nr/2)\n",
    "    nc_table = int(nc/2)\n",
    "    lu_table = create_luck_up_table(nr_table,nc_table,key)\n",
    "    level_one = np.ones((nr_table,nc_table),dtype = np.bool)\n",
    "    half = int(nr_table/2)\n",
    "    # Step1 level 1 detection\n",
    "    for ir in range(nr_table):\n",
    "        for ic in range(nc_table):\n",
    "            A = w_image[ir*2:ir*2 + 2,ic*2 :ic*2 + 2].copy()\n",
    "            # B = w_image[(ir+half)*2:(ir+half)*2 + 2,ic*2:ic*2 + 2].copy()\n",
    "            # ir_co_A = int(lu_table[ir,ic]/nc_table)\n",
    "            # ic_co_A = int(lu_table[ir,ic]%nc_table)\n",
    "            # ir_co_B = int(lu_table[ir+half,ic]/nc_table)\n",
    "            # ic_co_B = int(lu_table[ir+half,ic]%nc_table)\n",
    "            joint_12bits = watermark_extract(A)\n",
    "            lv_one_check = level_one_check(joint_12bits) \n",
    "            if lv_one_check == 0 : \n",
    "                print(\"invalid\",ir,ic,joint_12bits)\n",
    "                level_one[ir,ic] = False\n",
    "    # Step2 Level 2 detection:\n",
    "    \n",
    "    return level_one"
   ]
  },
  {
   "cell_type": "code",
   "execution_count": 51,
   "metadata": {},
   "outputs": [
    {
     "name": "stderr",
     "output_type": "stream",
     "text": [
      "C:\\Users\\DuyDat\\AppData\\Local\\Temp\\ipykernel_10940\\260391646.py:6: DeprecationWarning: `np.bool` is a deprecated alias for the builtin `bool`. To silence this warning, use `bool` by itself. Doing this will not modify any behavior and is safe. If you specifically wanted the numpy scalar type, use `np.bool_` here.\n",
      "Deprecated in NumPy 1.20; for more details and guidance: https://numpy.org/devdocs/release/1.20.0-notes.html#deprecations\n",
      "  level_one = np.ones((nr_table,nc_table),dtype = np.bool)\n"
     ]
    }
   ],
   "source": [
    "level_one = detection(w_image=w_image,key=137)"
   ]
  },
  {
   "cell_type": "code",
   "execution_count": 52,
   "metadata": {},
   "outputs": [
    {
     "name": "stdout",
     "output_type": "stream",
     "text": [
      "[[ True  True  True ...  True  True  True]\n",
      " [ True  True  True ...  True  True  True]\n",
      " [ True  True  True ...  True  True  True]\n",
      " ...\n",
      " [ True  True  True ...  True  True  True]\n",
      " [ True  True  True ...  True  True  True]\n",
      " [ True  True  True ...  True  True  True]]\n"
     ]
    }
   ],
   "source": [
    "\n",
    "print(level_one)"
   ]
  },
  {
   "cell_type": "code",
   "execution_count": 70,
   "metadata": {},
   "outputs": [],
   "source": [
    "level_two = level_two_check(level_one)\n",
    "level_three = level_three_check(level_two)"
   ]
  },
  {
   "cell_type": "code",
   "execution_count": 71,
   "metadata": {},
   "outputs": [
    {
     "name": "stdout",
     "output_type": "stream",
     "text": [
      "(array([], dtype=int64), array([], dtype=int64))\n"
     ]
    }
   ],
   "source": [
    "print(np.where(level_three==False))"
   ]
  }
 ],
 "metadata": {
  "kernelspec": {
   "display_name": "pythonENV",
   "language": "python",
   "name": "python3"
  },
  "language_info": {
   "codemirror_mode": {
    "name": "ipython",
    "version": 3
   },
   "file_extension": ".py",
   "mimetype": "text/x-python",
   "name": "python",
   "nbconvert_exporter": "python",
   "pygments_lexer": "ipython3",
   "version": "3.9.13"
  },
  "orig_nbformat": 4,
  "vscode": {
   "interpreter": {
    "hash": "ab8f65456e7d77ca6f2d75614780803c30d951977b442e4c95583bfcd11568d1"
   }
  }
 },
 "nbformat": 4,
 "nbformat_minor": 2
}
