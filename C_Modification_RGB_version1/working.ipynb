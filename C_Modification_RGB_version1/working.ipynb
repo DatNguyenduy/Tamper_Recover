{
 "cells": [
  {
   "cell_type": "code",
   "execution_count": 6,
   "metadata": {},
   "outputs": [],
   "source": [
    "import sys\n",
    "sys.path.append(\"..\")\n",
    "from utils import *\n",
    "import numpy as np"
   ]
  },
  {
   "cell_type": "code",
   "execution_count": 7,
   "metadata": {},
   "outputs": [
    {
     "name": "stdout",
     "output_type": "stream",
     "text": [
      "1\n",
      "4\n",
      "7\n",
      "10\n",
      "13\n",
      "0\n",
      "3\n",
      "6\n",
      "9\n",
      "12\n",
      "15\n",
      "2\n",
      "5\n",
      "8\n",
      "11\n",
      "14\n"
     ]
    }
   ],
   "source": [
    "for i in range(16):\n",
    "    print(f_1D_transform(i,key=3,N = 16))"
   ]
  },
  {
   "cell_type": "code",
   "execution_count": 13,
   "metadata": {},
   "outputs": [
    {
     "name": "stdout",
     "output_type": "stream",
     "text": [
      "[[1820 1821 1822 1823]\n",
      " [1884 1885 1886 1887]\n",
      " [1948 1949 1950 1951]\n",
      " [2012 2013 2014 2015]]\n"
     ]
    }
   ],
   "source": [
    "\n",
    "o_table = np.array(range(64*64)).reshape(64,64)\n",
    "print(o_table[28:32,28:32])"
   ]
  },
  {
   "cell_type": "code",
   "execution_count": 14,
   "metadata": {},
   "outputs": [
    {
     "name": "stdout",
     "output_type": "stream",
     "text": [
      "[[3379 3440 3575 3636]\n",
      " [3187 3248 3383 3444]\n",
      " [4019 4080 3191 3252]\n",
      " [3827 3888 4023 4084]]\n"
     ]
    }
   ],
   "source": [
    "lu_table = create_luck_up_table(64,64,13)\n",
    "print(lu_table[28:32,28:32])"
   ]
  },
  {
   "cell_type": "code",
   "execution_count": 16,
   "metadata": {},
   "outputs": [
    {
     "name": "stdout",
     "output_type": "stream",
     "text": [
      "28 28\n",
      "28 29\n",
      "28 30\n",
      "28 31\n",
      "28 32\n",
      "28 33\n",
      "28 34\n",
      "28 35\n",
      "next\n",
      "29 28\n",
      "29 29\n",
      "29 30\n",
      "29 31\n",
      "29 32\n",
      "29 33\n",
      "29 34\n",
      "29 35\n",
      "next\n",
      "30 28\n",
      "30 29\n",
      "30 30\n",
      "30 31\n",
      "30 32\n",
      "30 33\n",
      "30 34\n",
      "30 35\n",
      "next\n",
      "31 28\n",
      "31 29\n",
      "31 30\n",
      "31 31\n",
      "31 32\n",
      "31 33\n",
      "31 34\n",
      "31 35\n",
      "next\n",
      "32 28\n",
      "32 29\n",
      "32 30\n",
      "32 31\n",
      "32 32\n",
      "32 33\n",
      "32 34\n",
      "32 35\n",
      "next\n",
      "33 28\n",
      "33 29\n",
      "33 30\n",
      "33 31\n",
      "33 32\n",
      "33 33\n",
      "33 34\n",
      "33 35\n",
      "next\n",
      "34 28\n",
      "34 29\n",
      "34 30\n",
      "34 31\n",
      "34 32\n",
      "34 33\n",
      "34 34\n",
      "34 35\n",
      "next\n",
      "35 28\n",
      "35 29\n",
      "35 30\n",
      "35 31\n",
      "35 32\n",
      "35 33\n",
      "35 34\n",
      "35 35\n",
      "next\n"
     ]
    }
   ],
   "source": [
    "for i in range(28,36):\n",
    "    for j in range(28,36):\n",
    "        print(int(o_table[i,j]/64),o_table[i,j]%64)\n",
    "    print(\"next\")"
   ]
  },
  {
   "cell_type": "code",
   "execution_count": 15,
   "metadata": {},
   "outputs": [
    {
     "name": "stdout",
     "output_type": "stream",
     "text": [
      "52 51\n",
      "53 48\n",
      "55 55\n",
      "56 52\n",
      "28 30\n",
      "29 27\n",
      "30 24\n",
      "16 31\n",
      "next\n",
      "49 51\n",
      "50 48\n",
      "52 55\n",
      "53 52\n",
      "25 30\n",
      "26 27\n",
      "27 24\n",
      "29 31\n",
      "next\n",
      "62 51\n",
      "63 48\n",
      "49 55\n",
      "50 52\n",
      "22 30\n",
      "23 27\n",
      "24 24\n",
      "26 31\n",
      "next\n",
      "59 51\n",
      "60 48\n",
      "62 55\n",
      "63 52\n",
      "19 30\n",
      "20 27\n",
      "21 24\n",
      "23 31\n",
      "next\n",
      "8 51\n",
      "9 48\n",
      "11 55\n",
      "12 52\n",
      "32 30\n",
      "33 27\n",
      "34 24\n",
      "36 31\n",
      "next\n",
      "5 51\n",
      "6 48\n",
      "8 55\n",
      "9 52\n",
      "45 30\n",
      "46 27\n",
      "47 24\n",
      "33 31\n",
      "next\n",
      "2 51\n",
      "3 48\n",
      "5 55\n",
      "6 52\n",
      "42 30\n",
      "43 27\n",
      "44 24\n",
      "46 31\n",
      "next\n",
      "15 51\n",
      "0 48\n",
      "2 55\n",
      "3 52\n",
      "39 30\n",
      "40 27\n",
      "41 24\n",
      "43 31\n",
      "next\n"
     ]
    }
   ],
   "source": [
    "for i in range(28,36):\n",
    "    for j in range(28,36):\n",
    "        print(int(lu_table[i,j]/64),lu_table[i,j]%64)\n",
    "    print(\"next\")"
   ]
  }
 ],
 "metadata": {
  "kernelspec": {
   "display_name": "pytorch_DL",
   "language": "python",
   "name": "python3"
  },
  "language_info": {
   "codemirror_mode": {
    "name": "ipython",
    "version": 3
   },
   "file_extension": ".py",
   "mimetype": "text/x-python",
   "name": "python",
   "nbconvert_exporter": "python",
   "pygments_lexer": "ipython3",
   "version": "3.11.0"
  },
  "orig_nbformat": 4
 },
 "nbformat": 4,
 "nbformat_minor": 2
}
