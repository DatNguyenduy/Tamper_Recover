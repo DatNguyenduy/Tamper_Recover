{
 "cells": [
  {
   "cell_type": "code",
   "execution_count": 18,
   "metadata": {},
   "outputs": [],
   "source": [
    "import pandas as pd\n",
    "import json\n",
    "import dataframe_image as dfi"
   ]
  },
  {
   "cell_type": "code",
   "execution_count": null,
   "metadata": {},
   "outputs": [],
   "source": [
    "TR,Tong(2013),Dadklah(2014),Singh(2016),Fan(2018),Tai(2018),Molina(2019),Afrig(2022)\n",
    "10,0.9733,0.9131,0.9290,0.9731,0.9384,0.9714,0.9928\n",
    "20,0.9171,0.7983,0.8310,0.9502,0.8443,0.9390,0.9864\n",
    "30,0.8282,0.6855,0.7257,0.8875,0.7364,0.8977,0.9742\n",
    "40,0.7150,0.5731,0.6215,0.7230,0.6226,0.8368,0.9555\n",
    "50,0.5849,0.4704,0.5139,0.7202,0.5135,0.7571,0.9339\n",
    "60,0.4520,0.3586,0.3984,0.4249,0.3899,0.6460,0.9059\n",
    "70,0.3233,0.2506,0.2855,0.4249,0.2744,0.5157,0.8705\n",
    "80,0.2042,0.1511,0.1799,0.0094,0.1655,0.3958,0.8219"
   ]
  },
  {
   "cell_type": "code",
   "execution_count": 22,
   "metadata": {},
   "outputs": [],
   "source": [
    "df = pd.read_csv(\"data_average_SSIM_all.csv\")"
   ]
  },
  {
   "cell_type": "code",
   "execution_count": 27,
   "metadata": {},
   "outputs": [],
   "source": [
    "df[\"Muzamil(2022)\"] = [0.9920,0.9899,0.9879,0.9835,0.9187,0.8339,0.6724,0.6303]"
   ]
  },
  {
   "cell_type": "code",
   "execution_count": 28,
   "metadata": {},
   "outputs": [],
   "source": [
    "df1 = pd.read_csv(\"D:\\\\Dat_Hoctap\\\\2023\\\\Tamper_Recover\\\\F_Modification_RGB_v1\\\\experimental\\\\SSIM_all_recovered.csv\")"
   ]
  },
  {
   "cell_type": "code",
   "execution_count": 29,
   "metadata": {},
   "outputs": [],
   "source": [
    "df[\"Proposed Method\"] = df1[\"Average\"]\n"
   ]
  },
  {
   "cell_type": "code",
   "execution_count": 31,
   "metadata": {},
   "outputs": [],
   "source": [
    "df.to_csv(\"D:\\\\Dat_Hoctap\\\\2023\\\\Tamper_Recover\\\\F_Modification_RGB_v1\\\\results\\\\Comparision_SSIM_Average_all.csv\")"
   ]
  },
  {
   "cell_type": "code",
   "execution_count": 32,
   "metadata": {},
   "outputs": [],
   "source": [
    "def highlight_max(s):\n",
    "    # Get 5 largest values of the column\n",
    "    is_large1 = s.nlargest(1).values\n",
    "    is_large2 = s.nlargest(2).values\n",
    "    # Apply style is the current value is among the 5 biggest values\n",
    "    return ['color: DarkRed;font-weight:900' if v in is_large1 else 'font-weight:900' if v in is_large2 else '' for v in s]"
   ]
  },
  {
   "cell_type": "code",
   "execution_count": 34,
   "metadata": {},
   "outputs": [
    {
     "name": "stderr",
     "output_type": "stream",
     "text": [
      "C:\\Users\\DuyDat\\AppData\\Local\\Temp\\ipykernel_17864\\4234004496.py:3: FutureWarning: this method is deprecated in favour of `Styler.hide(axis='index')`\n",
      "  hl_df_all.hide_index()\n"
     ]
    },
    {
     "data": {
      "text/html": [
       "<style type=\"text/css\">\n",
       "#T_23326_row0_col7, #T_23326_row1_col8, #T_23326_row2_col8, #T_23326_row3_col8, #T_23326_row4_col7, #T_23326_row5_col7, #T_23326_row6_col7, #T_23326_row7_col7 {\n",
       "  color: DarkRed;\n",
       "  font-weight: 900;\n",
       "}\n",
       "#T_23326_row0_col8, #T_23326_row1_col7, #T_23326_row2_col7, #T_23326_row3_col7, #T_23326_row4_col8, #T_23326_row5_col9, #T_23326_row6_col9, #T_23326_row7_col9 {\n",
       "  font-weight: 900;\n",
       "}\n",
       "</style>\n",
       "<table id=\"T_23326\">\n",
       "  <thead>\n",
       "    <tr>\n",
       "      <th id=\"T_23326_level0_col0\" class=\"col_heading level0 col0\" >TR</th>\n",
       "      <th id=\"T_23326_level0_col1\" class=\"col_heading level0 col1\" >Tong(2013)</th>\n",
       "      <th id=\"T_23326_level0_col2\" class=\"col_heading level0 col2\" >Dadklah(2014)</th>\n",
       "      <th id=\"T_23326_level0_col3\" class=\"col_heading level0 col3\" >Singh(2016)</th>\n",
       "      <th id=\"T_23326_level0_col4\" class=\"col_heading level0 col4\" >Fan(2018)</th>\n",
       "      <th id=\"T_23326_level0_col5\" class=\"col_heading level0 col5\" >Tai(2018)</th>\n",
       "      <th id=\"T_23326_level0_col6\" class=\"col_heading level0 col6\" >Molina(2019)</th>\n",
       "      <th id=\"T_23326_level0_col7\" class=\"col_heading level0 col7\" >Afrig(2022)</th>\n",
       "      <th id=\"T_23326_level0_col8\" class=\"col_heading level0 col8\" >Muzamil(2022)</th>\n",
       "      <th id=\"T_23326_level0_col9\" class=\"col_heading level0 col9\" >Proposed Method</th>\n",
       "    </tr>\n",
       "  </thead>\n",
       "  <tbody>\n",
       "    <tr>\n",
       "      <td id=\"T_23326_row0_col0\" class=\"data row0 col0\" >10</td>\n",
       "      <td id=\"T_23326_row0_col1\" class=\"data row0 col1\" >0.9733</td>\n",
       "      <td id=\"T_23326_row0_col2\" class=\"data row0 col2\" >0.9131</td>\n",
       "      <td id=\"T_23326_row0_col3\" class=\"data row0 col3\" >0.9290</td>\n",
       "      <td id=\"T_23326_row0_col4\" class=\"data row0 col4\" >0.9731</td>\n",
       "      <td id=\"T_23326_row0_col5\" class=\"data row0 col5\" >0.9384</td>\n",
       "      <td id=\"T_23326_row0_col6\" class=\"data row0 col6\" >0.9714</td>\n",
       "      <td id=\"T_23326_row0_col7\" class=\"data row0 col7\" >0.9928</td>\n",
       "      <td id=\"T_23326_row0_col8\" class=\"data row0 col8\" >0.9920</td>\n",
       "      <td id=\"T_23326_row0_col9\" class=\"data row0 col9\" >0.9884</td>\n",
       "    </tr>\n",
       "    <tr>\n",
       "      <td id=\"T_23326_row1_col0\" class=\"data row1 col0\" >20</td>\n",
       "      <td id=\"T_23326_row1_col1\" class=\"data row1 col1\" >0.9171</td>\n",
       "      <td id=\"T_23326_row1_col2\" class=\"data row1 col2\" >0.7983</td>\n",
       "      <td id=\"T_23326_row1_col3\" class=\"data row1 col3\" >0.8310</td>\n",
       "      <td id=\"T_23326_row1_col4\" class=\"data row1 col4\" >0.9502</td>\n",
       "      <td id=\"T_23326_row1_col5\" class=\"data row1 col5\" >0.8443</td>\n",
       "      <td id=\"T_23326_row1_col6\" class=\"data row1 col6\" >0.9390</td>\n",
       "      <td id=\"T_23326_row1_col7\" class=\"data row1 col7\" >0.9864</td>\n",
       "      <td id=\"T_23326_row1_col8\" class=\"data row1 col8\" >0.9899</td>\n",
       "      <td id=\"T_23326_row1_col9\" class=\"data row1 col9\" >0.9775</td>\n",
       "    </tr>\n",
       "    <tr>\n",
       "      <td id=\"T_23326_row2_col0\" class=\"data row2 col0\" >30</td>\n",
       "      <td id=\"T_23326_row2_col1\" class=\"data row2 col1\" >0.8282</td>\n",
       "      <td id=\"T_23326_row2_col2\" class=\"data row2 col2\" >0.6855</td>\n",
       "      <td id=\"T_23326_row2_col3\" class=\"data row2 col3\" >0.7257</td>\n",
       "      <td id=\"T_23326_row2_col4\" class=\"data row2 col4\" >0.8875</td>\n",
       "      <td id=\"T_23326_row2_col5\" class=\"data row2 col5\" >0.7364</td>\n",
       "      <td id=\"T_23326_row2_col6\" class=\"data row2 col6\" >0.8977</td>\n",
       "      <td id=\"T_23326_row2_col7\" class=\"data row2 col7\" >0.9742</td>\n",
       "      <td id=\"T_23326_row2_col8\" class=\"data row2 col8\" >0.9879</td>\n",
       "      <td id=\"T_23326_row2_col9\" class=\"data row2 col9\" >0.9596</td>\n",
       "    </tr>\n",
       "    <tr>\n",
       "      <td id=\"T_23326_row3_col0\" class=\"data row3 col0\" >40</td>\n",
       "      <td id=\"T_23326_row3_col1\" class=\"data row3 col1\" >0.7150</td>\n",
       "      <td id=\"T_23326_row3_col2\" class=\"data row3 col2\" >0.5731</td>\n",
       "      <td id=\"T_23326_row3_col3\" class=\"data row3 col3\" >0.6215</td>\n",
       "      <td id=\"T_23326_row3_col4\" class=\"data row3 col4\" >0.7230</td>\n",
       "      <td id=\"T_23326_row3_col5\" class=\"data row3 col5\" >0.6226</td>\n",
       "      <td id=\"T_23326_row3_col6\" class=\"data row3 col6\" >0.8368</td>\n",
       "      <td id=\"T_23326_row3_col7\" class=\"data row3 col7\" >0.9555</td>\n",
       "      <td id=\"T_23326_row3_col8\" class=\"data row3 col8\" >0.9835</td>\n",
       "      <td id=\"T_23326_row3_col9\" class=\"data row3 col9\" >0.9273</td>\n",
       "    </tr>\n",
       "    <tr>\n",
       "      <td id=\"T_23326_row4_col0\" class=\"data row4 col0\" >50</td>\n",
       "      <td id=\"T_23326_row4_col1\" class=\"data row4 col1\" >0.5849</td>\n",
       "      <td id=\"T_23326_row4_col2\" class=\"data row4 col2\" >0.4704</td>\n",
       "      <td id=\"T_23326_row4_col3\" class=\"data row4 col3\" >0.5139</td>\n",
       "      <td id=\"T_23326_row4_col4\" class=\"data row4 col4\" >0.7202</td>\n",
       "      <td id=\"T_23326_row4_col5\" class=\"data row4 col5\" >0.5135</td>\n",
       "      <td id=\"T_23326_row4_col6\" class=\"data row4 col6\" >0.7571</td>\n",
       "      <td id=\"T_23326_row4_col7\" class=\"data row4 col7\" >0.9339</td>\n",
       "      <td id=\"T_23326_row4_col8\" class=\"data row4 col8\" >0.9187</td>\n",
       "      <td id=\"T_23326_row4_col9\" class=\"data row4 col9\" >0.8831</td>\n",
       "    </tr>\n",
       "    <tr>\n",
       "      <td id=\"T_23326_row5_col0\" class=\"data row5 col0\" >60</td>\n",
       "      <td id=\"T_23326_row5_col1\" class=\"data row5 col1\" >0.4520</td>\n",
       "      <td id=\"T_23326_row5_col2\" class=\"data row5 col2\" >0.3586</td>\n",
       "      <td id=\"T_23326_row5_col3\" class=\"data row5 col3\" >0.3984</td>\n",
       "      <td id=\"T_23326_row5_col4\" class=\"data row5 col4\" >0.4249</td>\n",
       "      <td id=\"T_23326_row5_col5\" class=\"data row5 col5\" >0.3899</td>\n",
       "      <td id=\"T_23326_row5_col6\" class=\"data row5 col6\" >0.6460</td>\n",
       "      <td id=\"T_23326_row5_col7\" class=\"data row5 col7\" >0.9059</td>\n",
       "      <td id=\"T_23326_row5_col8\" class=\"data row5 col8\" >0.8339</td>\n",
       "      <td id=\"T_23326_row5_col9\" class=\"data row5 col9\" >0.8389</td>\n",
       "    </tr>\n",
       "    <tr>\n",
       "      <td id=\"T_23326_row6_col0\" class=\"data row6 col0\" >70</td>\n",
       "      <td id=\"T_23326_row6_col1\" class=\"data row6 col1\" >0.3233</td>\n",
       "      <td id=\"T_23326_row6_col2\" class=\"data row6 col2\" >0.2506</td>\n",
       "      <td id=\"T_23326_row6_col3\" class=\"data row6 col3\" >0.2855</td>\n",
       "      <td id=\"T_23326_row6_col4\" class=\"data row6 col4\" >0.4249</td>\n",
       "      <td id=\"T_23326_row6_col5\" class=\"data row6 col5\" >0.2744</td>\n",
       "      <td id=\"T_23326_row6_col6\" class=\"data row6 col6\" >0.5157</td>\n",
       "      <td id=\"T_23326_row6_col7\" class=\"data row6 col7\" >0.8705</td>\n",
       "      <td id=\"T_23326_row6_col8\" class=\"data row6 col8\" >0.6724</td>\n",
       "      <td id=\"T_23326_row6_col9\" class=\"data row6 col9\" >0.7821</td>\n",
       "    </tr>\n",
       "    <tr>\n",
       "      <td id=\"T_23326_row7_col0\" class=\"data row7 col0\" >80</td>\n",
       "      <td id=\"T_23326_row7_col1\" class=\"data row7 col1\" >0.2042</td>\n",
       "      <td id=\"T_23326_row7_col2\" class=\"data row7 col2\" >0.1511</td>\n",
       "      <td id=\"T_23326_row7_col3\" class=\"data row7 col3\" >0.1799</td>\n",
       "      <td id=\"T_23326_row7_col4\" class=\"data row7 col4\" >0.0094</td>\n",
       "      <td id=\"T_23326_row7_col5\" class=\"data row7 col5\" >0.1655</td>\n",
       "      <td id=\"T_23326_row7_col6\" class=\"data row7 col6\" >0.3958</td>\n",
       "      <td id=\"T_23326_row7_col7\" class=\"data row7 col7\" >0.8219</td>\n",
       "      <td id=\"T_23326_row7_col8\" class=\"data row7 col8\" >0.6303</td>\n",
       "      <td id=\"T_23326_row7_col9\" class=\"data row7 col9\" >0.7079</td>\n",
       "    </tr>\n",
       "  </tbody>\n",
       "</table>\n"
      ],
      "text/plain": [
       "<pandas.io.formats.style.Styler at 0x19f96b0c4c0>"
      ]
     },
     "execution_count": 34,
     "metadata": {},
     "output_type": "execute_result"
    }
   ],
   "source": [
    "hl_df_all = df.style.apply(highlight_max,subset=df.columns[1:],axis=1)\n",
    "hl_df_all.format(precision=4)\n",
    "hl_df_all.hide_index()"
   ]
  },
  {
   "cell_type": "code",
   "execution_count": 35,
   "metadata": {},
   "outputs": [],
   "source": [
    "dfi.export(\n",
    "    hl_df_all,\n",
    "    \"D:\\\\Dat_Hoctap\\\\2023\\\\Tamper_Recover\\\\F_Modification_RGB_v1\\\\results\\\\Comparision_AverageSSIM_recovered_Images.png\",\n",
    "    fontsize=12,\n",
    ")"
   ]
  }
 ],
 "metadata": {
  "kernelspec": {
   "display_name": "py39ENV",
   "language": "python",
   "name": "python3"
  },
  "language_info": {
   "codemirror_mode": {
    "name": "ipython",
    "version": 3
   },
   "file_extension": ".py",
   "mimetype": "text/x-python",
   "name": "python",
   "nbconvert_exporter": "python",
   "pygments_lexer": "ipython3",
   "version": "3.10.9"
  },
  "orig_nbformat": 4
 },
 "nbformat": 4,
 "nbformat_minor": 2
}
