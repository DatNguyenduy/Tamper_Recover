{
 "cells": [
  {
   "cell_type": "code",
   "execution_count": 2,
   "metadata": {},
   "outputs": [],
   "source": [
    "import pandas as pd\n",
    "import json\n"
   ]
  },
  {
   "cell_type": "code",
   "execution_count": 4,
   "metadata": {},
   "outputs": [],
   "source": [
    "df = pd.read_csv(\"data_precision_recall.csv\")"
   ]
  },
  {
   "cell_type": "code",
   "execution_count": 5,
   "metadata": {},
   "outputs": [
    {
     "name": "stdout",
     "output_type": "stream",
     "text": [
      "   TR     Metric  Tong(2013)  Dadklah(2014)  Singh(2016)  Fan(2018)  \\\n",
      "0  20  Precision      0.9826         0.9658       0.9824     0.9025   \n",
      "1  20     Recall      0.7479         1.0000       0.7507     1.0000   \n",
      "2  40  Precision      0.9936         0.9938       0.9937     0.9697   \n",
      "3  40     Recall      0.7489         1.0000       0.7501     1.0000   \n",
      "4  60  Precision      0.9902         0.9801       0.9901     0.9801   \n",
      "5  60     Recall      0.7496         1.0000       0.7502     1.0000   \n",
      "6  80  Precision      0.9956         0.9870       0.9956     0.9701   \n",
      "7  80     Recall      0.7505         1.0000       0.7487     1.0000   \n",
      "\n",
      "   Tai(2018)  Molina(2019)  Afrig(2022)  \n",
      "0     0.9657        0.9336       0.9978  \n",
      "1     0.9963        1.0000       1.0000  \n",
      "2     0.9938        0.9697       0.9918  \n",
      "3     0.9966        1.0000       1.0000  \n",
      "4     0.9801        0.9608       0.9925  \n",
      "5     0.9962        1.0000       1.0000  \n",
      "6     0.9870        0.9701       1.0000  \n",
      "7     0.9962        1.0000       1.0000  \n"
     ]
    }
   ],
   "source": [
    "print(df)\n"
   ]
  }
 ],
 "metadata": {
  "kernelspec": {
   "display_name": "py39ENV",
   "language": "python",
   "name": "python3"
  },
  "language_info": {
   "codemirror_mode": {
    "name": "ipython",
    "version": 3
   },
   "file_extension": ".py",
   "mimetype": "text/x-python",
   "name": "python",
   "nbconvert_exporter": "python",
   "pygments_lexer": "ipython3",
   "version": "3.10.9"
  },
  "orig_nbformat": 4
 },
 "nbformat": 4,
 "nbformat_minor": 2
}
