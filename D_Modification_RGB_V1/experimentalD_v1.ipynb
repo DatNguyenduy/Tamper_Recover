{
 "cells": [
  {
   "cell_type": "code",
   "execution_count": 35,
   "metadata": {},
   "outputs": [],
   "source": [
    "import sys\n",
    "import os\n",
    "sys.path.append(\"../code/\")\n",
    "import cv2\n",
    "from skimage.metrics import structural_similarity as sk_ssim\n",
    "import numpy as np\n",
    "from matplotlib import pyplot as plt\n",
    "import pandas as pd\n",
    "import json\n",
    "import dataframe_image as dfi\n",
    "from forwardD_v1 import wm_au_emb\n",
    "from detectD_v1 import *\n",
    "from recoveryD_v1 import *\n",
    "from sklearn.metrics import precision_score,recall_score\n",
    "\n",
    "from pytorch_msssim import ssim, ms_ssim, SSIM, MS_SSIM"
   ]
  },
  {
   "cell_type": "code",
   "execution_count": 19,
   "metadata": {},
   "outputs": [],
   "source": []
  },
  {
   "cell_type": "code",
   "execution_count": 20,
   "metadata": {},
   "outputs": [],
   "source": [
    "def eval_step(engine, batch):\n",
    "    return batch\n",
    "\n",
    "default_evaluator = Engine(eval_step)"
   ]
  },
  {
   "cell_type": "code",
   "execution_count": 9,
   "metadata": {},
   "outputs": [],
   "source": [
    "root_dir = \"D:\\\\Dat_Hoctap\\\\2023\\\\Tamper_Recover\\\\A_Data\\\\Data8Images\"\n",
    "list_paths = []\n",
    "for subdir, dirs, files in os.walk(root_dir):\n",
    "    for file in files:\n",
    "        list_paths.append(os.path.join(subdir, file))"
   ]
  },
  {
   "cell_type": "code",
   "execution_count": 10,
   "metadata": {},
   "outputs": [
    {
     "name": "stdout",
     "output_type": "stream",
     "text": [
      "['D:\\\\Dat_Hoctap\\\\2023\\\\Tamper_Recover\\\\A_Data\\\\Data8Images\\\\airplane.png', 'D:\\\\Dat_Hoctap\\\\2023\\\\Tamper_Recover\\\\A_Data\\\\Data8Images\\\\baboon.png', 'D:\\\\Dat_Hoctap\\\\2023\\\\Tamper_Recover\\\\A_Data\\\\Data8Images\\\\house.tiff', 'D:\\\\Dat_Hoctap\\\\2023\\\\Tamper_Recover\\\\A_Data\\\\Data8Images\\\\lena.png', 'D:\\\\Dat_Hoctap\\\\2023\\\\Tamper_Recover\\\\A_Data\\\\Data8Images\\\\peppers.png', 'D:\\\\Dat_Hoctap\\\\2023\\\\Tamper_Recover\\\\A_Data\\\\Data8Images\\\\sailboat.tiff', 'D:\\\\Dat_Hoctap\\\\2023\\\\Tamper_Recover\\\\A_Data\\\\Data8Images\\\\splash.tiff', 'D:\\\\Dat_Hoctap\\\\2023\\\\Tamper_Recover\\\\A_Data\\\\Data8Images\\\\tiffany.bmp']\n"
     ]
    }
   ],
   "source": [
    "print(list_paths)"
   ]
  },
  {
   "cell_type": "code",
   "execution_count": 11,
   "metadata": {},
   "outputs": [],
   "source": [
    "list_img = []\n",
    "for i in range(len(list_paths)):\n",
    "    img = cv2.imread(list_paths[i])\n",
    "    list_img.append(img)"
   ]
  },
  {
   "cell_type": "code",
   "execution_count": 12,
   "metadata": {},
   "outputs": [],
   "source": [
    "key = (13,137,811)\n",
    "list_w_img=[]\n",
    "for i in range(len(list_paths)):\n",
    "    img = cv2.imread(list_paths[i])\n",
    "    w_img = wm_au_emb(img,key=key)\n",
    "    list_w_img.append(w_img)"
   ]
  },
  {
   "cell_type": "code",
   "execution_count": 52,
   "metadata": {},
   "outputs": [],
   "source": [
    "A = np.array(list_img)"
   ]
  },
  {
   "cell_type": "code",
   "execution_count": 54,
   "metadata": {},
   "outputs": [
    {
     "name": "stdout",
     "output_type": "stream",
     "text": [
      "(8, 512, 512, 3)\n"
     ]
    }
   ],
   "source": [
    "print(A.shape)"
   ]
  },
  {
   "cell_type": "code",
   "execution_count": 64,
   "metadata": {},
   "outputs": [],
   "source": [
    "X_host = torch.tensor(np.array(list_img)).permute(0,3,1,2)\n",
    "Y_water = torch.tensor(np.array(list_w_img)).permute(0,3,1,2)"
   ]
  },
  {
   "cell_type": "code",
   "execution_count": 65,
   "metadata": {},
   "outputs": [],
   "source": [
    "w_SSIM_torch = ssim(X_host,Y_water,size_average=False)"
   ]
  },
  {
   "cell_type": "code",
   "execution_count": 60,
   "metadata": {},
   "outputs": [
    {
     "name": "stdout",
     "output_type": "stream",
     "text": [
      "tensor([1., 1., 1., 1., 1., 1., 1., 1.])\n"
     ]
    }
   ],
   "source": [
    "print(w_SSIM_torch)"
   ]
  },
  {
   "cell_type": "code",
   "execution_count": 61,
   "metadata": {},
   "outputs": [],
   "source": [
    "w_PSNR = []\n",
    "w_SSIM = []\n",
    "for i in range(len(list_img)):\n",
    "    w_PSNR.append(cv2.PSNR(list_img[i],list_w_img[i]))\n",
    "    w_SSIM.append(sk_ssim(cv2.cvtColor(list_img[i],cv2.COLOR_BGR2GRAY),cv2.cvtColor(list_w_img[i],cv2.COLOR_BGR2GRAY),data_range=255.0))\n"
   ]
  },
  {
   "cell_type": "code",
   "execution_count": 63,
   "metadata": {},
   "outputs": [
    {
     "name": "stdout",
     "output_type": "stream",
     "text": [
      "46.32122766977977\n",
      "[0.9925447019165354, 0.9980574723101749, 0.9946822017850739, 0.9937791771271932, 0.993973957033285, 0.9954416517240117, 0.9919054097888359, 0.9929904380491563]\n",
      "tensor([1., 1., 1., 1., 1., 1., 1., 1.])\n"
     ]
    }
   ],
   "source": [
    "print(np.mean(w_PSNR))\n",
    "print(w_SSIM)\n",
    "print(w_SSIM_torch)"
   ]
  },
  {
   "cell_type": "code",
   "execution_count": null,
   "metadata": {},
   "outputs": [],
   "source": [
    "# df_all_PSNR.to_csv(\"results/PSNR_Watermarked_Images.csv\")\n",
    "# df_all_ssim.to_csv(\"results/SSIM_Watermarked_Images.csv\")"
   ]
  },
  {
   "cell_type": "code",
   "execution_count": 69,
   "metadata": {},
   "outputs": [],
   "source": [
    "N = 512\n",
    "np.random.seed(1)\n",
    "t_all_image = np.random.randint(\n",
    "    low=0, \n",
    "    high=256,\n",
    "    size=(N, N, 3),\n",
    "    dtype=np.uint8\n",
    ")"
   ]
  },
  {
   "cell_type": "code",
   "execution_count": 67,
   "metadata": {},
   "outputs": [
    {
     "name": "stdout",
     "output_type": "stream",
     "text": [
      "[81, 114, 140, 162, 181, 198, 214, 229]\n"
     ]
    }
   ],
   "source": [
    "list_tr = [10,20,30,40,50,60,70,80]\n",
    "list_d = []\n",
    "for i in range(len(list_tr)):\n",
    "    list_d.append(int(np.sqrt(512*512*list_tr[i]/100)/2+ 0.5))\n",
    "print(list_d)"
   ]
  },
  {
   "cell_type": "code",
   "execution_count": 72,
   "metadata": {},
   "outputs": [],
   "source": [
    "list_PSNR_Recovered_all = []\n",
    "list_SSIM_Recovered_all = []\n",
    "list_PSNR_Recovered_all_w_original = []\n",
    "list_SSIM_Recovered_all_w_original = []\n",
    "list_r3_img_all = []\n",
    "for itr in range(len(list_d)):\n",
    "    list_PSNR = []\n",
    "    list_SSIM = []\n",
    "    list_PSNR_original = []\n",
    "    list_SSIM_original = []\n",
    "    list_r3_img = []\n",
    "    for index_img in range(len(list_w_img)):\n",
    "        t_img = list_w_img[index_img].copy()\n",
    "        d = list_d[itr]\n",
    "        t_img[256-d:256+d,256-d:256+d,:] =  t_all_image[256-d:256+d,256-d:256+d,:]\n",
    "        lv1_matrix = level_one_detection(t_img)\n",
    "        lv2_matrix = lv1_matrix.copy()\n",
    "        lv3_matrix = lv1_matrix.copy()\n",
    "        for channel in range(3):\n",
    "            lv2_matrix[:,:,channel] = level_two_detection(lv1_matrix[:,:,channel])\n",
    "            lv3_matrix[:,:,channel] = level_three_detection(lv2_matrix[:,:,channel])\n",
    "        r1_img,lv4_BGR= stage_1_recovery(t_img=t_img,key=(13,137,811))\n",
    "        mask1 = np.zeros((512,512),dtype = np.uint8)\n",
    "        for i in range(512):\n",
    "            for j in range(512):\n",
    "                if not lv4_BGR[int(i/1),int(j/1),0]:\n",
    "                    mask1[i,j] = 255\n",
    "        mask2 = np.zeros((512,512),dtype = np.uint8)\n",
    "        for i in range(512):\n",
    "            for j in range(512):\n",
    "                if not lv4_BGR[int(i/1),int(j/1),1]:\n",
    "                    mask2[i,j] = 255\n",
    "        mask3 = np.zeros((512,512),dtype = np.uint8)\n",
    "        for i in range(512):\n",
    "            for j in range(512):\n",
    "                if not lv4_BGR[int(i/1),int(j/1),2]:\n",
    "                    mask3[i,j] = 255\n",
    "        r3_img = r1_img.copy()\n",
    "        r3_img[:,:,0] = cv2.inpaint(r1_img[:,:,0],mask1,0,cv2.INPAINT_TELEA)\n",
    "        r3_img[:,:,1] = cv2.inpaint(r1_img[:,:,1],mask2,0,cv2.INPAINT_TELEA)\n",
    "        r3_img[:,:,2] = cv2.inpaint(r1_img[:,:,2],mask3,0,cv2.INPAINT_TELEA)\n",
    "        list_r3_img.append(r3_img)\n",
    "        list_PSNR.append(cv2.PSNR(r3_img,list_w_img[index_img]))\n",
    "        list_SSIM.append(sk_ssim(cv2.cvtColor(r3_img,cv2.COLOR_BGR2GRAY),cv2.cvtColor(list_w_img[index_img],cv2.COLOR_BGR2GRAY)))\n",
    "        list_PSNR_original.append(cv2.PSNR(r3_img,list_img[index_img]))\n",
    "        list_SSIM_original.append(sk_ssim(cv2.cvtColor(r3_img,cv2.COLOR_BGR2GRAY),cv2.cvtColor(list_img[index_img],cv2.COLOR_BGR2GRAY)))\n",
    "    list_PSNR_Recovered_all.append(list_PSNR)\n",
    "    list_SSIM_Recovered_all.append(list_SSIM)\n",
    "    list_PSNR_Recovered_all_w_original.append(list_PSNR_original)\n",
    "    list_SSIM_Recovered_all_w_original.append(list_SSIM_original)\n",
    "    list_r3_img_all.append(list_r3_img)"
   ]
  },
  {
   "cell_type": "code",
   "execution_count": null,
   "metadata": {},
   "outputs": [],
   "source": [
    "list_ssim_recover_all_torch = []\n",
    "for i in range(len(list_d)):\n",
    "    Z_recover = torch.tensor(np.array(list_r3_img_all[i])).permute(0,3,1,2)\n",
    "    list_ssim_recover_all_torch.append(ssim(Z_recover,Y_water,size_average=False))"
   ]
  },
  {
   "cell_type": "code",
   "execution_count": null,
   "metadata": {},
   "outputs": [],
   "source": [
    "for i in range(len(list_d)):\n",
    "    print(list_ssim_recover_all_torch[i])"
   ]
  },
  {
   "cell_type": "code",
   "execution_count": null,
   "metadata": {},
   "outputs": [],
   "source": [
    "list_image_name =  ['Airplane', 'Baboon', 'House', 'Lena','Peppers','Sailboat','Splash','Tiffany','Average']"
   ]
  },
  {
   "cell_type": "code",
   "execution_count": null,
   "metadata": {},
   "outputs": [
    {
     "data": {
      "text/plain": [
       "[37.33034992561574,\n",
       " 37.693512945332486,\n",
       " 36.33173774304165,\n",
       " 38.38622416765812,\n",
       " 38.272432143558966,\n",
       " 37.028071574220206,\n",
       " 43.041318652235994,\n",
       " 40.8437847035249]"
      ]
     },
     "execution_count": 42,
     "metadata": {},
     "output_type": "execute_result"
    }
   ],
   "source": [
    "list_PSNR_Recovered_all[0]"
   ]
  },
  {
   "cell_type": "code",
   "execution_count": null,
   "metadata": {},
   "outputs": [
    {
     "data": {
      "text/plain": [
       "37.99163958245791"
      ]
     },
     "execution_count": 43,
     "metadata": {},
     "output_type": "execute_result"
    }
   ],
   "source": [
    "np.mean(list_PSNR_Recovered_all_w_original[0])"
   ]
  },
  {
   "cell_type": "code",
   "execution_count": null,
   "metadata": {},
   "outputs": [
    {
     "name": "stdout",
     "output_type": "stream",
     "text": [
      "32.51473631435336\n"
     ]
    }
   ],
   "source": [
    "print(np.mean(list_PSNR_Recovered_all[2]))"
   ]
  },
  {
   "cell_type": "code",
   "execution_count": null,
   "metadata": {},
   "outputs": [],
   "source": [
    "dict_PSNR = {}\n",
    "dict_SSIM = {}"
   ]
  },
  {
   "cell_type": "code",
   "execution_count": null,
   "metadata": {},
   "outputs": [],
   "source": [
    "for i in range(8):\n",
    "    dict_PSNR[list_image_name[i]] = [list_PSNR_Recovered_all[j][i] for j in range(8)]\n",
    "dict_PSNR[list_image_name[8]] = [np.mean(list_PSNR_Recovered_all[j]) for j in range(8)]"
   ]
  },
  {
   "cell_type": "code",
   "execution_count": null,
   "metadata": {},
   "outputs": [],
   "source": [
    "for i in range(8):\n",
    "    dict_SSIM[list_image_name[i]] = [list_SSIM_Recovered_all[j][i] for j in range(8)]\n",
    "dict_SSIM[list_image_name[8]] = [np.mean(list_SSIM_Recovered_all[j]) for j in range(8)]"
   ]
  },
  {
   "cell_type": "code",
   "execution_count": null,
   "metadata": {},
   "outputs": [
    {
     "name": "stdout",
     "output_type": "stream",
     "text": [
      "[38.615928981898506, 35.36111792783909, 32.51473631435336, 29.547761005363554, 27.093447420365887, 25.19601474777726, 23.43070582008706, 21.39353825656846]\n"
     ]
    }
   ],
   "source": [
    "print(dict_PSNR['Average'])"
   ]
  },
  {
   "cell_type": "code",
   "execution_count": null,
   "metadata": {},
   "outputs": [],
   "source": [
    "df_PSNR_all = pd.DataFrame.from_dict(dict_PSNR)"
   ]
  },
  {
   "cell_type": "code",
   "execution_count": null,
   "metadata": {},
   "outputs": [],
   "source": [
    "df_SSIM_all = pd.DataFrame.from_dict(dict_SSIM)"
   ]
  },
  {
   "cell_type": "code",
   "execution_count": null,
   "metadata": {},
   "outputs": [],
   "source": [
    "df_SSIM_all.to_csv(\"SSIM_all_recovered1.csv\")"
   ]
  },
  {
   "cell_type": "code",
   "execution_count": null,
   "metadata": {},
   "outputs": [],
   "source": [
    "df_PSNR_all.to_csv(\"PSNR_all_recovered1.csv\")"
   ]
  },
  {
   "cell_type": "code",
   "execution_count": null,
   "metadata": {},
   "outputs": [],
   "source": [
    "def highlight_max(s):\n",
    "    # Get 5 largest values of the column\n",
    "    is_large1 = s.nlargest(1).values\n",
    "    is_large2 = s.nlargest(2).values\n",
    "    # Apply style is the current value is among the 5 biggest values\n",
    "    return ['color: DarkRed;font-weight:900' if v in is_large1 else 'font-weight:900' if v in is_large2 else '' for v in s]"
   ]
  },
  {
   "cell_type": "code",
   "execution_count": null,
   "metadata": {},
   "outputs": [],
   "source": [
    "# hl_df_ssim = df_all_ssim.style.apply(highlight_max,subset=df_all_ssim.columns[1:],axis = 1).apply(lambda x: ['background: lightgreen' if x.name == 8 else '' for i in x], \n",
    "#                axis=1)"
   ]
  },
  {
   "cell_type": "code",
   "execution_count": null,
   "metadata": {},
   "outputs": [
    {
     "name": "stderr",
     "output_type": "stream",
     "text": [
      "C:\\Users\\DuyDat\\AppData\\Local\\Temp\\ipykernel_11332\\3007742081.py:3: FutureWarning: this method is deprecated in favour of `Styler.hide(axis='index')`\n",
      "  hl_df_PSNR_all.hide_index()\n"
     ]
    },
    {
     "data": {
      "text/html": [
       "<style type=\"text/css\">\n",
       "#T_75e78_row0_col6, #T_75e78_row1_col6, #T_75e78_row2_col6, #T_75e78_row3_col7, #T_75e78_row4_col7, #T_75e78_row5_col7, #T_75e78_row6_col7, #T_75e78_row7_col7 {\n",
       "  color: DarkRed;\n",
       "  font-weight: 900;\n",
       "}\n",
       "#T_75e78_row0_col7, #T_75e78_row1_col7, #T_75e78_row2_col7, #T_75e78_row3_col6, #T_75e78_row4_col6, #T_75e78_row5_col6, #T_75e78_row6_col6, #T_75e78_row7_col6 {\n",
       "  font-weight: 900;\n",
       "}\n",
       "</style>\n",
       "<table id=\"T_75e78\">\n",
       "  <thead>\n",
       "    <tr>\n",
       "      <th id=\"T_75e78_level0_col0\" class=\"col_heading level0 col0\" >Airplane</th>\n",
       "      <th id=\"T_75e78_level0_col1\" class=\"col_heading level0 col1\" >Baboon</th>\n",
       "      <th id=\"T_75e78_level0_col2\" class=\"col_heading level0 col2\" >House</th>\n",
       "      <th id=\"T_75e78_level0_col3\" class=\"col_heading level0 col3\" >Lena</th>\n",
       "      <th id=\"T_75e78_level0_col4\" class=\"col_heading level0 col4\" >Peppers</th>\n",
       "      <th id=\"T_75e78_level0_col5\" class=\"col_heading level0 col5\" >Sailboat</th>\n",
       "      <th id=\"T_75e78_level0_col6\" class=\"col_heading level0 col6\" >Splash</th>\n",
       "      <th id=\"T_75e78_level0_col7\" class=\"col_heading level0 col7\" >Tiffany</th>\n",
       "      <th id=\"T_75e78_level0_col8\" class=\"col_heading level0 col8\" >Average</th>\n",
       "    </tr>\n",
       "  </thead>\n",
       "  <tbody>\n",
       "    <tr>\n",
       "      <td id=\"T_75e78_row0_col0\" class=\"data row0 col0\" >37.33</td>\n",
       "      <td id=\"T_75e78_row0_col1\" class=\"data row0 col1\" >37.69</td>\n",
       "      <td id=\"T_75e78_row0_col2\" class=\"data row0 col2\" >36.33</td>\n",
       "      <td id=\"T_75e78_row0_col3\" class=\"data row0 col3\" >38.39</td>\n",
       "      <td id=\"T_75e78_row0_col4\" class=\"data row0 col4\" >38.27</td>\n",
       "      <td id=\"T_75e78_row0_col5\" class=\"data row0 col5\" >37.03</td>\n",
       "      <td id=\"T_75e78_row0_col6\" class=\"data row0 col6\" >43.04</td>\n",
       "      <td id=\"T_75e78_row0_col7\" class=\"data row0 col7\" >40.84</td>\n",
       "      <td id=\"T_75e78_row0_col8\" class=\"data row0 col8\" >38.62</td>\n",
       "    </tr>\n",
       "    <tr>\n",
       "      <td id=\"T_75e78_row1_col0\" class=\"data row1 col0\" >34.28</td>\n",
       "      <td id=\"T_75e78_row1_col1\" class=\"data row1 col1\" >33.33</td>\n",
       "      <td id=\"T_75e78_row1_col2\" class=\"data row1 col2\" >33.32</td>\n",
       "      <td id=\"T_75e78_row1_col3\" class=\"data row1 col3\" >34.88</td>\n",
       "      <td id=\"T_75e78_row1_col4\" class=\"data row1 col4\" >35.82</td>\n",
       "      <td id=\"T_75e78_row1_col5\" class=\"data row1 col5\" >33.74</td>\n",
       "      <td id=\"T_75e78_row1_col6\" class=\"data row1 col6\" >39.67</td>\n",
       "      <td id=\"T_75e78_row1_col7\" class=\"data row1 col7\" >37.85</td>\n",
       "      <td id=\"T_75e78_row1_col8\" class=\"data row1 col8\" >35.36</td>\n",
       "    </tr>\n",
       "    <tr>\n",
       "      <td id=\"T_75e78_row2_col0\" class=\"data row2 col0\" >31.75</td>\n",
       "      <td id=\"T_75e78_row2_col1\" class=\"data row2 col1\" >28.87</td>\n",
       "      <td id=\"T_75e78_row2_col2\" class=\"data row2 col2\" >30.97</td>\n",
       "      <td id=\"T_75e78_row2_col3\" class=\"data row2 col3\" >32.22</td>\n",
       "      <td id=\"T_75e78_row2_col4\" class=\"data row2 col4\" >33.62</td>\n",
       "      <td id=\"T_75e78_row2_col5\" class=\"data row2 col5\" >30.83</td>\n",
       "      <td id=\"T_75e78_row2_col6\" class=\"data row2 col6\" >36.19</td>\n",
       "      <td id=\"T_75e78_row2_col7\" class=\"data row2 col7\" >35.67</td>\n",
       "      <td id=\"T_75e78_row2_col8\" class=\"data row2 col8\" >32.51</td>\n",
       "    </tr>\n",
       "    <tr>\n",
       "      <td id=\"T_75e78_row3_col0\" class=\"data row3 col0\" >28.89</td>\n",
       "      <td id=\"T_75e78_row3_col1\" class=\"data row3 col1\" >25.13</td>\n",
       "      <td id=\"T_75e78_row3_col2\" class=\"data row3 col2\" >27.98</td>\n",
       "      <td id=\"T_75e78_row3_col3\" class=\"data row3 col3\" >29.58</td>\n",
       "      <td id=\"T_75e78_row3_col4\" class=\"data row3 col4\" >31.01</td>\n",
       "      <td id=\"T_75e78_row3_col5\" class=\"data row3 col5\" >27.69</td>\n",
       "      <td id=\"T_75e78_row3_col6\" class=\"data row3 col6\" >32.62</td>\n",
       "      <td id=\"T_75e78_row3_col7\" class=\"data row3 col7\" >33.49</td>\n",
       "      <td id=\"T_75e78_row3_col8\" class=\"data row3 col8\" >29.55</td>\n",
       "    </tr>\n",
       "    <tr>\n",
       "      <td id=\"T_75e78_row4_col0\" class=\"data row4 col0\" >26.43</td>\n",
       "      <td id=\"T_75e78_row4_col1\" class=\"data row4 col1\" >22.62</td>\n",
       "      <td id=\"T_75e78_row4_col2\" class=\"data row4 col2\" >25.53</td>\n",
       "      <td id=\"T_75e78_row4_col3\" class=\"data row4 col3\" >27.56</td>\n",
       "      <td id=\"T_75e78_row4_col4\" class=\"data row4 col4\" >28.53</td>\n",
       "      <td id=\"T_75e78_row4_col5\" class=\"data row4 col5\" >25.31</td>\n",
       "      <td id=\"T_75e78_row4_col6\" class=\"data row4 col6\" >29.70</td>\n",
       "      <td id=\"T_75e78_row4_col7\" class=\"data row4 col7\" >31.06</td>\n",
       "      <td id=\"T_75e78_row4_col8\" class=\"data row4 col8\" >27.09</td>\n",
       "    </tr>\n",
       "    <tr>\n",
       "      <td id=\"T_75e78_row5_col0\" class=\"data row5 col0\" >24.65</td>\n",
       "      <td id=\"T_75e78_row5_col1\" class=\"data row5 col1\" >20.83</td>\n",
       "      <td id=\"T_75e78_row5_col2\" class=\"data row5 col2\" >23.75</td>\n",
       "      <td id=\"T_75e78_row5_col3\" class=\"data row5 col3\" >25.81</td>\n",
       "      <td id=\"T_75e78_row5_col4\" class=\"data row5 col4\" >26.54</td>\n",
       "      <td id=\"T_75e78_row5_col5\" class=\"data row5 col5\" >23.38</td>\n",
       "      <td id=\"T_75e78_row5_col6\" class=\"data row5 col6\" >27.70</td>\n",
       "      <td id=\"T_75e78_row5_col7\" class=\"data row5 col7\" >28.91</td>\n",
       "      <td id=\"T_75e78_row5_col8\" class=\"data row5 col8\" >25.20</td>\n",
       "    </tr>\n",
       "    <tr>\n",
       "      <td id=\"T_75e78_row6_col0\" class=\"data row6 col0\" >23.07</td>\n",
       "      <td id=\"T_75e78_row6_col1\" class=\"data row6 col1\" >19.42</td>\n",
       "      <td id=\"T_75e78_row6_col2\" class=\"data row6 col2\" >22.10</td>\n",
       "      <td id=\"T_75e78_row6_col3\" class=\"data row6 col3\" >24.19</td>\n",
       "      <td id=\"T_75e78_row6_col4\" class=\"data row6 col4\" >24.12</td>\n",
       "      <td id=\"T_75e78_row6_col5\" class=\"data row6 col5\" >21.20</td>\n",
       "      <td id=\"T_75e78_row6_col6\" class=\"data row6 col6\" >26.22</td>\n",
       "      <td id=\"T_75e78_row6_col7\" class=\"data row6 col7\" >27.13</td>\n",
       "      <td id=\"T_75e78_row6_col8\" class=\"data row6 col8\" >23.43</td>\n",
       "    </tr>\n",
       "    <tr>\n",
       "      <td id=\"T_75e78_row7_col0\" class=\"data row7 col0\" >21.09</td>\n",
       "      <td id=\"T_75e78_row7_col1\" class=\"data row7 col1\" >17.98</td>\n",
       "      <td id=\"T_75e78_row7_col2\" class=\"data row7 col2\" >20.06</td>\n",
       "      <td id=\"T_75e78_row7_col3\" class=\"data row7 col3\" >22.29</td>\n",
       "      <td id=\"T_75e78_row7_col4\" class=\"data row7 col4\" >21.90</td>\n",
       "      <td id=\"T_75e78_row7_col5\" class=\"data row7 col5\" >18.99</td>\n",
       "      <td id=\"T_75e78_row7_col6\" class=\"data row7 col6\" >23.51</td>\n",
       "      <td id=\"T_75e78_row7_col7\" class=\"data row7 col7\" >25.32</td>\n",
       "      <td id=\"T_75e78_row7_col8\" class=\"data row7 col8\" >21.39</td>\n",
       "    </tr>\n",
       "  </tbody>\n",
       "</table>\n"
      ],
      "text/plain": [
       "<pandas.io.formats.style.Styler at 0x1d0ec1d9ae0>"
      ]
     },
     "execution_count": 55,
     "metadata": {},
     "output_type": "execute_result"
    }
   ],
   "source": [
    "hl_df_PSNR_all = df_PSNR_all.style.apply(highlight_max,subset=df_PSNR_all.columns[:],axis=1)\n",
    "hl_df_PSNR_all.format(precision=2)\n",
    "hl_df_PSNR_all.hide_index()"
   ]
  },
  {
   "cell_type": "code",
   "execution_count": null,
   "metadata": {},
   "outputs": [
    {
     "name": "stderr",
     "output_type": "stream",
     "text": [
      "C:\\Users\\DuyDat\\AppData\\Local\\Temp\\ipykernel_11332\\3815801646.py:3: FutureWarning: this method is deprecated in favour of `Styler.hide(axis='index')`\n",
      "  hl_df_SSIM_all.hide_index()\n"
     ]
    },
    {
     "data": {
      "text/html": [
       "<style type=\"text/css\">\n",
       "#T_029de_row0_col0, #T_029de_row1_col0, #T_029de_row2_col0, #T_029de_row3_col0, #T_029de_row4_col0, #T_029de_row5_col0, #T_029de_row6_col0, #T_029de_row7_col0 {\n",
       "  font-weight: 900;\n",
       "}\n",
       "#T_029de_row0_col6, #T_029de_row1_col6, #T_029de_row2_col6, #T_029de_row3_col6, #T_029de_row4_col6, #T_029de_row5_col6, #T_029de_row6_col6, #T_029de_row7_col6 {\n",
       "  color: DarkRed;\n",
       "  font-weight: 900;\n",
       "}\n",
       "</style>\n",
       "<table id=\"T_029de\">\n",
       "  <thead>\n",
       "    <tr>\n",
       "      <th id=\"T_029de_level0_col0\" class=\"col_heading level0 col0\" >Airplane</th>\n",
       "      <th id=\"T_029de_level0_col1\" class=\"col_heading level0 col1\" >Baboon</th>\n",
       "      <th id=\"T_029de_level0_col2\" class=\"col_heading level0 col2\" >House</th>\n",
       "      <th id=\"T_029de_level0_col3\" class=\"col_heading level0 col3\" >Lena</th>\n",
       "      <th id=\"T_029de_level0_col4\" class=\"col_heading level0 col4\" >Peppers</th>\n",
       "      <th id=\"T_029de_level0_col5\" class=\"col_heading level0 col5\" >Sailboat</th>\n",
       "      <th id=\"T_029de_level0_col6\" class=\"col_heading level0 col6\" >Splash</th>\n",
       "      <th id=\"T_029de_level0_col7\" class=\"col_heading level0 col7\" >Tiffany</th>\n",
       "      <th id=\"T_029de_level0_col8\" class=\"col_heading level0 col8\" >Average</th>\n",
       "    </tr>\n",
       "  </thead>\n",
       "  <tbody>\n",
       "    <tr>\n",
       "      <td id=\"T_029de_row0_col0\" class=\"data row0 col0\" >0.9899</td>\n",
       "      <td id=\"T_029de_row0_col1\" class=\"data row0 col1\" >0.9812</td>\n",
       "      <td id=\"T_029de_row0_col2\" class=\"data row0 col2\" >0.9868</td>\n",
       "      <td id=\"T_029de_row0_col3\" class=\"data row0 col3\" >0.9887</td>\n",
       "      <td id=\"T_029de_row0_col4\" class=\"data row0 col4\" >0.9844</td>\n",
       "      <td id=\"T_029de_row0_col5\" class=\"data row0 col5\" >0.9838</td>\n",
       "      <td id=\"T_029de_row0_col6\" class=\"data row0 col6\" >0.9918</td>\n",
       "      <td id=\"T_029de_row0_col7\" class=\"data row0 col7\" >0.9875</td>\n",
       "      <td id=\"T_029de_row0_col8\" class=\"data row0 col8\" >0.9868</td>\n",
       "    </tr>\n",
       "    <tr>\n",
       "      <td id=\"T_029de_row1_col0\" class=\"data row1 col0\" >0.9801</td>\n",
       "      <td id=\"T_029de_row1_col1\" class=\"data row1 col1\" >0.9593</td>\n",
       "      <td id=\"T_029de_row1_col2\" class=\"data row1 col2\" >0.9708</td>\n",
       "      <td id=\"T_029de_row1_col3\" class=\"data row1 col3\" >0.9738</td>\n",
       "      <td id=\"T_029de_row1_col4\" class=\"data row1 col4\" >0.9685</td>\n",
       "      <td id=\"T_029de_row1_col5\" class=\"data row1 col5\" >0.9694</td>\n",
       "      <td id=\"T_029de_row1_col6\" class=\"data row1 col6\" >0.9826</td>\n",
       "      <td id=\"T_029de_row1_col7\" class=\"data row1 col7\" >0.9745</td>\n",
       "      <td id=\"T_029de_row1_col8\" class=\"data row1 col8\" >0.9724</td>\n",
       "    </tr>\n",
       "    <tr>\n",
       "      <td id=\"T_029de_row2_col0\" class=\"data row2 col0\" >0.9663</td>\n",
       "      <td id=\"T_029de_row2_col1\" class=\"data row2 col1\" >0.9249</td>\n",
       "      <td id=\"T_029de_row2_col2\" class=\"data row2 col2\" >0.9520</td>\n",
       "      <td id=\"T_029de_row2_col3\" class=\"data row2 col3\" >0.9547</td>\n",
       "      <td id=\"T_029de_row2_col4\" class=\"data row2 col4\" >0.9489</td>\n",
       "      <td id=\"T_029de_row2_col5\" class=\"data row2 col5\" >0.9490</td>\n",
       "      <td id=\"T_029de_row2_col6\" class=\"data row2 col6\" >0.9699</td>\n",
       "      <td id=\"T_029de_row2_col7\" class=\"data row2 col7\" >0.9597</td>\n",
       "      <td id=\"T_029de_row2_col8\" class=\"data row2 col8\" >0.9532</td>\n",
       "    </tr>\n",
       "    <tr>\n",
       "      <td id=\"T_029de_row3_col0\" class=\"data row3 col0\" >0.9415</td>\n",
       "      <td id=\"T_029de_row3_col1\" class=\"data row3 col1\" >0.8649</td>\n",
       "      <td id=\"T_029de_row3_col2\" class=\"data row3 col2\" >0.9188</td>\n",
       "      <td id=\"T_029de_row3_col3\" class=\"data row3 col3\" >0.9244</td>\n",
       "      <td id=\"T_029de_row3_col4\" class=\"data row3 col4\" >0.9200</td>\n",
       "      <td id=\"T_029de_row3_col5\" class=\"data row3 col5\" >0.9160</td>\n",
       "      <td id=\"T_029de_row3_col6\" class=\"data row3 col6\" >0.9491</td>\n",
       "      <td id=\"T_029de_row3_col7\" class=\"data row3 col7\" >0.9357</td>\n",
       "      <td id=\"T_029de_row3_col8\" class=\"data row3 col8\" >0.9213</td>\n",
       "    </tr>\n",
       "    <tr>\n",
       "      <td id=\"T_029de_row4_col0\" class=\"data row4 col0\" >0.9090</td>\n",
       "      <td id=\"T_029de_row4_col1\" class=\"data row4 col1\" >0.7910</td>\n",
       "      <td id=\"T_029de_row4_col2\" class=\"data row4 col2\" >0.8793</td>\n",
       "      <td id=\"T_029de_row4_col3\" class=\"data row4 col3\" >0.8870</td>\n",
       "      <td id=\"T_029de_row4_col4\" class=\"data row4 col4\" >0.8846</td>\n",
       "      <td id=\"T_029de_row4_col5\" class=\"data row4 col5\" >0.8714</td>\n",
       "      <td id=\"T_029de_row4_col6\" class=\"data row4 col6\" >0.9227</td>\n",
       "      <td id=\"T_029de_row4_col7\" class=\"data row4 col7\" >0.9012</td>\n",
       "      <td id=\"T_029de_row4_col8\" class=\"data row4 col8\" >0.8808</td>\n",
       "    </tr>\n",
       "    <tr>\n",
       "      <td id=\"T_029de_row5_col0\" class=\"data row5 col0\" >0.8700</td>\n",
       "      <td id=\"T_029de_row5_col1\" class=\"data row5 col1\" >0.7029</td>\n",
       "      <td id=\"T_029de_row5_col2\" class=\"data row5 col2\" >0.8279</td>\n",
       "      <td id=\"T_029de_row5_col3\" class=\"data row5 col3\" >0.8432</td>\n",
       "      <td id=\"T_029de_row5_col4\" class=\"data row5 col4\" >0.8455</td>\n",
       "      <td id=\"T_029de_row5_col5\" class=\"data row5 col5\" >0.8148</td>\n",
       "      <td id=\"T_029de_row5_col6\" class=\"data row5 col6\" >0.8896</td>\n",
       "      <td id=\"T_029de_row5_col7\" class=\"data row5 col7\" >0.8580</td>\n",
       "      <td id=\"T_029de_row5_col8\" class=\"data row5 col8\" >0.8315</td>\n",
       "    </tr>\n",
       "    <tr>\n",
       "      <td id=\"T_029de_row6_col0\" class=\"data row6 col0\" >0.8201</td>\n",
       "      <td id=\"T_029de_row6_col1\" class=\"data row6 col1\" >0.5989</td>\n",
       "      <td id=\"T_029de_row6_col2\" class=\"data row6 col2\" >0.7642</td>\n",
       "      <td id=\"T_029de_row6_col3\" class=\"data row6 col3\" >0.7898</td>\n",
       "      <td id=\"T_029de_row6_col4\" class=\"data row6 col4\" >0.7900</td>\n",
       "      <td id=\"T_029de_row6_col5\" class=\"data row6 col5\" >0.7404</td>\n",
       "      <td id=\"T_029de_row6_col6\" class=\"data row6 col6\" >0.8525</td>\n",
       "      <td id=\"T_029de_row6_col7\" class=\"data row6 col7\" >0.8035</td>\n",
       "      <td id=\"T_029de_row6_col8\" class=\"data row6 col8\" >0.7699</td>\n",
       "    </tr>\n",
       "    <tr>\n",
       "      <td id=\"T_029de_row7_col0\" class=\"data row7 col0\" >0.7449</td>\n",
       "      <td id=\"T_029de_row7_col1\" class=\"data row7 col1\" >0.4634</td>\n",
       "      <td id=\"T_029de_row7_col2\" class=\"data row7 col2\" >0.6692</td>\n",
       "      <td id=\"T_029de_row7_col3\" class=\"data row7 col3\" >0.7119</td>\n",
       "      <td id=\"T_029de_row7_col4\" class=\"data row7 col4\" >0.7206</td>\n",
       "      <td id=\"T_029de_row7_col5\" class=\"data row7 col5\" >0.6334</td>\n",
       "      <td id=\"T_029de_row7_col6\" class=\"data row7 col6\" >0.7847</td>\n",
       "      <td id=\"T_029de_row7_col7\" class=\"data row7 col7\" >0.7342</td>\n",
       "      <td id=\"T_029de_row7_col8\" class=\"data row7 col8\" >0.6828</td>\n",
       "    </tr>\n",
       "  </tbody>\n",
       "</table>\n"
      ],
      "text/plain": [
       "<pandas.io.formats.style.Styler at 0x1d0ec1d9240>"
      ]
     },
     "execution_count": 56,
     "metadata": {},
     "output_type": "execute_result"
    }
   ],
   "source": [
    "hl_df_SSIM_all = df_SSIM_all.style.apply(highlight_max,subset=df_SSIM_all.columns[:],axis=1)\n",
    "hl_df_SSIM_all.format(precision=4)\n",
    "hl_df_SSIM_all.hide_index()"
   ]
  },
  {
   "cell_type": "code",
   "execution_count": null,
   "metadata": {},
   "outputs": [],
   "source": [
    "# hl_df_ssim.format(precision=4)\n",
    "# hl_df_ssim.hide_index()"
   ]
  },
  {
   "cell_type": "code",
   "execution_count": null,
   "metadata": {},
   "outputs": [
    {
     "ename": "FileNotFoundError",
     "evalue": "[Errno 2] No such file or directory: 'results1/SSIM_recovered_Images.png'",
     "output_type": "error",
     "traceback": [
      "\u001b[1;31m---------------------------------------------------------------------------\u001b[0m",
      "\u001b[1;31mFileNotFoundError\u001b[0m                         Traceback (most recent call last)",
      "\u001b[1;32md:\\Dat_Hoctap\\2023\\Tamper_Recover\\D_Modification_RGB_V1\\experimentalD_v1.ipynb Cell 30\u001b[0m in \u001b[0;36m1\n\u001b[1;32m----> <a href='vscode-notebook-cell:/d%3A/Dat_Hoctap/2023/Tamper_Recover/D_Modification_RGB_V1/experimentalD_v1.ipynb#X41sZmlsZQ%3D%3D?line=0'>1</a>\u001b[0m dfi\u001b[39m.\u001b[39;49mexport(\n\u001b[0;32m      <a href='vscode-notebook-cell:/d%3A/Dat_Hoctap/2023/Tamper_Recover/D_Modification_RGB_V1/experimentalD_v1.ipynb#X41sZmlsZQ%3D%3D?line=1'>2</a>\u001b[0m     hl_df_PSNR_all,\n\u001b[0;32m      <a href='vscode-notebook-cell:/d%3A/Dat_Hoctap/2023/Tamper_Recover/D_Modification_RGB_V1/experimentalD_v1.ipynb#X41sZmlsZQ%3D%3D?line=2'>3</a>\u001b[0m     \u001b[39m\"\u001b[39;49m\u001b[39mresults1/SSIM_recovered_Images.png\u001b[39;49m\u001b[39m\"\u001b[39;49m,\n\u001b[0;32m      <a href='vscode-notebook-cell:/d%3A/Dat_Hoctap/2023/Tamper_Recover/D_Modification_RGB_V1/experimentalD_v1.ipynb#X41sZmlsZQ%3D%3D?line=3'>4</a>\u001b[0m     fontsize\u001b[39m=\u001b[39;49m\u001b[39m12\u001b[39;49m,\n\u001b[0;32m      <a href='vscode-notebook-cell:/d%3A/Dat_Hoctap/2023/Tamper_Recover/D_Modification_RGB_V1/experimentalD_v1.ipynb#X41sZmlsZQ%3D%3D?line=4'>5</a>\u001b[0m )\n",
      "File \u001b[1;32mc:\\Users\\DuyDat\\anaconda3\\envs\\pythonENV\\lib\\site-packages\\dataframe_image\\_pandas_accessor.py:41\u001b[0m, in \u001b[0;36mexport\u001b[1;34m(obj, filename, fontsize, max_rows, max_cols, table_conversion, chrome_path, dpi)\u001b[0m\n\u001b[0;32m     31\u001b[0m \u001b[39mdef\u001b[39;00m \u001b[39mexport\u001b[39m(\n\u001b[0;32m     32\u001b[0m     obj,\n\u001b[0;32m     33\u001b[0m     filename,\n\u001b[1;32m   (...)\u001b[0m\n\u001b[0;32m     39\u001b[0m     dpi\u001b[39m=\u001b[39m\u001b[39mNone\u001b[39;00m,\n\u001b[0;32m     40\u001b[0m ):\n\u001b[1;32m---> 41\u001b[0m     \u001b[39mreturn\u001b[39;00m _export(obj, filename, fontsize, max_rows, max_cols, table_conversion, chrome_path, dpi)\n",
      "File \u001b[1;32mc:\\Users\\DuyDat\\anaconda3\\envs\\pythonENV\\lib\\site-packages\\dataframe_image\\_pandas_accessor.py:123\u001b[0m, in \u001b[0;36m_export\u001b[1;34m(obj, filename, fontsize, max_rows, max_cols, table_conversion, chrome_path, dpi)\u001b[0m\n\u001b[0;32m    120\u001b[0m img_str \u001b[39m=\u001b[39m converter(html)\n\u001b[0;32m    122\u001b[0m \u001b[39mtry\u001b[39;00m:\n\u001b[1;32m--> 123\u001b[0m     \u001b[39mwith\u001b[39;00m \u001b[39mopen\u001b[39;49m(filename, \u001b[39m\"\u001b[39;49m\u001b[39mwb\u001b[39;49m\u001b[39m\"\u001b[39;49m) \u001b[39mas\u001b[39;00m f:\n\u001b[0;32m    124\u001b[0m         f\u001b[39m.\u001b[39mwrite(img_str)\n\u001b[0;32m    125\u001b[0m \u001b[39mexcept\u001b[39;00m \u001b[39mTypeError\u001b[39;00m \u001b[39mas\u001b[39;00m ex:\n",
      "\u001b[1;31mFileNotFoundError\u001b[0m: [Errno 2] No such file or directory: 'results1/SSIM_recovered_Images.png'"
     ]
    }
   ],
   "source": [
    "dfi.export(\n",
    "    hl_df_PSNR_all,\n",
    "    \"results1/SSIM_recovered_Images.png\",\n",
    "    fontsize=12,\n",
    ")"
   ]
  },
  {
   "cell_type": "code",
   "execution_count": null,
   "metadata": {},
   "outputs": [
    {
     "name": "stderr",
     "output_type": "stream",
     "text": [
      "c:\\ProgramData\\Anaconda3\\envs\\ENV_Common\\Lib\\site-packages\\dataframe_image\\_pandas_accessor.py:69: FutureWarning: this method is deprecated in favour of `Styler.to_html()`\n",
      "  html = '<div>' + obj.render() + '</div>'\n"
     ]
    },
    {
     "ename": "SyntaxError",
     "evalue": "not a PNG file (<string>)",
     "output_type": "error",
     "traceback": [
      "Traceback \u001b[1;36m(most recent call last)\u001b[0m:\n",
      "\u001b[0m  File \u001b[0;32mc:\\ProgramData\\Anaconda3\\envs\\ENV_Common\\Lib\\site-packages\\IPython\\core\\interactiveshell.py:3460\u001b[0m in \u001b[0;35mrun_code\u001b[0m\n    exec(code_obj, self.user_global_ns, self.user_ns)\u001b[0m\n",
      "\u001b[0m  Cell \u001b[0;32mIn[29], line 1\u001b[0m\n    dfi.export(\u001b[0m\n",
      "\u001b[0m  File \u001b[0;32mc:\\ProgramData\\Anaconda3\\envs\\ENV_Common\\Lib\\site-packages\\dataframe_image\\_pandas_accessor.py:24\u001b[0m in \u001b[0;35mexport\u001b[0m\n    dpi=None,\u001b[0m\n",
      "\u001b[0m  File \u001b[0;32mc:\\ProgramData\\Anaconda3\\envs\\ENV_Common\\Lib\\site-packages\\dataframe_image\\_pandas_accessor.py:73\u001b[0m in \u001b[0;35m_export\u001b[0m\n    converter = TableMaker(\u001b[0m\n",
      "\u001b[0m  File \u001b[0;32mc:\\ProgramData\\Anaconda3\\envs\\ENV_Common\\Lib\\site-packages\\dataframe_image\\_screenshot.py:167\u001b[0m in \u001b[0;35mrun\u001b[0m\n    right = -diff_vert[::-1].argmax()\u001b[0m\n",
      "\u001b[0m  File \u001b[0;32mc:\\ProgramData\\Anaconda3\\envs\\ENV_Common\\Lib\\site-packages\\dataframe_image\\_screenshot.py:119\u001b[0m in \u001b[0;35mtake_screenshot\u001b[0m\n    \"--crash-dumps-dir=/tmp\",\u001b[0m\n",
      "\u001b[0m  File \u001b[0;32mc:\\ProgramData\\Anaconda3\\envs\\ENV_Common\\Lib\\site-packages\\matplotlib\\image.py:1563\u001b[0m in \u001b[0;35mimread\u001b[0m\n    with img_open(fname) as image:\u001b[0m\n",
      "\u001b[0m  File \u001b[0;32mc:\\ProgramData\\Anaconda3\\envs\\ENV_Common\\Lib\\site-packages\\PIL\\ImageFile.py:117\u001b[0m in \u001b[0;35m__init__\u001b[0m\n    self._open()\u001b[0m\n",
      "\u001b[1;36m  File \u001b[1;32mc:\\ProgramData\\Anaconda3\\envs\\ENV_Common\\Lib\\site-packages\\PIL\\PngImagePlugin.py:732\u001b[1;36m in \u001b[1;35m_open\u001b[1;36m\n\u001b[1;33m    raise SyntaxError(msg)\u001b[1;36m\n",
      "\u001b[1;36m  File \u001b[1;32m<string>\u001b[1;36m\u001b[0m\n\u001b[1;31mSyntaxError\u001b[0m\u001b[1;31m:\u001b[0m not a PNG file\n"
     ]
    }
   ],
   "source": [
    "dfi.export(\n",
    "    hl_df_SSIM_all,\n",
    "    \"results1/SSIM_recovered_Images.png\",\n",
    "    fontsize=12,\n",
    ")"
   ]
  }
 ],
 "metadata": {
  "kernelspec": {
   "display_name": "pythonENV",
   "language": "python",
   "name": "python3"
  },
  "language_info": {
   "codemirror_mode": {
    "name": "ipython",
    "version": 3
   },
   "file_extension": ".py",
   "mimetype": "text/x-python",
   "name": "python",
   "nbconvert_exporter": "python",
   "pygments_lexer": "ipython3",
   "version": "3.10.9"
  },
  "orig_nbformat": 4
 },
 "nbformat": 4,
 "nbformat_minor": 2
}
