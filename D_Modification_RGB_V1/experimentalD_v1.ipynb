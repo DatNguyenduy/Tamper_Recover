{
 "cells": [
  {
   "cell_type": "code",
   "execution_count": 35,
   "metadata": {},
   "outputs": [],
   "source": [
    "import sys\n",
    "import os\n",
    "sys.path.append(\"../code/\")\n",
    "import cv2\n",
    "from skimage.metrics import structural_similarity as sk_ssim\n",
    "import numpy as np\n",
    "from matplotlib import pyplot as plt\n",
    "import pandas as pd\n",
    "import json\n",
    "import dataframe_image as dfi\n",
    "from forwardD_v1 import wm_au_emb\n",
    "from detectD_v1 import *\n",
    "from recoveryD_v1 import *\n",
    "from sklearn.metrics import precision_score,recall_score\n",
    "\n",
    "import tensorflow as tf"
   ]
  },
  {
   "cell_type": "code",
   "execution_count": 19,
   "metadata": {},
   "outputs": [],
   "source": []
  },
  {
   "cell_type": "code",
   "execution_count": 20,
   "metadata": {},
   "outputs": [],
   "source": [
    "def eval_step(engine, batch):\n",
    "    return batch\n",
    "\n",
    "default_evaluator = Engine(eval_step)"
   ]
  },
  {
   "cell_type": "code",
   "execution_count": 9,
   "metadata": {},
   "outputs": [],
   "source": [
    "root_dir = \"D:\\\\Dat_Hoctap\\\\2023\\\\Tamper_Recover\\\\A_Data\\\\Data8Images\"\n",
    "list_paths = []\n",
    "for subdir, dirs, files in os.walk(root_dir):\n",
    "    for file in files:\n",
    "        list_paths.append(os.path.join(subdir, file))"
   ]
  },
  {
   "cell_type": "code",
   "execution_count": 10,
   "metadata": {},
   "outputs": [
    {
     "name": "stdout",
     "output_type": "stream",
     "text": [
      "['D:\\\\Dat_Hoctap\\\\2023\\\\Tamper_Recover\\\\A_Data\\\\Data8Images\\\\airplane.png', 'D:\\\\Dat_Hoctap\\\\2023\\\\Tamper_Recover\\\\A_Data\\\\Data8Images\\\\baboon.png', 'D:\\\\Dat_Hoctap\\\\2023\\\\Tamper_Recover\\\\A_Data\\\\Data8Images\\\\house.tiff', 'D:\\\\Dat_Hoctap\\\\2023\\\\Tamper_Recover\\\\A_Data\\\\Data8Images\\\\lena.png', 'D:\\\\Dat_Hoctap\\\\2023\\\\Tamper_Recover\\\\A_Data\\\\Data8Images\\\\peppers.png', 'D:\\\\Dat_Hoctap\\\\2023\\\\Tamper_Recover\\\\A_Data\\\\Data8Images\\\\sailboat.tiff', 'D:\\\\Dat_Hoctap\\\\2023\\\\Tamper_Recover\\\\A_Data\\\\Data8Images\\\\splash.tiff', 'D:\\\\Dat_Hoctap\\\\2023\\\\Tamper_Recover\\\\A_Data\\\\Data8Images\\\\tiffany.bmp']\n"
     ]
    }
   ],
   "source": [
    "print(list_paths)"
   ]
  },
  {
   "cell_type": "code",
   "execution_count": 11,
   "metadata": {},
   "outputs": [],
   "source": [
    "list_img = []\n",
    "for i in range(len(list_paths)):\n",
    "    img = cv2.imread(list_paths[i])\n",
    "    list_img.append(img)"
   ]
  },
  {
   "cell_type": "code",
   "execution_count": 12,
   "metadata": {},
   "outputs": [],
   "source": [
    "key = (13,137,811)\n",
    "list_w_img=[]\n",
    "for i in range(len(list_paths)):\n",
    "    img = cv2.imread(list_paths[i])\n",
    "    w_img = wm_au_emb(img,key=key)\n",
    "    list_w_img.append(w_img)"
   ]
  },
  {
   "cell_type": "code",
   "execution_count": 52,
   "metadata": {},
   "outputs": [],
   "source": [
    "A = np.array(list_img)"
   ]
  },
  {
   "cell_type": "code",
   "execution_count": 54,
   "metadata": {},
   "outputs": [
    {
     "name": "stdout",
     "output_type": "stream",
     "text": [
      "(8, 512, 512, 3)\n"
     ]
    }
   ],
   "source": [
    "print(A.shape)"
   ]
  },
  {
   "cell_type": "code",
   "execution_count": 64,
   "metadata": {},
   "outputs": [],
   "source": [
    "X_host = torch.tensor(np.array(list_img)).permute(0,3,1,2)\n",
    "Y_water = torch.tensor(np.array(list_w_img)).permute(0,3,1,2)"
   ]
  },
  {
   "cell_type": "code",
   "execution_count": 65,
   "metadata": {},
   "outputs": [],
   "source": [
    "w_SSIM_tensor = tf.image.ssim(list_img[0],list_w_img[0],max_val=255,\n",
    "    filter_size=11,\n",
    "    filter_sigma=1.5,\n",
    "    k1=0.01,\n",
    "    k2=0.03,\n",
    "    return_index_map=False)"
   ]
  },
  {
   "cell_type": "code",
   "execution_count": 60,
   "metadata": {},
   "outputs": [
    {
     "name": "stdout",
     "output_type": "stream",
     "text": [
      "tensor([1., 1., 1., 1., 1., 1., 1., 1.])\n"
     ]
    }
   ],
   "source": [
    "print(w_SSIM_torch)"
   ]
  },
  {
   "cell_type": "code",
   "execution_count": 61,
   "metadata": {},
   "outputs": [],
   "source": [
    "w_PSNR = []\n",
    "w_SSIM = []\n",
    "for i in range(len(list_img)):\n",
    "    w_PSNR.append(cv2.PSNR(list_img[i],list_w_img[i]))\n",
    "    w_SSIM.append(sk_ssim(cv2.cvtColor(list_img[i],cv2.COLOR_BGR2GRAY),cv2.cvtColor(list_w_img[i],cv2.COLOR_BGR2GRAY),data_range=255.0))\n"
   ]
  },
  {
   "cell_type": "code",
   "execution_count": 63,
   "metadata": {},
   "outputs": [
    {
     "name": "stdout",
     "output_type": "stream",
     "text": [
      "46.32122766977977\n",
      "[0.9925447019165354, 0.9980574723101749, 0.9946822017850739, 0.9937791771271932, 0.993973957033285, 0.9954416517240117, 0.9919054097888359, 0.9929904380491563]\n",
      "tensor([1., 1., 1., 1., 1., 1., 1., 1.])\n"
     ]
    }
   ],
   "source": [
    "print(np.mean(w_PSNR))\n",
    "print(w_SSIM)\n",
    "print(w_SSIM_torch)"
   ]
  },
  {
   "cell_type": "code",
   "execution_count": null,
   "metadata": {},
   "outputs": [],
   "source": [
    "# df_all_PSNR.to_csv(\"results/PSNR_Watermarked_Images.csv\")\n",
    "# df_all_ssim.to_csv(\"results/SSIM_Watermarked_Images.csv\")"
   ]
  },
  {
   "cell_type": "code",
   "execution_count": 69,
   "metadata": {},
   "outputs": [],
   "source": [
    "N = 512\n",
    "np.random.seed(1)\n",
    "t_all_image = np.random.randint(\n",
    "    low=0, \n",
    "    high=256,\n",
    "    size=(N, N, 3),\n",
    "    dtype=np.uint8\n",
    ")"
   ]
  },
  {
   "cell_type": "code",
   "execution_count": 67,
   "metadata": {},
   "outputs": [
    {
     "name": "stdout",
     "output_type": "stream",
     "text": [
      "[81, 114, 140, 162, 181, 198, 214, 229]\n"
     ]
    }
   ],
   "source": [
    "list_tr = [10,20,30,40,50,60,70,80]\n",
    "list_d = []\n",
    "for i in range(len(list_tr)):\n",
    "    list_d.append(int(np.sqrt(512*512*list_tr[i]/100)/2+ 0.5))\n",
    "print(list_d)"
   ]
  },
  {
   "cell_type": "code",
   "execution_count": 72,
   "metadata": {},
   "outputs": [],
   "source": [
    "list_PSNR_Recovered_all = []\n",
    "list_SSIM_Recovered_all = []\n",
    "list_PSNR_Recovered_all_w_original = []\n",
    "list_SSIM_Recovered_all_w_original = []\n",
    "list_r3_img_all = []\n",
    "for itr in range(len(list_d)):\n",
    "    list_PSNR = []\n",
    "    list_SSIM = []\n",
    "    list_PSNR_original = []\n",
    "    list_SSIM_original = []\n",
    "    list_r3_img = []\n",
    "    for index_img in range(len(list_w_img)):\n",
    "        t_img = list_w_img[index_img].copy()\n",
    "        d = list_d[itr]\n",
    "        t_img[256-d:256+d,256-d:256+d,:] =  t_all_image[256-d:256+d,256-d:256+d,:]\n",
    "        lv1_matrix = level_one_detection(t_img)\n",
    "        lv2_matrix = lv1_matrix.copy()\n",
    "        lv3_matrix = lv1_matrix.copy()\n",
    "        for channel in range(3):\n",
    "            lv2_matrix[:,:,channel] = level_two_detection(lv1_matrix[:,:,channel])\n",
    "            lv3_matrix[:,:,channel] = level_three_detection(lv2_matrix[:,:,channel])\n",
    "        r1_img,lv4_BGR= stage_1_recovery(t_img=t_img,key=(13,137,811))\n",
    "        mask1 = np.zeros((512,512),dtype = np.uint8)\n",
    "        for i in range(512):\n",
    "            for j in range(512):\n",
    "                if not lv4_BGR[int(i/1),int(j/1),0]:\n",
    "                    mask1[i,j] = 255\n",
    "        mask2 = np.zeros((512,512),dtype = np.uint8)\n",
    "        for i in range(512):\n",
    "            for j in range(512):\n",
    "                if not lv4_BGR[int(i/1),int(j/1),1]:\n",
    "                    mask2[i,j] = 255\n",
    "        mask3 = np.zeros((512,512),dtype = np.uint8)\n",
    "        for i in range(512):\n",
    "            for j in range(512):\n",
    "                if not lv4_BGR[int(i/1),int(j/1),2]:\n",
    "                    mask3[i,j] = 255\n",
    "        r3_img = r1_img.copy()\n",
    "        r3_img[:,:,0] = cv2.inpaint(r1_img[:,:,0],mask1,0,cv2.INPAINT_TELEA)\n",
    "        r3_img[:,:,1] = cv2.inpaint(r1_img[:,:,1],mask2,0,cv2.INPAINT_TELEA)\n",
    "        r3_img[:,:,2] = cv2.inpaint(r1_img[:,:,2],mask3,0,cv2.INPAINT_TELEA)\n",
    "        list_r3_img.append(r3_img)\n",
    "        list_PSNR.append(cv2.PSNR(r3_img,list_w_img[index_img]))\n",
    "        list_SSIM.append(sk_ssim(cv2.cvtColor(r3_img,cv2.COLOR_BGR2GRAY),cv2.cvtColor(list_w_img[index_img],cv2.COLOR_BGR2GRAY)))\n",
    "        list_PSNR_original.append(cv2.PSNR(r3_img,list_img[index_img]))\n",
    "        list_SSIM_original.append(sk_ssim(cv2.cvtColor(r3_img,cv2.COLOR_BGR2GRAY),cv2.cvtColor(list_img[index_img],cv2.COLOR_BGR2GRAY)))\n",
    "    list_PSNR_Recovered_all.append(list_PSNR)\n",
    "    list_SSIM_Recovered_all.append(list_SSIM)\n",
    "    list_PSNR_Recovered_all_w_original.append(list_PSNR_original)\n",
    "    list_SSIM_Recovered_all_w_original.append(list_SSIM_original)\n",
    "    list_r3_img_all.append(list_r3_img)"
   ]
  },
  {
   "cell_type": "code",
   "execution_count": 73,
   "metadata": {},
   "outputs": [],
   "source": [
    "list_ssim_recover_all_torch = []\n",
    "for i in range(len(list_d)):\n",
    "    Z_recover = torch.tensor(np.array(list_r3_img_all[i])).permute(0,3,1,2)\n",
    "    list_ssim_recover_all_torch.append(ssim(Z_recover,Y_water,size_average=False))"
   ]
  },
  {
   "cell_type": "code",
   "execution_count": null,
   "metadata": {},
   "outputs": [],
   "source": []
  },
  {
   "cell_type": "code",
   "execution_count": 74,
   "metadata": {},
   "outputs": [
    {
     "name": "stdout",
     "output_type": "stream",
     "text": [
      "tensor([1., 1., 1., 1., 1., 1., 1., 1.])\n",
      "tensor([1., 1., 1., 1., 1., 1., 1., 1.])\n",
      "tensor([1., 1., 1., 1., 1., 1., 1., 1.])\n",
      "tensor([1., 1., 1., 1., 1., 1., 1., 1.])\n",
      "tensor([1., 1., 1., 1., 1., 1., 1., 1.])\n",
      "tensor([1., 1., 1., 1., 1., 1., 1., 1.])\n",
      "tensor([1., 1., 1., 1., 1., 1., 1., 1.])\n",
      "tensor([1., 1., 1., 1., 1., 1., 1., 1.])\n"
     ]
    }
   ],
   "source": [
    "for i in range(len(list_d)):\n",
    "    print(list_ssim_recover_all_torch[i])"
   ]
  },
  {
   "cell_type": "code",
   "execution_count": 89,
   "metadata": {},
   "outputs": [],
   "source": [
    "list_image_name =  ['Airplane', 'Baboon', 'House', 'Lena','Peppers','Sailboat','Splash','Tiffany','Average']"
   ]
  },
  {
   "cell_type": "code",
   "execution_count": 85,
   "metadata": {},
   "outputs": [
    {
     "data": {
      "text/plain": [
       "29.547761005363554"
      ]
     },
     "execution_count": 85,
     "metadata": {},
     "output_type": "execute_result"
    }
   ],
   "source": [
    "np.mean(list_PSNR_Recovered_all[3])"
   ]
  },
  {
   "cell_type": "code",
   "execution_count": 77,
   "metadata": {},
   "outputs": [
    {
     "data": {
      "text/plain": [
       "37.99163958245791"
      ]
     },
     "execution_count": 77,
     "metadata": {},
     "output_type": "execute_result"
    }
   ],
   "source": [
    "np.mean(list_PSNR_Recovered_all_w_original[0])"
   ]
  },
  {
   "cell_type": "code",
   "execution_count": 86,
   "metadata": {},
   "outputs": [
    {
     "name": "stdout",
     "output_type": "stream",
     "text": [
      "32.51473631435336\n"
     ]
    }
   ],
   "source": [
    "print(np.mean(list_PSNR_Recovered_all[2]))"
   ]
  },
  {
   "cell_type": "code",
   "execution_count": 87,
   "metadata": {},
   "outputs": [],
   "source": [
    "dict_PSNR = {}\n",
    "dict_SSIM = {}"
   ]
  },
  {
   "cell_type": "code",
   "execution_count": 90,
   "metadata": {},
   "outputs": [],
   "source": [
    "for i in range(8):\n",
    "    dict_PSNR[list_image_name[i]] = [list_PSNR_Recovered_all[j][i] for j in range(8)]\n",
    "dict_PSNR[list_image_name[8]] = [np.mean(list_PSNR_Recovered_all[j]) for j in range(8)]"
   ]
  },
  {
   "cell_type": "code",
   "execution_count": 91,
   "metadata": {},
   "outputs": [],
   "source": [
    "for i in range(8):\n",
    "    dict_SSIM[list_image_name[i]] = [list_SSIM_Recovered_all[j][i] for j in range(8)]\n",
    "dict_SSIM[list_image_name[8]] = [np.mean(list_SSIM_Recovered_all[j]) for j in range(8)]"
   ]
  },
  {
   "cell_type": "code",
   "execution_count": 92,
   "metadata": {},
   "outputs": [
    {
     "name": "stdout",
     "output_type": "stream",
     "text": [
      "[38.615928981898506, 35.36111792783909, 32.51473631435336, 29.547761005363554, 27.093447420365887, 25.19601474777726, 23.43070582008706, 21.39353825656846]\n"
     ]
    }
   ],
   "source": [
    "print(dict_PSNR['Average'])"
   ]
  },
  {
   "cell_type": "code",
   "execution_count": 93,
   "metadata": {},
   "outputs": [],
   "source": [
    "df_PSNR_all = pd.DataFrame.from_dict(dict_PSNR)"
   ]
  },
  {
   "cell_type": "code",
   "execution_count": 94,
   "metadata": {},
   "outputs": [],
   "source": [
    "df_SSIM_all = pd.DataFrame.from_dict(dict_SSIM)"
   ]
  },
  {
   "cell_type": "code",
   "execution_count": 95,
   "metadata": {},
   "outputs": [],
   "source": [
    "df_SSIM_all.to_csv(\"SSIM_all_recovered1.csv\")"
   ]
  },
  {
   "cell_type": "code",
   "execution_count": 96,
   "metadata": {},
   "outputs": [],
   "source": [
    "df_PSNR_all.to_csv(\"PSNR_all_recovered1.csv\")"
   ]
  },
  {
   "cell_type": "code",
   "execution_count": 97,
   "metadata": {},
   "outputs": [],
   "source": [
    "def highlight_max(s):\n",
    "    # Get 5 largest values of the column\n",
    "    is_large1 = s.nlargest(1).values\n",
    "    is_large2 = s.nlargest(2).values\n",
    "    # Apply style is the current value is among the 5 biggest values\n",
    "    return ['color: DarkRed;font-weight:900' if v in is_large1 else 'font-weight:900' if v in is_large2 else '' for v in s]"
   ]
  },
  {
   "cell_type": "code",
   "execution_count": null,
   "metadata": {},
   "outputs": [],
   "source": [
    "# hl_df_ssim = df_all_ssim.style.apply(highlight_max,subset=df_all_ssim.columns[1:],axis = 1).apply(lambda x: ['background: lightgreen' if x.name == 8 else '' for i in x], \n",
    "#                axis=1)"
   ]
  },
  {
   "cell_type": "code",
   "execution_count": 98,
   "metadata": {},
   "outputs": [
    {
     "name": "stderr",
     "output_type": "stream",
     "text": [
      "C:\\Users\\DuyDat\\AppData\\Local\\Temp\\ipykernel_16996\\3007742081.py:3: FutureWarning: this method is deprecated in favour of `Styler.hide(axis='index')`\n",
      "  hl_df_PSNR_all.hide_index()\n"
     ]
    },
    {
     "data": {
      "text/html": [
       "<style type=\"text/css\">\n",
       "#T_1179c_row0_col6, #T_1179c_row1_col6, #T_1179c_row2_col6, #T_1179c_row3_col7, #T_1179c_row4_col7, #T_1179c_row5_col7, #T_1179c_row6_col7, #T_1179c_row7_col7 {\n",
       "  color: DarkRed;\n",
       "  font-weight: 900;\n",
       "}\n",
       "#T_1179c_row0_col7, #T_1179c_row1_col7, #T_1179c_row2_col7, #T_1179c_row3_col6, #T_1179c_row4_col6, #T_1179c_row5_col6, #T_1179c_row6_col6, #T_1179c_row7_col6 {\n",
       "  font-weight: 900;\n",
       "}\n",
       "</style>\n",
       "<table id=\"T_1179c\">\n",
       "  <thead>\n",
       "    <tr>\n",
       "      <th id=\"T_1179c_level0_col0\" class=\"col_heading level0 col0\" >Airplane</th>\n",
       "      <th id=\"T_1179c_level0_col1\" class=\"col_heading level0 col1\" >Baboon</th>\n",
       "      <th id=\"T_1179c_level0_col2\" class=\"col_heading level0 col2\" >House</th>\n",
       "      <th id=\"T_1179c_level0_col3\" class=\"col_heading level0 col3\" >Lena</th>\n",
       "      <th id=\"T_1179c_level0_col4\" class=\"col_heading level0 col4\" >Peppers</th>\n",
       "      <th id=\"T_1179c_level0_col5\" class=\"col_heading level0 col5\" >Sailboat</th>\n",
       "      <th id=\"T_1179c_level0_col6\" class=\"col_heading level0 col6\" >Splash</th>\n",
       "      <th id=\"T_1179c_level0_col7\" class=\"col_heading level0 col7\" >Tiffany</th>\n",
       "      <th id=\"T_1179c_level0_col8\" class=\"col_heading level0 col8\" >Average</th>\n",
       "    </tr>\n",
       "  </thead>\n",
       "  <tbody>\n",
       "    <tr>\n",
       "      <td id=\"T_1179c_row0_col0\" class=\"data row0 col0\" >37.33</td>\n",
       "      <td id=\"T_1179c_row0_col1\" class=\"data row0 col1\" >37.69</td>\n",
       "      <td id=\"T_1179c_row0_col2\" class=\"data row0 col2\" >36.33</td>\n",
       "      <td id=\"T_1179c_row0_col3\" class=\"data row0 col3\" >38.39</td>\n",
       "      <td id=\"T_1179c_row0_col4\" class=\"data row0 col4\" >38.27</td>\n",
       "      <td id=\"T_1179c_row0_col5\" class=\"data row0 col5\" >37.03</td>\n",
       "      <td id=\"T_1179c_row0_col6\" class=\"data row0 col6\" >43.04</td>\n",
       "      <td id=\"T_1179c_row0_col7\" class=\"data row0 col7\" >40.84</td>\n",
       "      <td id=\"T_1179c_row0_col8\" class=\"data row0 col8\" >38.62</td>\n",
       "    </tr>\n",
       "    <tr>\n",
       "      <td id=\"T_1179c_row1_col0\" class=\"data row1 col0\" >34.28</td>\n",
       "      <td id=\"T_1179c_row1_col1\" class=\"data row1 col1\" >33.33</td>\n",
       "      <td id=\"T_1179c_row1_col2\" class=\"data row1 col2\" >33.32</td>\n",
       "      <td id=\"T_1179c_row1_col3\" class=\"data row1 col3\" >34.88</td>\n",
       "      <td id=\"T_1179c_row1_col4\" class=\"data row1 col4\" >35.82</td>\n",
       "      <td id=\"T_1179c_row1_col5\" class=\"data row1 col5\" >33.74</td>\n",
       "      <td id=\"T_1179c_row1_col6\" class=\"data row1 col6\" >39.67</td>\n",
       "      <td id=\"T_1179c_row1_col7\" class=\"data row1 col7\" >37.85</td>\n",
       "      <td id=\"T_1179c_row1_col8\" class=\"data row1 col8\" >35.36</td>\n",
       "    </tr>\n",
       "    <tr>\n",
       "      <td id=\"T_1179c_row2_col0\" class=\"data row2 col0\" >31.75</td>\n",
       "      <td id=\"T_1179c_row2_col1\" class=\"data row2 col1\" >28.87</td>\n",
       "      <td id=\"T_1179c_row2_col2\" class=\"data row2 col2\" >30.97</td>\n",
       "      <td id=\"T_1179c_row2_col3\" class=\"data row2 col3\" >32.22</td>\n",
       "      <td id=\"T_1179c_row2_col4\" class=\"data row2 col4\" >33.62</td>\n",
       "      <td id=\"T_1179c_row2_col5\" class=\"data row2 col5\" >30.83</td>\n",
       "      <td id=\"T_1179c_row2_col6\" class=\"data row2 col6\" >36.19</td>\n",
       "      <td id=\"T_1179c_row2_col7\" class=\"data row2 col7\" >35.67</td>\n",
       "      <td id=\"T_1179c_row2_col8\" class=\"data row2 col8\" >32.51</td>\n",
       "    </tr>\n",
       "    <tr>\n",
       "      <td id=\"T_1179c_row3_col0\" class=\"data row3 col0\" >28.89</td>\n",
       "      <td id=\"T_1179c_row3_col1\" class=\"data row3 col1\" >25.13</td>\n",
       "      <td id=\"T_1179c_row3_col2\" class=\"data row3 col2\" >27.98</td>\n",
       "      <td id=\"T_1179c_row3_col3\" class=\"data row3 col3\" >29.58</td>\n",
       "      <td id=\"T_1179c_row3_col4\" class=\"data row3 col4\" >31.01</td>\n",
       "      <td id=\"T_1179c_row3_col5\" class=\"data row3 col5\" >27.69</td>\n",
       "      <td id=\"T_1179c_row3_col6\" class=\"data row3 col6\" >32.62</td>\n",
       "      <td id=\"T_1179c_row3_col7\" class=\"data row3 col7\" >33.49</td>\n",
       "      <td id=\"T_1179c_row3_col8\" class=\"data row3 col8\" >29.55</td>\n",
       "    </tr>\n",
       "    <tr>\n",
       "      <td id=\"T_1179c_row4_col0\" class=\"data row4 col0\" >26.43</td>\n",
       "      <td id=\"T_1179c_row4_col1\" class=\"data row4 col1\" >22.62</td>\n",
       "      <td id=\"T_1179c_row4_col2\" class=\"data row4 col2\" >25.53</td>\n",
       "      <td id=\"T_1179c_row4_col3\" class=\"data row4 col3\" >27.56</td>\n",
       "      <td id=\"T_1179c_row4_col4\" class=\"data row4 col4\" >28.53</td>\n",
       "      <td id=\"T_1179c_row4_col5\" class=\"data row4 col5\" >25.31</td>\n",
       "      <td id=\"T_1179c_row4_col6\" class=\"data row4 col6\" >29.70</td>\n",
       "      <td id=\"T_1179c_row4_col7\" class=\"data row4 col7\" >31.06</td>\n",
       "      <td id=\"T_1179c_row4_col8\" class=\"data row4 col8\" >27.09</td>\n",
       "    </tr>\n",
       "    <tr>\n",
       "      <td id=\"T_1179c_row5_col0\" class=\"data row5 col0\" >24.65</td>\n",
       "      <td id=\"T_1179c_row5_col1\" class=\"data row5 col1\" >20.83</td>\n",
       "      <td id=\"T_1179c_row5_col2\" class=\"data row5 col2\" >23.75</td>\n",
       "      <td id=\"T_1179c_row5_col3\" class=\"data row5 col3\" >25.81</td>\n",
       "      <td id=\"T_1179c_row5_col4\" class=\"data row5 col4\" >26.54</td>\n",
       "      <td id=\"T_1179c_row5_col5\" class=\"data row5 col5\" >23.38</td>\n",
       "      <td id=\"T_1179c_row5_col6\" class=\"data row5 col6\" >27.70</td>\n",
       "      <td id=\"T_1179c_row5_col7\" class=\"data row5 col7\" >28.91</td>\n",
       "      <td id=\"T_1179c_row5_col8\" class=\"data row5 col8\" >25.20</td>\n",
       "    </tr>\n",
       "    <tr>\n",
       "      <td id=\"T_1179c_row6_col0\" class=\"data row6 col0\" >23.07</td>\n",
       "      <td id=\"T_1179c_row6_col1\" class=\"data row6 col1\" >19.42</td>\n",
       "      <td id=\"T_1179c_row6_col2\" class=\"data row6 col2\" >22.10</td>\n",
       "      <td id=\"T_1179c_row6_col3\" class=\"data row6 col3\" >24.19</td>\n",
       "      <td id=\"T_1179c_row6_col4\" class=\"data row6 col4\" >24.12</td>\n",
       "      <td id=\"T_1179c_row6_col5\" class=\"data row6 col5\" >21.20</td>\n",
       "      <td id=\"T_1179c_row6_col6\" class=\"data row6 col6\" >26.22</td>\n",
       "      <td id=\"T_1179c_row6_col7\" class=\"data row6 col7\" >27.13</td>\n",
       "      <td id=\"T_1179c_row6_col8\" class=\"data row6 col8\" >23.43</td>\n",
       "    </tr>\n",
       "    <tr>\n",
       "      <td id=\"T_1179c_row7_col0\" class=\"data row7 col0\" >21.09</td>\n",
       "      <td id=\"T_1179c_row7_col1\" class=\"data row7 col1\" >17.98</td>\n",
       "      <td id=\"T_1179c_row7_col2\" class=\"data row7 col2\" >20.06</td>\n",
       "      <td id=\"T_1179c_row7_col3\" class=\"data row7 col3\" >22.29</td>\n",
       "      <td id=\"T_1179c_row7_col4\" class=\"data row7 col4\" >21.90</td>\n",
       "      <td id=\"T_1179c_row7_col5\" class=\"data row7 col5\" >18.99</td>\n",
       "      <td id=\"T_1179c_row7_col6\" class=\"data row7 col6\" >23.51</td>\n",
       "      <td id=\"T_1179c_row7_col7\" class=\"data row7 col7\" >25.32</td>\n",
       "      <td id=\"T_1179c_row7_col8\" class=\"data row7 col8\" >21.39</td>\n",
       "    </tr>\n",
       "  </tbody>\n",
       "</table>\n"
      ],
      "text/plain": [
       "<pandas.io.formats.style.Styler at 0x15c08d63c10>"
      ]
     },
     "execution_count": 98,
     "metadata": {},
     "output_type": "execute_result"
    }
   ],
   "source": [
    "hl_df_PSNR_all = df_PSNR_all.style.apply(highlight_max,subset=df_PSNR_all.columns[:],axis=1)\n",
    "hl_df_PSNR_all.format(precision=2)\n",
    "hl_df_PSNR_all.hide_index()"
   ]
  },
  {
   "cell_type": "code",
   "execution_count": 99,
   "metadata": {},
   "outputs": [
    {
     "name": "stderr",
     "output_type": "stream",
     "text": [
      "C:\\Users\\DuyDat\\AppData\\Local\\Temp\\ipykernel_16996\\3815801646.py:3: FutureWarning: this method is deprecated in favour of `Styler.hide(axis='index')`\n",
      "  hl_df_SSIM_all.hide_index()\n"
     ]
    },
    {
     "data": {
      "text/html": [
       "<style type=\"text/css\">\n",
       "#T_62290_row0_col0, #T_62290_row1_col0, #T_62290_row2_col0, #T_62290_row3_col0, #T_62290_row4_col0, #T_62290_row5_col0, #T_62290_row6_col0, #T_62290_row7_col0 {\n",
       "  font-weight: 900;\n",
       "}\n",
       "#T_62290_row0_col6, #T_62290_row1_col6, #T_62290_row2_col6, #T_62290_row3_col6, #T_62290_row4_col6, #T_62290_row5_col6, #T_62290_row6_col6, #T_62290_row7_col6 {\n",
       "  color: DarkRed;\n",
       "  font-weight: 900;\n",
       "}\n",
       "</style>\n",
       "<table id=\"T_62290\">\n",
       "  <thead>\n",
       "    <tr>\n",
       "      <th id=\"T_62290_level0_col0\" class=\"col_heading level0 col0\" >Airplane</th>\n",
       "      <th id=\"T_62290_level0_col1\" class=\"col_heading level0 col1\" >Baboon</th>\n",
       "      <th id=\"T_62290_level0_col2\" class=\"col_heading level0 col2\" >House</th>\n",
       "      <th id=\"T_62290_level0_col3\" class=\"col_heading level0 col3\" >Lena</th>\n",
       "      <th id=\"T_62290_level0_col4\" class=\"col_heading level0 col4\" >Peppers</th>\n",
       "      <th id=\"T_62290_level0_col5\" class=\"col_heading level0 col5\" >Sailboat</th>\n",
       "      <th id=\"T_62290_level0_col6\" class=\"col_heading level0 col6\" >Splash</th>\n",
       "      <th id=\"T_62290_level0_col7\" class=\"col_heading level0 col7\" >Tiffany</th>\n",
       "      <th id=\"T_62290_level0_col8\" class=\"col_heading level0 col8\" >Average</th>\n",
       "    </tr>\n",
       "  </thead>\n",
       "  <tbody>\n",
       "    <tr>\n",
       "      <td id=\"T_62290_row0_col0\" class=\"data row0 col0\" >0.9899</td>\n",
       "      <td id=\"T_62290_row0_col1\" class=\"data row0 col1\" >0.9812</td>\n",
       "      <td id=\"T_62290_row0_col2\" class=\"data row0 col2\" >0.9868</td>\n",
       "      <td id=\"T_62290_row0_col3\" class=\"data row0 col3\" >0.9887</td>\n",
       "      <td id=\"T_62290_row0_col4\" class=\"data row0 col4\" >0.9844</td>\n",
       "      <td id=\"T_62290_row0_col5\" class=\"data row0 col5\" >0.9838</td>\n",
       "      <td id=\"T_62290_row0_col6\" class=\"data row0 col6\" >0.9918</td>\n",
       "      <td id=\"T_62290_row0_col7\" class=\"data row0 col7\" >0.9875</td>\n",
       "      <td id=\"T_62290_row0_col8\" class=\"data row0 col8\" >0.9868</td>\n",
       "    </tr>\n",
       "    <tr>\n",
       "      <td id=\"T_62290_row1_col0\" class=\"data row1 col0\" >0.9801</td>\n",
       "      <td id=\"T_62290_row1_col1\" class=\"data row1 col1\" >0.9593</td>\n",
       "      <td id=\"T_62290_row1_col2\" class=\"data row1 col2\" >0.9708</td>\n",
       "      <td id=\"T_62290_row1_col3\" class=\"data row1 col3\" >0.9738</td>\n",
       "      <td id=\"T_62290_row1_col4\" class=\"data row1 col4\" >0.9685</td>\n",
       "      <td id=\"T_62290_row1_col5\" class=\"data row1 col5\" >0.9694</td>\n",
       "      <td id=\"T_62290_row1_col6\" class=\"data row1 col6\" >0.9826</td>\n",
       "      <td id=\"T_62290_row1_col7\" class=\"data row1 col7\" >0.9745</td>\n",
       "      <td id=\"T_62290_row1_col8\" class=\"data row1 col8\" >0.9724</td>\n",
       "    </tr>\n",
       "    <tr>\n",
       "      <td id=\"T_62290_row2_col0\" class=\"data row2 col0\" >0.9663</td>\n",
       "      <td id=\"T_62290_row2_col1\" class=\"data row2 col1\" >0.9249</td>\n",
       "      <td id=\"T_62290_row2_col2\" class=\"data row2 col2\" >0.9520</td>\n",
       "      <td id=\"T_62290_row2_col3\" class=\"data row2 col3\" >0.9547</td>\n",
       "      <td id=\"T_62290_row2_col4\" class=\"data row2 col4\" >0.9489</td>\n",
       "      <td id=\"T_62290_row2_col5\" class=\"data row2 col5\" >0.9490</td>\n",
       "      <td id=\"T_62290_row2_col6\" class=\"data row2 col6\" >0.9699</td>\n",
       "      <td id=\"T_62290_row2_col7\" class=\"data row2 col7\" >0.9597</td>\n",
       "      <td id=\"T_62290_row2_col8\" class=\"data row2 col8\" >0.9532</td>\n",
       "    </tr>\n",
       "    <tr>\n",
       "      <td id=\"T_62290_row3_col0\" class=\"data row3 col0\" >0.9415</td>\n",
       "      <td id=\"T_62290_row3_col1\" class=\"data row3 col1\" >0.8649</td>\n",
       "      <td id=\"T_62290_row3_col2\" class=\"data row3 col2\" >0.9188</td>\n",
       "      <td id=\"T_62290_row3_col3\" class=\"data row3 col3\" >0.9244</td>\n",
       "      <td id=\"T_62290_row3_col4\" class=\"data row3 col4\" >0.9200</td>\n",
       "      <td id=\"T_62290_row3_col5\" class=\"data row3 col5\" >0.9160</td>\n",
       "      <td id=\"T_62290_row3_col6\" class=\"data row3 col6\" >0.9491</td>\n",
       "      <td id=\"T_62290_row3_col7\" class=\"data row3 col7\" >0.9357</td>\n",
       "      <td id=\"T_62290_row3_col8\" class=\"data row3 col8\" >0.9213</td>\n",
       "    </tr>\n",
       "    <tr>\n",
       "      <td id=\"T_62290_row4_col0\" class=\"data row4 col0\" >0.9090</td>\n",
       "      <td id=\"T_62290_row4_col1\" class=\"data row4 col1\" >0.7910</td>\n",
       "      <td id=\"T_62290_row4_col2\" class=\"data row4 col2\" >0.8793</td>\n",
       "      <td id=\"T_62290_row4_col3\" class=\"data row4 col3\" >0.8870</td>\n",
       "      <td id=\"T_62290_row4_col4\" class=\"data row4 col4\" >0.8846</td>\n",
       "      <td id=\"T_62290_row4_col5\" class=\"data row4 col5\" >0.8714</td>\n",
       "      <td id=\"T_62290_row4_col6\" class=\"data row4 col6\" >0.9227</td>\n",
       "      <td id=\"T_62290_row4_col7\" class=\"data row4 col7\" >0.9012</td>\n",
       "      <td id=\"T_62290_row4_col8\" class=\"data row4 col8\" >0.8808</td>\n",
       "    </tr>\n",
       "    <tr>\n",
       "      <td id=\"T_62290_row5_col0\" class=\"data row5 col0\" >0.8700</td>\n",
       "      <td id=\"T_62290_row5_col1\" class=\"data row5 col1\" >0.7029</td>\n",
       "      <td id=\"T_62290_row5_col2\" class=\"data row5 col2\" >0.8279</td>\n",
       "      <td id=\"T_62290_row5_col3\" class=\"data row5 col3\" >0.8432</td>\n",
       "      <td id=\"T_62290_row5_col4\" class=\"data row5 col4\" >0.8455</td>\n",
       "      <td id=\"T_62290_row5_col5\" class=\"data row5 col5\" >0.8148</td>\n",
       "      <td id=\"T_62290_row5_col6\" class=\"data row5 col6\" >0.8896</td>\n",
       "      <td id=\"T_62290_row5_col7\" class=\"data row5 col7\" >0.8580</td>\n",
       "      <td id=\"T_62290_row5_col8\" class=\"data row5 col8\" >0.8315</td>\n",
       "    </tr>\n",
       "    <tr>\n",
       "      <td id=\"T_62290_row6_col0\" class=\"data row6 col0\" >0.8201</td>\n",
       "      <td id=\"T_62290_row6_col1\" class=\"data row6 col1\" >0.5989</td>\n",
       "      <td id=\"T_62290_row6_col2\" class=\"data row6 col2\" >0.7642</td>\n",
       "      <td id=\"T_62290_row6_col3\" class=\"data row6 col3\" >0.7898</td>\n",
       "      <td id=\"T_62290_row6_col4\" class=\"data row6 col4\" >0.7900</td>\n",
       "      <td id=\"T_62290_row6_col5\" class=\"data row6 col5\" >0.7404</td>\n",
       "      <td id=\"T_62290_row6_col6\" class=\"data row6 col6\" >0.8525</td>\n",
       "      <td id=\"T_62290_row6_col7\" class=\"data row6 col7\" >0.8035</td>\n",
       "      <td id=\"T_62290_row6_col8\" class=\"data row6 col8\" >0.7699</td>\n",
       "    </tr>\n",
       "    <tr>\n",
       "      <td id=\"T_62290_row7_col0\" class=\"data row7 col0\" >0.7449</td>\n",
       "      <td id=\"T_62290_row7_col1\" class=\"data row7 col1\" >0.4634</td>\n",
       "      <td id=\"T_62290_row7_col2\" class=\"data row7 col2\" >0.6692</td>\n",
       "      <td id=\"T_62290_row7_col3\" class=\"data row7 col3\" >0.7119</td>\n",
       "      <td id=\"T_62290_row7_col4\" class=\"data row7 col4\" >0.7206</td>\n",
       "      <td id=\"T_62290_row7_col5\" class=\"data row7 col5\" >0.6334</td>\n",
       "      <td id=\"T_62290_row7_col6\" class=\"data row7 col6\" >0.7847</td>\n",
       "      <td id=\"T_62290_row7_col7\" class=\"data row7 col7\" >0.7342</td>\n",
       "      <td id=\"T_62290_row7_col8\" class=\"data row7 col8\" >0.6828</td>\n",
       "    </tr>\n",
       "  </tbody>\n",
       "</table>\n"
      ],
      "text/plain": [
       "<pandas.io.formats.style.Styler at 0x15c08d60730>"
      ]
     },
     "execution_count": 99,
     "metadata": {},
     "output_type": "execute_result"
    }
   ],
   "source": [
    "hl_df_SSIM_all = df_SSIM_all.style.apply(highlight_max,subset=df_SSIM_all.columns[:],axis=1)\n",
    "hl_df_SSIM_all.format(precision=4)\n",
    "hl_df_SSIM_all.hide_index()"
   ]
  },
  {
   "cell_type": "code",
   "execution_count": null,
   "metadata": {},
   "outputs": [],
   "source": [
    "# hl_df_ssim.format(precision=4)\n",
    "# hl_df_ssim.hide_index()"
   ]
  },
  {
   "cell_type": "code",
   "execution_count": 102,
   "metadata": {},
   "outputs": [],
   "source": [
    "dfi.export(\n",
    "    hl_df_PSNR_all,\n",
    "    \"results/PSNR_recovered_Images.png\",\n",
    "    fontsize=12,\n",
    ")"
   ]
  },
  {
   "cell_type": "code",
   "execution_count": 103,
   "metadata": {},
   "outputs": [],
   "source": [
    "dfi.export(\n",
    "    hl_df_SSIM_all,\n",
    "    \"results/SSIM_recovered_Images.png\",\n",
    "    fontsize=12,\n",
    ")"
   ]
  }
 ],
 "metadata": {
  "kernelspec": {
   "display_name": "pythonENV",
   "language": "python",
   "name": "python3"
  },
  "language_info": {
   "codemirror_mode": {
    "name": "ipython",
    "version": 3
   },
   "file_extension": ".py",
   "mimetype": "text/x-python",
   "name": "python",
   "nbconvert_exporter": "python",
   "pygments_lexer": "ipython3",
   "version": "3.10.9"
  },
  "orig_nbformat": 4
 },
 "nbformat": 4,
 "nbformat_minor": 2
}
