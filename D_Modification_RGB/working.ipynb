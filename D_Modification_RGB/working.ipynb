{
 "cells": [
  {
   "cell_type": "code",
   "execution_count": 1,
   "metadata": {},
   "outputs": [],
   "source": [
    "import cv2\n",
    "import numpy as np\n"
   ]
  },
  {
   "cell_type": "code",
   "execution_count": 2,
   "metadata": {},
   "outputs": [],
   "source": [
    "image = cv2.imread(\"D:\\\\Dat_Hoctap\\\\2023\\\\Tamper_Recover\\\\Data\\\\bmp\\\\lena.bmp\")"
   ]
  },
  {
   "cell_type": "code",
   "execution_count": 11,
   "metadata": {},
   "outputs": [],
   "source": [
    "def check_one_block(B,th):\n",
    "    diff_value = np.zeros((2,2),dtype=np.int16)\n",
    "    avg_B = np.mean(B).round().astype(np.uint8)\n",
    "    bits_B =  np.unpackbits(avg_B)\n",
    "    bits_B[6] = 0\n",
    "    bits_B[7] = 0\n",
    "    avg_B = np.packbits(bits_B)\n",
    "    is_smooth = True\n",
    "    \n",
    "    for i in range(2):\n",
    "        for j in range(2):\n",
    "            bits = np.unpackbits(B[i,j])\n",
    "            bits[6] = 0\n",
    "            bits[7] = 0\n",
    "            e_value = np.packbits(bits)\n",
    "            diff_value[i,j] = int(e_value) - int(avg_B)\n",
    "            if np.abs(diff_value[i,j]) > th:\n",
    "                is_smooth = False\n",
    "\n",
    "    return diff_value,is_smooth,avg_B\n"
   ]
  },
  {
   "cell_type": "code",
   "execution_count": 19,
   "metadata": {},
   "outputs": [],
   "source": [
    "def smooth_infor(array,th):\n",
    "    nr,nc = array.shape\n",
    "    nr_table = int(nr/2)\n",
    "    nc_table = int(nc/2)\n",
    "    avg_image = np.zeros((nr_table,nc_table),dtype=np.uint8)\n",
    "    n_smooth_b = 0\n",
    "    diff_value = np.zeros((nr,nc),dtype=np.int16)\n",
    "    diff_non_smooth = []\n",
    "    for ir in range(nr_table):\n",
    "        for ic in range(nc_table):\n",
    "            B = array[ir*2:ir*2+2,ic*2:ic*2+2]\n",
    "            diff_value[ir*2:ir*2+2,ic*2:ic*2+2],is_smooth = check_one_block(B,th)\n",
    "            if is_smooth : n_smooth_b += 1\n",
    "            else:\n",
    "                diff_non_smooth.append(diff_value[ir*2:ir*2+2,ic*2:ic*2+2])\n",
    "    return diff_value,n_smooth_b,diff_non_smooth\n",
    "\n"
   ]
  },
  {
   "cell_type": "code",
   "execution_count": 20,
   "metadata": {},
   "outputs": [],
   "source": [
    "diff_image = np.zeros_like(image,dtype=np.int16)\n",
    "n_smooth_b = np.zeros(3)\n",
    "diff_non_smooth = []\n",
    "for i in range(3):\n",
    "    diff_image[:,:,i],n_smooth_b[i],tmp = smooth_infor(image[:,:,i],th)\n",
    "    diff_non_smooth.append(tmp)"
   ]
  },
  {
   "cell_type": "code",
   "execution_count": 21,
   "metadata": {},
   "outputs": [],
   "source": [
    "first = np.array(diff_non_smooth[0])"
   ]
  },
  {
   "cell_type": "code",
   "execution_count": 24,
   "metadata": {},
   "outputs": [
    {
     "name": "stdout",
     "output_type": "stream",
     "text": [
      "-76\n",
      "76\n"
     ]
    }
   ],
   "source": [
    "print(first.min())\n",
    "print(first.max())"
   ]
  },
  {
   "cell_type": "code",
   "execution_count": 17,
   "metadata": {},
   "outputs": [
    {
     "name": "stdout",
     "output_type": "stream",
     "text": [
      "[4883. 5973. 3826.]\n",
      "65536\n"
     ]
    }
   ],
   "source": [
    "print(256*256 - n_smooth_b)\n",
    "print(256*256)"
   ]
  }
 ],
 "metadata": {
  "kernelspec": {
   "display_name": "pythonENV",
   "language": "python",
   "name": "python3"
  },
  "language_info": {
   "codemirror_mode": {
    "name": "ipython",
    "version": 3
   },
   "file_extension": ".py",
   "mimetype": "text/x-python",
   "name": "python",
   "nbconvert_exporter": "python",
   "pygments_lexer": "ipython3",
   "version": "3.10.8"
  },
  "orig_nbformat": 4
 },
 "nbformat": 4,
 "nbformat_minor": 2
}
