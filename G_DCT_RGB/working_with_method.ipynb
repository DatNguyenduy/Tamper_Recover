{
 "cells": [
  {
   "cell_type": "code",
   "execution_count": 8,
   "metadata": {},
   "outputs": [],
   "source": [
    "import cv2\n",
    "import numpy as np"
   ]
  },
  {
   "cell_type": "code",
   "execution_count": 2,
   "metadata": {},
   "outputs": [],
   "source": [
    "image = cv2.imread(\"D:\\\\Dat_Hoctap\\\\2023\\\\Tamper_Recover\\\\A_Data\\\\bmp\\\\lena.bmp\")"
   ]
  },
  {
   "cell_type": "code",
   "execution_count": 49,
   "metadata": {},
   "outputs": [],
   "source": [
    "block_8x8 = image[:8,:8,0].copy()\n",
    "bits = np.unpackbits(block_8x8)\n",
    "array_bits = bits.reshape((8,8,8))\n",
    "array_bits[:,:,-2:] = 0"
   ]
  },
  {
   "cell_type": "code",
   "execution_count": 17,
   "metadata": {},
   "outputs": [],
   "source": [
    "new_block = np.packbits(array_bits).reshape((8,8))"
   ]
  },
  {
   "cell_type": "code",
   "execution_count": 16,
   "metadata": {},
   "outputs": [
    {
     "name": "stdout",
     "output_type": "stream",
     "text": [
      "(64,)\n"
     ]
    }
   ],
   "source": [
    "print(new_block.shape)"
   ]
  },
  {
   "cell_type": "code",
   "execution_count": 18,
   "metadata": {},
   "outputs": [
    {
     "name": "stdout",
     "output_type": "stream",
     "text": [
      "[[121 121 129 121 121 113 121 121]\n",
      " [121 121 129 121 121 113 121 121]\n",
      " [121 121 129 121 121 113 121 121]\n",
      " [121 121 129 121 121 113 121 121]\n",
      " [121 121 129 121 121 113 121 121]\n",
      " [121 121 105 109 121 113 121 105]\n",
      " [121 121 109 113 121 105 113 101]\n",
      " [121 121 101 109 121 113 109 105]]\n"
     ]
    }
   ],
   "source": [
    "print(block_8x8)"
   ]
  },
  {
   "cell_type": "code",
   "execution_count": 19,
   "metadata": {},
   "outputs": [
    {
     "name": "stdout",
     "output_type": "stream",
     "text": [
      "[[120 120 128 120 120 112 120 120]\n",
      " [120 120 128 120 120 112 120 120]\n",
      " [120 120 128 120 120 112 120 120]\n",
      " [120 120 128 120 120 112 120 120]\n",
      " [120 120 128 120 120 112 120 120]\n",
      " [120 120 104 108 120 112 120 104]\n",
      " [120 120 108 112 120 104 112 100]\n",
      " [120 120 100 108 120 112 108 104]]\n"
     ]
    }
   ],
   "source": [
    "print(new_block)"
   ]
  },
  {
   "cell_type": "code",
   "execution_count": null,
   "metadata": {},
   "outputs": [],
   "source": []
  },
  {
   "cell_type": "code",
   "execution_count": 40,
   "metadata": {},
   "outputs": [],
   "source": [
    "c = np.array(cv2.dct(np.array(new_block,dtype = np.float32)),dtype=np.int32)"
   ]
  },
  {
   "cell_type": "code",
   "execution_count": 60,
   "metadata": {},
   "outputs": [
    {
     "name": "stdout",
     "output_type": "stream",
     "text": [
      "[[937  17   0  -1   2   0 -11  14]\n",
      " [ 26  -5   0 -23  -2   6  12   4]\n",
      " [-11   3   0   9   2  -4  -3  -3]\n",
      " [ -1   0   0   2  -2   2  -3   1]\n",
      " [  6  -1   0  -5   1  -1   5  -1]\n",
      " [ -2   3  -1   0   0   1  -2   1]\n",
      " [ -2  -3   2   7  -1  -1  -1  -1]\n",
      " [  3   2  -1  -6   0   1   2   1]]\n"
     ]
    }
   ],
   "source": [
    "print(c)"
   ]
  },
  {
   "cell_type": "code",
   "execution_count": 59,
   "metadata": {},
   "outputs": [
    {
     "name": "stdout",
     "output_type": "stream",
     "text": [
      "-11\n"
     ]
    }
   ],
   "source": [
    "print(int(format(c[2,0],'b'),2))"
   ]
  },
  {
   "cell_type": "code",
   "execution_count": 61,
   "metadata": {},
   "outputs": [],
   "source": [
    "test_bits = format(c[2,0],'b')"
   ]
  },
  {
   "cell_type": "code",
   "execution_count": 62,
   "metadata": {},
   "outputs": [
    {
     "data": {
      "text/plain": [
       "'-1011'"
      ]
     },
     "execution_count": 62,
     "metadata": {},
     "output_type": "execute_result"
    }
   ],
   "source": [
    "test_bits"
   ]
  },
  {
   "cell_type": "code",
   "execution_count": 65,
   "metadata": {},
   "outputs": [],
   "source": [
    "new_test_bits = test_bits[:-1] + '0'"
   ]
  },
  {
   "cell_type": "code",
   "execution_count": 66,
   "metadata": {},
   "outputs": [
    {
     "name": "stdout",
     "output_type": "stream",
     "text": [
      "-10\n"
     ]
    }
   ],
   "source": [
    "print(int(new_test_bits,2))"
   ]
  },
  {
   "cell_type": "code",
   "execution_count": 41,
   "metadata": {},
   "outputs": [],
   "source": [
    "i_block = cv2.idct(np.array(c,dtype=np.float32))"
   ]
  },
  {
   "cell_type": "code",
   "execution_count": 42,
   "metadata": {},
   "outputs": [
    {
     "name": "stdout",
     "output_type": "stream",
     "text": [
      "[[120 120 128 120 119 112 119 119]\n",
      " [119 119 127 120 119 111 119 120]\n",
      " [120 119 127 119 119 112 120 119]\n",
      " [120 119 127 120 120 111 119 119]\n",
      " [119 120 127 120 119 111 119 118]\n",
      " [119 119 105 109 120 111 119 104]\n",
      " [119 120 107 111 119 105 112 100]\n",
      " [119 119 101 108 120 111 109 103]]\n"
     ]
    }
   ],
   "source": [
    "print(np.array(i_block,dtype=np.uint8))"
   ]
  },
  {
   "cell_type": "code",
   "execution_count": 37,
   "metadata": {},
   "outputs": [],
   "source": [
    "mse = np.mean((np.array(np.array(i_block,dtype=np.uint8),dtype = np.float32) - np.array(block_8x8,dtype=np.float32))**2)"
   ]
  },
  {
   "cell_type": "code",
   "execution_count": 39,
   "metadata": {},
   "outputs": [
    {
     "name": "stdout",
     "output_type": "stream",
     "text": [
      "49.66047821076454\n"
     ]
    }
   ],
   "source": [
    "print(cv2.PSNR(block_8x8,np.array(i_block,dtype=np.uint8)))"
   ]
  },
  {
   "attachments": {},
   "cell_type": "markdown",
   "metadata": {},
   "source": [
    "2,0 1,1 0,2 0,3"
   ]
  },
  {
   "cell_type": "code",
   "execution_count": 43,
   "metadata": {},
   "outputs": [
    {
     "name": "stdout",
     "output_type": "stream",
     "text": [
      "[[937  17   0  -1   2   0 -11  14]\n",
      " [ 26  -5   0 -23  -2   6  12   4]\n",
      " [-11   3   0   9   2  -4  -3  -3]\n",
      " [ -1   0   0   2  -2   2  -3   1]\n",
      " [  6  -1   0  -5   1  -1   5  -1]\n",
      " [ -2   3  -1   0   0   1  -2   1]\n",
      " [ -2  -3   2   7  -1  -1  -1  -1]\n",
      " [  3   2  -1  -6   0   1   2   1]]\n"
     ]
    }
   ],
   "source": [
    "print(c)"
   ]
  },
  {
   "cell_type": "code",
   "execution_count": 78,
   "metadata": {},
   "outputs": [],
   "source": [
    "def embed_onebit(c,bit):\n",
    "    bits =  format(c,'b')\n",
    "    new_bits = bits[:-1] + format(bit,'b')\n",
    "    return int(bits,2)"
   ]
  },
  {
   "cell_type": "code",
   "execution_count": 79,
   "metadata": {},
   "outputs": [],
   "source": [
    "def embed_4bits(block_8x8,bits):\n",
    "    block_bits = np.unpackbits(block_8x8)\n",
    "    array_bits = block_bits.reshape((8,8,8))\n",
    "    # array_bits[:,:,-2:] = 0\n",
    "    new_block = np.packbits(array_bits).reshape((8,8))\n",
    "    coeff = np.array(cv2.dct(np.array(new_block,dtype = np.float32)),dtype=np.int32)\n",
    "\n",
    "    list_loc = [[2,0],[1,1],[0,2],[0,3]]\n",
    "    for i in range(4):\n",
    "        r,c = list_loc[i]\n",
    "        coeff[r,c] = embed_onebit(coeff[r,c],bit=bits[i])\n",
    "    i_block = cv2.idct(np.array(coeff,dtype=np.float32))\n",
    "    return np.array(i_block,dtype=np.uint8)"
   ]
  },
  {
   "cell_type": "code",
   "execution_count": 80,
   "metadata": {},
   "outputs": [],
   "source": [
    "def extract_4bits(w_block_8x8):\n",
    "    block_bits = np.unpackbits(w_block_8x8)\n",
    "    array_bits = block_bits.reshape((8,8,8))\n",
    "    # array_bits[:,:,-2:] = 0\n",
    "    new_block = np.packbits(array_bits).reshape((8,8))\n",
    "    coeff = np.array(cv2.dct(np.array(new_block,dtype = np.float32)),dtype=np.int32)\n",
    "    list_loc = [[2,0],[1,1],[0,2],[0,3]]\n",
    "    w_bits = []\n",
    "    for i in range(4):\n",
    "        r,c = list_loc[i]\n",
    "        bits =  format(coeff[r,c],'b')\n",
    "        w_bits.append(bits[-1])\n",
    "    return w_bits"
   ]
  },
  {
   "cell_type": "code",
   "execution_count": 81,
   "metadata": {},
   "outputs": [],
   "source": [
    "list_bits = []\n",
    "for i in range(2):\n",
    "    for j in range(2):\n",
    "        for k in range(2):\n",
    "            for l in range(2):\n",
    "                list_bits.append([i,j,k,l])"
   ]
  },
  {
   "cell_type": "code",
   "execution_count": 75,
   "metadata": {},
   "outputs": [
    {
     "name": "stdout",
     "output_type": "stream",
     "text": [
      "16\n"
     ]
    }
   ],
   "source": [
    "print(len(list_bits))"
   ]
  },
  {
   "cell_type": "code",
   "execution_count": 87,
   "metadata": {},
   "outputs": [],
   "source": [
    "out_list = []\n",
    "for bits in list_bits[1:2]:\n",
    "    w_block = embed_4bits(block_8x8=block_8x8,bits=bits)\n",
    "    out_list.append(extract_4bits(w_block_8x8=w_block))\n",
    "\n",
    "    "
   ]
  },
  {
   "cell_type": "code",
   "execution_count": 88,
   "metadata": {},
   "outputs": [
    {
     "data": {
      "text/plain": [
       "[['0', '0', '0', '1']]"
      ]
     },
     "execution_count": 88,
     "metadata": {},
     "output_type": "execute_result"
    }
   ],
   "source": [
    "out_list"
   ]
  }
 ],
 "metadata": {
  "kernelspec": {
   "display_name": "pythonENV",
   "language": "python",
   "name": "python3"
  },
  "language_info": {
   "codemirror_mode": {
    "name": "ipython",
    "version": 3
   },
   "file_extension": ".py",
   "mimetype": "text/x-python",
   "name": "python",
   "nbconvert_exporter": "python",
   "pygments_lexer": "ipython3",
   "version": "3.10.9"
  },
  "orig_nbformat": 4
 },
 "nbformat": 4,
 "nbformat_minor": 2
}
